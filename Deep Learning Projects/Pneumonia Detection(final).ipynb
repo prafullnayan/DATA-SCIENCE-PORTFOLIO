{
  "nbformat": 4,
  "nbformat_minor": 0,
  "metadata": {
    "colab": {
      "name": "chest_xray(final)",
      "provenance": [],
      "collapsed_sections": []
    },
    "kernelspec": {
      "name": "python3",
      "display_name": "Python 3"
    },
    "accelerator": "GPU"
  },
  "cells": [
    {
      "cell_type": "code",
      "metadata": {
        "id": "wMHc2jJkv0Af",
        "colab_type": "code",
        "colab": {
          "base_uri": "https://localhost:8080/",
          "height": 202
        },
        "outputId": "2626df01-bf91-4d85-c3a6-52f4b27e9d8a"
      },
      "source": [
        "!pip install kaggle"
      ],
      "execution_count": 1,
      "outputs": [
        {
          "output_type": "stream",
          "text": [
            "Requirement already satisfied: kaggle in /usr/local/lib/python3.6/dist-packages (1.5.6)\n",
            "Requirement already satisfied: requests in /usr/local/lib/python3.6/dist-packages (from kaggle) (2.23.0)\n",
            "Requirement already satisfied: python-dateutil in /usr/local/lib/python3.6/dist-packages (from kaggle) (2.8.1)\n",
            "Requirement already satisfied: six>=1.10 in /usr/local/lib/python3.6/dist-packages (from kaggle) (1.15.0)\n",
            "Requirement already satisfied: tqdm in /usr/local/lib/python3.6/dist-packages (from kaggle) (4.41.1)\n",
            "Requirement already satisfied: python-slugify in /usr/local/lib/python3.6/dist-packages (from kaggle) (4.0.1)\n",
            "Requirement already satisfied: certifi in /usr/local/lib/python3.6/dist-packages (from kaggle) (2020.6.20)\n",
            "Requirement already satisfied: urllib3<1.25,>=1.21.1 in /usr/local/lib/python3.6/dist-packages (from kaggle) (1.24.3)\n",
            "Requirement already satisfied: chardet<4,>=3.0.2 in /usr/local/lib/python3.6/dist-packages (from requests->kaggle) (3.0.4)\n",
            "Requirement already satisfied: idna<3,>=2.5 in /usr/local/lib/python3.6/dist-packages (from requests->kaggle) (2.10)\n",
            "Requirement already satisfied: text-unidecode>=1.3 in /usr/local/lib/python3.6/dist-packages (from python-slugify->kaggle) (1.3)\n"
          ],
          "name": "stdout"
        }
      ]
    },
    {
      "cell_type": "code",
      "metadata": {
        "id": "u1k0dNEfwGng",
        "colab_type": "code",
        "colab": {
          "resources": {
            "http://localhost:8080/nbextensions/google.colab/files.js": {
              "data": "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",
              "ok": true,
              "headers": [
                [
                  "content-type",
                  "application/javascript"
                ]
              ],
              "status": 200,
              "status_text": ""
            }
          },
          "base_uri": "https://localhost:8080/",
          "height": 90
        },
        "outputId": "49814ba7-e961-41ae-a868-0834b2e8c686"
      },
      "source": [
        "from google.colab import files\n",
        "files.upload()"
      ],
      "execution_count": 2,
      "outputs": [
        {
          "output_type": "display_data",
          "data": {
            "text/html": [
              "\n",
              "     <input type=\"file\" id=\"files-76b7584a-06bc-4b3b-8367-bab25fd6d385\" name=\"files[]\" multiple disabled\n",
              "        style=\"border:none\" />\n",
              "     <output id=\"result-76b7584a-06bc-4b3b-8367-bab25fd6d385\">\n",
              "      Upload widget is only available when the cell has been executed in the\n",
              "      current browser session. Please rerun this cell to enable.\n",
              "      </output>\n",
              "      <script src=\"/nbextensions/google.colab/files.js\"></script> "
            ],
            "text/plain": [
              "<IPython.core.display.HTML object>"
            ]
          },
          "metadata": {
            "tags": []
          }
        },
        {
          "output_type": "stream",
          "text": [
            "Saving kaggle.json to kaggle.json\n"
          ],
          "name": "stdout"
        },
        {
          "output_type": "execute_result",
          "data": {
            "text/plain": [
              "{'kaggle.json': b'{\"username\":\"prafullnayan\",\"key\":\"0bcabf96ae2799c53bdb34294b627af3\"}'}"
            ]
          },
          "metadata": {
            "tags": []
          },
          "execution_count": 2
        }
      ]
    },
    {
      "cell_type": "markdown",
      "metadata": {
        "id": "m5F-s3_rZYOu",
        "colab_type": "text"
      },
      "source": [
        "# Importing Dataset"
      ]
    },
    {
      "cell_type": "code",
      "metadata": {
        "id": "aItNblTiNopi",
        "colab_type": "code",
        "colab": {
          "base_uri": "https://localhost:8080/",
          "height": 84
        },
        "outputId": "569185b9-01b8-4028-87f1-946ed954a96d"
      },
      "source": [
        "!echo '{\"username\":\"prafullnayan\",\"key\":\"0bcabf96ae2799c53bdb34294b627af3\"}' > /root/.kaggle/kaggle.json\n",
        "!kaggle datasets download -d paultimothymooney/chest-xray-pneumonia\n"
      ],
      "execution_count": 4,
      "outputs": [
        {
          "output_type": "stream",
          "text": [
            "Warning: Your Kaggle API key is readable by other users on this system! To fix this, you can run 'chmod 600 /root/.kaggle/kaggle.json'\n",
            "Downloading chest-xray-pneumonia.zip to /content\n",
            "100% 2.29G/2.29G [00:30<00:00, 45.0MB/s]\n",
            "100% 2.29G/2.29G [00:30<00:00, 81.1MB/s]\n"
          ],
          "name": "stdout"
        }
      ]
    },
    {
      "cell_type": "markdown",
      "metadata": {
        "id": "nRlK3XyIZcyt",
        "colab_type": "text"
      },
      "source": [
        "# Extracting from zipfiles"
      ]
    },
    {
      "cell_type": "code",
      "metadata": {
        "id": "rc99PU3gPR7_",
        "colab_type": "code",
        "colab": {
          "base_uri": "https://localhost:8080/",
          "height": 34
        },
        "outputId": "666bb3c1-9e97-4967-d076-2ae07b306315"
      },
      "source": [
        "from zipfile import ZipFile\n",
        "file_name='chest-xray-pneumonia.zip'\n",
        "\n",
        "with ZipFile(file_name,'r') as zip:\n",
        "  zip.extractall()\n",
        "  print('done')"
      ],
      "execution_count": 5,
      "outputs": [
        {
          "output_type": "stream",
          "text": [
            "done\n"
          ],
          "name": "stdout"
        }
      ]
    },
    {
      "cell_type": "code",
      "metadata": {
        "id": "LUcT_0AnVPDR",
        "colab_type": "code",
        "colab": {}
      },
      "source": [
        "import pandas as pd"
      ],
      "execution_count": 9,
      "outputs": []
    },
    {
      "cell_type": "code",
      "metadata": {
        "id": "ht4QuSzvV2o-",
        "colab_type": "code",
        "colab": {}
      },
      "source": [
        "import os"
      ],
      "execution_count": 10,
      "outputs": []
    },
    {
      "cell_type": "code",
      "metadata": {
        "id": "TJY-xPrdWC4j",
        "colab_type": "code",
        "colab": {
          "base_uri": "https://localhost:8080/",
          "height": 34
        },
        "outputId": "954ff54d-9761-4784-97c3-02fe4ee2b549"
      },
      "source": [
        "data_dir=\"/content/chest_xray/chest_xray\"\n",
        "os.listdir(data_dir)"
      ],
      "execution_count": 11,
      "outputs": [
        {
          "output_type": "execute_result",
          "data": {
            "text/plain": [
              "['.DS_Store', 'test', 'val', 'train']"
            ]
          },
          "metadata": {
            "tags": []
          },
          "execution_count": 11
        }
      ]
    },
    {
      "cell_type": "markdown",
      "metadata": {
        "id": "iwsNtr69ZjTo",
        "colab_type": "text"
      },
      "source": [
        "# setting Path"
      ]
    },
    {
      "cell_type": "code",
      "metadata": {
        "id": "MdEZlyWyWH97",
        "colab_type": "code",
        "colab": {
          "base_uri": "https://localhost:8080/",
          "height": 67
        },
        "outputId": "a8edb3d2-d3bc-42eb-a16c-8404e143e804"
      },
      "source": [
        "train_path=data_dir+'/train'\n",
        "test_path=data_dir+'/test'\n",
        "val_path=data_dir+'/val'\n",
        "print(os.listdir(train_path))\n",
        "print(os.listdir(test_path))\n",
        "print(os.listdir(val_path))"
      ],
      "execution_count": 12,
      "outputs": [
        {
          "output_type": "stream",
          "text": [
            "['NORMAL', 'PNEUMONIA', '.DS_Store']\n",
            "['NORMAL', 'PNEUMONIA', '.DS_Store']\n",
            "['NORMAL', 'PNEUMONIA', '.DS_Store']\n"
          ],
          "name": "stdout"
        }
      ]
    },
    {
      "cell_type": "code",
      "metadata": {
        "id": "VFeclyMkWzdP",
        "colab_type": "code",
        "colab": {}
      },
      "source": [
        "from matplotlib.image import imread\n",
        "import matplotlib.pyplot as plt\n"
      ],
      "execution_count": 13,
      "outputs": []
    },
    {
      "cell_type": "code",
      "metadata": {
        "id": "zXXO6jAfW2qn",
        "colab_type": "code",
        "colab": {}
      },
      "source": [
        "normal_image=os.listdir(train_path+'/NORMAL')\n",
        "pneumonic_image=os.listdir(train_path+'/PNEUMONIA')"
      ],
      "execution_count": 14,
      "outputs": []
    },
    {
      "cell_type": "markdown",
      "metadata": {
        "id": "jUaeWlhBZrKW",
        "colab_type": "text"
      },
      "source": [
        "# Visualizing the images"
      ]
    },
    {
      "cell_type": "markdown",
      "metadata": {
        "id": "AoN6JlYwZxMe",
        "colab_type": "text"
      },
      "source": [
        "# 1.Normal Images"
      ]
    },
    {
      "cell_type": "code",
      "metadata": {
        "id": "Sm122wSDW46m",
        "colab_type": "code",
        "colab": {
          "base_uri": "https://localhost:8080/",
          "height": 278
        },
        "outputId": "5f51e691-8b8b-4015-dd17-afb0b6114943"
      },
      "source": [
        "i=1\n",
        "plt.figure(figsize=(17,14))\n",
        "for image in normal_image[0:4]:\n",
        "    plt.subplot(1,4,i)\n",
        "    plt.title('normal chest x_ray')\n",
        "    plt.imshow(imread(train_path+'/NORMAL/'+image),cmap='gray')\n",
        "    i=i+1 "
      ],
      "execution_count": 15,
      "outputs": [
        {
          "output_type": "display_data",
          "data": {
            "image/png": "[encoded data removed]",
            "text/plain": [
              "<Figure size 1224x1008 with 4 Axes>"
            ]
          },
          "metadata": {
            "tags": [],
            "needs_background": "light"
          }
        }
      ]
    },
    {
      "cell_type": "markdown",
      "metadata": {
        "id": "U9MtccFQZ4MR",
        "colab_type": "text"
      },
      "source": [
        "# 2.Pneumonic Images"
      ]
    },
    {
      "cell_type": "code",
      "metadata": {
        "id": "EdqhCcBgW8Df",
        "colab_type": "code",
        "colab": {
          "base_uri": "https://localhost:8080/",
          "height": 286
        },
        "outputId": "f2d6e82c-a31c-4cc2-ba63-20c44b2dccb6"
      },
      "source": [
        "j=1\n",
        "plt.figure(figsize=(17,14))\n",
        "for image in pneumonic_image[0:4]:\n",
        "    plt.subplot(2,4,j)\n",
        "    plt.title('pneumonic_chest x_ray')\n",
        "    plt.imshow(imread(train_path+'/PNEUMONIA/'+image),cmap='gray')\n",
        "    plt.tight_layout()\n",
        "    j=j+1"
      ],
      "execution_count": 16,
      "outputs": [
        {
          "output_type": "display_data",
          "data": {
            "image/png": "[encoded data removed]",
            "text/plain": [
              "<Figure size 1224x1008 with 4 Axes>"
            ]
          },
          "metadata": {
            "tags": [],
            "needs_background": "light"
          }
        }
      ]
    },
    {
      "cell_type": "markdown",
      "metadata": {
        "id": "-7TnkaMsZ9ev",
        "colab_type": "text"
      },
      "source": [
        "# No of Data in datasets"
      ]
    },
    {
      "cell_type": "code",
      "metadata": {
        "id": "nzqMAZTVXGMM",
        "colab_type": "code",
        "colab": {
          "base_uri": "https://localhost:8080/",
          "height": 50
        },
        "outputId": "80a6114f-d7b9-4424-bc1c-eaee8cce1b02"
      },
      "source": [
        "print('number of normal images in train set:',len(os.listdir(train_path+'/NORMAL')))\n",
        "print('number of pneumoic images in train set:',len(os.listdir(train_path+'/PNEUMONIA')))"
      ],
      "execution_count": 17,
      "outputs": [
        {
          "output_type": "stream",
          "text": [
            "number of normal images in train set: 1342\n",
            "number of pneumoic images in train set: 3876\n"
          ],
          "name": "stdout"
        }
      ]
    },
    {
      "cell_type": "code",
      "metadata": {
        "id": "wM0zzLyxXIvQ",
        "colab_type": "code",
        "colab": {
          "base_uri": "https://localhost:8080/",
          "height": 50
        },
        "outputId": "31046bca-c32b-4786-fc95-9f28c7812de9"
      },
      "source": [
        "print('number of normal images in test set:',len(os.listdir(test_path+'/NORMAL')))\n",
        "print('number of pneumoic images in test set:',len(os.listdir(test_path+'/PNEUMONIA')))"
      ],
      "execution_count": 18,
      "outputs": [
        {
          "output_type": "stream",
          "text": [
            "number of normal images in test set: 234\n",
            "number of pneumoic images in test set: 390\n"
          ],
          "name": "stdout"
        }
      ]
    },
    {
      "cell_type": "code",
      "metadata": {
        "id": "j6kt-3xzRmwa",
        "colab_type": "code",
        "colab": {
          "base_uri": "https://localhost:8080/",
          "height": 50
        },
        "outputId": "e428d1a0-62a5-4e53-a749-d83c1a514de8"
      },
      "source": [
        "print('number of normal images in validation set:',len(os.listdir(val_path+'/NORMAL')))\n",
        "print('number of pneumoic images in validation set:',len(os.listdir(val_path+'/PNEUMONIA')))"
      ],
      "execution_count": 19,
      "outputs": [
        {
          "output_type": "stream",
          "text": [
            "number of normal images in validation set: 9\n",
            "number of pneumoic images in validation set: 9\n"
          ],
          "name": "stdout"
        }
      ]
    },
    {
      "cell_type": "markdown",
      "metadata": {
        "id": "5QeojDRyaD6Y",
        "colab_type": "text"
      },
      "source": [
        "# Checking the Dimensions"
      ]
    },
    {
      "cell_type": "code",
      "metadata": {
        "id": "e32GI6R5XLk1",
        "colab_type": "code",
        "colab": {
          "base_uri": "https://localhost:8080/",
          "height": 1000
        },
        "outputId": "bf53b93a-9842-4ce4-cd17-48826efd9958"
      },
      "source": [
        "dim1=[]\n",
        "dim2=[]\n",
        "for image_filename in os.listdir(train_path+'/NORMAL'):\n",
        "    img=imread(train_path+'/NORMAL/'+image_filename)\n",
        "    print(image_filename)\n",
        "    d1,d2=img.shape\n",
        "    dim1.append(d1)\n",
        "    dim2.append(d2)"
      ],
      "execution_count": 20,
      "outputs": [
        {
          "output_type": "stream",
          "text": [
            "NORMAL2-IM-0600-0001.jpeg\n",
            "NORMAL2-IM-0910-0001.jpeg\n",
            "NORMAL2-IM-0642-0001.jpeg\n",
            "NORMAL2-IM-0526-0001.jpeg\n",
            "IM-0636-0001.jpeg\n",
            "IM-0225-0001.jpeg\n",
            "NORMAL2-IM-0511-0001.jpeg\n",
            "NORMAL2-IM-0391-0001.jpeg\n",
            "NORMAL2-IM-1231-0001.jpeg\n",
            "NORMAL2-IM-0976-0001.jpeg\n",
            "NORMAL2-IM-0989-0001.jpeg\n",
            "IM-0230-0001.jpeg\n",
            "NORMAL2-IM-0887-0001.jpeg\n",
            "NORMAL2-IM-1100-0001.jpeg\n",
            "NORMAL2-IM-1277-0001.jpeg\n",
            "IM-0320-0001.jpeg\n",
            "NORMAL2-IM-0479-0001.jpeg\n",
            "NORMAL2-IM-1017-0001.jpeg\n",
            "NORMAL2-IM-0553-0001.jpeg\n",
            "NORMAL2-IM-0536-0001.jpeg\n",
            "IM-0608-0001.jpeg\n",
            "IM-0598-0001.jpeg\n",
            "IM-0375-0001.jpeg\n",
            "NORMAL2-IM-1234-0001.jpeg\n",
            "IM-0471-0001.jpeg\n",
            "IM-0661-0001.jpeg\n",
            "NORMAL2-IM-0810-0001.jpeg\n",
            "NORMAL2-IM-0636-0001.jpeg\n",
            "NORMAL2-IM-1280-0001.jpeg\n",
            "NORMAL2-IM-1347-0001.jpeg\n",
            "IM-0524-0001.jpeg\n",
            "IM-0382-0001.jpeg\n",
            "NORMAL2-IM-0637-0001.jpeg\n",
            "NORMAL2-IM-0416-0001-0002.jpeg\n",
            "IM-0595-0001.jpeg\n",
            "IM-0449-0001.jpeg\n",
            "IM-0645-0001.jpeg\n",
            "IM-0479-0001.jpeg\n",
            "IM-0391-0001.jpeg\n",
            "NORMAL2-IM-1024-0001.jpeg\n",
            "NORMAL2-IM-0741-0001.jpeg\n",
            "IM-0176-0001.jpeg\n",
            "NORMAL2-IM-0888-0001.jpeg\n",
            "IM-0671-0001.jpeg\n",
            "NORMAL2-IM-1335-0001.jpeg\n",
            "NORMAL2-IM-0521-0001.jpeg\n",
            "IM-0583-0001.jpeg\n",
            "IM-0283-0001.jpeg\n",
            "NORMAL2-IM-1127-0001.jpeg\n",
            "NORMAL2-IM-1148-0001.jpeg\n",
            "IM-0330-0001.jpeg\n",
            "NORMAL2-IM-1170-0001.jpeg\n",
            "IM-0262-0001.jpeg\n",
            "NORMAL2-IM-0881-0001.jpeg\n",
            "NORMAL2-IM-0915-0001.jpeg\n",
            "NORMAL2-IM-0818-0001.jpeg\n",
            "IM-0201-0001.jpeg\n",
            "NORMAL2-IM-0667-0001.jpeg\n",
            "IM-0502-0001.jpeg\n",
            "IM-0677-0001.jpeg\n",
            "IM-0349-0001.jpeg\n",
            "NORMAL2-IM-0906-0001.jpeg\n",
            "IM-0430-0001.jpeg\n",
            "IM-0533-0001-0002.jpeg\n",
            "NORMAL2-IM-0535-0001-0002.jpeg\n",
            "NORMAL2-IM-1168-0001.jpeg\n",
            "IM-0309-0001.jpeg\n",
            "IM-0337-0001.jpeg\n",
            "IM-0465-0001.jpeg\n",
            "IM-0571-0001.jpeg\n",
            "NORMAL2-IM-0415-0001.jpeg\n",
            "NORMAL2-IM-1173-0001.jpeg\n",
            "NORMAL2-IM-0516-0001.jpeg\n",
            "NORMAL2-IM-1300-0001.jpeg\n",
            "NORMAL2-IM-0875-0001.jpeg\n",
            "NORMAL2-IM-1310-0001.jpeg\n",
            "NORMAL2-IM-0700-0001.jpeg\n",
            "IM-0607-0001.jpeg\n",
            "IM-0266-0001.jpeg\n",
            "IM-0437-0001.jpeg\n",
            "NORMAL2-IM-0512-0001.jpeg\n",
            "NORMAL2-IM-0905-0001.jpeg\n",
            "NORMAL2-IM-0853-0001.jpeg\n",
            "NORMAL2-IM-0880-0001.jpeg\n",
            "IM-0497-0001.jpeg\n",
            "IM-0602-0001.jpeg\n",
            "IM-0616-0001.jpeg\n",
            "IM-0442-0001.jpeg\n",
            "NORMAL2-IM-0485-0001.jpeg\n",
            "NORMAL2-IM-0849-0001.jpeg\n",
            "NORMAL2-IM-0694-0001.jpeg\n",
            "IM-0656-0001-0002.jpeg\n",
            "NORMAL2-IM-0952-0001.jpeg\n",
            "IM-0740-0001.jpeg\n",
            "IM-0578-0001.jpeg\n",
            "IM-0647-0001.jpeg\n",
            "IM-0499-0001-0002.jpeg\n",
            "NORMAL2-IM-0651-0001.jpeg\n",
            "NORMAL2-IM-0995-0001-0001.jpeg\n",
            "IM-0300-0001.jpeg\n",
            "IM-0664-0001.jpeg\n",
            "NORMAL2-IM-0561-0001.jpeg\n",
            "NORMAL2-IM-0930-0001.jpeg\n",
            "IM-0492-0001.jpeg\n",
            "NORMAL2-IM-0781-0001.jpeg\n",
            "NORMAL2-IM-0702-0001.jpeg\n",
            "NORMAL2-IM-1084-0001.jpeg\n",
            "NORMAL2-IM-0389-0001.jpeg\n",
            "NORMAL2-IM-0808-0001.jpeg\n",
            "NORMAL2-IM-0661-0001.jpeg\n",
            "NORMAL2-IM-1160-0001.jpeg\n",
            "IM-0416-0001.jpeg\n",
            "IM-0634-0001.jpeg\n",
            "NORMAL2-IM-1220-0001.jpeg\n",
            "NORMAL2-IM-0837-0001.jpeg\n",
            "IM-0532-0001.jpeg\n",
            "NORMAL2-IM-0865-0001.jpeg\n",
            "IM-0177-0001.jpeg\n",
            "NORMAL2-IM-1223-0001.jpeg\n",
            "IM-0280-0001.jpeg\n",
            "NORMAL2-IM-1357-0001.jpeg\n",
            "IM-0584-0001.jpeg\n",
            "NORMAL2-IM-1016-0001.jpeg\n",
            "IM-0329-0001.jpeg\n",
            "NORMAL2-IM-0693-0001.jpeg\n",
            "IM-0475-0001.jpeg\n",
            "NORMAL2-IM-1294-0001.jpeg\n",
            "NORMAL2-IM-0836-0001.jpeg\n",
            "IM-0410-0001.jpeg\n",
            "NORMAL2-IM-1004-0001.jpeg\n",
            "IM-0712-0001.jpeg\n",
            "NORMAL2-IM-1164-0001.jpeg\n",
            "NORMAL2-IM-0686-0001.jpeg\n",
            "NORMAL2-IM-0819-0001.jpeg\n",
            "IM-0612-0001.jpeg\n",
            "IM-0327-0001.jpeg\n",
            "NORMAL2-IM-0798-0001.jpeg\n",
            "NORMAL2-IM-0648-0001.jpeg\n",
            "IM-0515-0001.jpeg\n",
            "NORMAL2-IM-0439-0001.jpeg\n",
            "IM-0659-0001.jpeg\n",
            "NORMAL2-IM-1005-0001.jpeg\n",
            "NORMAL2-IM-1141-0001.jpeg\n",
            "NORMAL2-IM-0845-0001.jpeg\n",
            "NORMAL2-IM-1243-0001.jpeg\n",
            "NORMAL2-IM-1073-0001.jpeg\n",
            "NORMAL2-IM-1293-0001.jpeg\n",
            "IM-0489-0001.jpeg\n",
            "NORMAL2-IM-1152-0001-0001.jpeg\n",
            "NORMAL2-IM-0626-0001.jpeg\n",
            "NORMAL2-IM-0525-0001.jpeg\n",
            "IM-0530-0001.jpeg\n",
            "NORMAL2-IM-0827-0001.jpeg\n",
            "IM-0626-0001-0002.jpeg\n",
            "IM-0718-0001.jpeg\n",
            "NORMAL2-IM-1291-0001.jpeg\n",
            "IM-0648-0001.jpeg\n",
            "IM-0625-0001.jpeg\n",
            "IM-0626-0001-0001.jpeg\n",
            "IM-0160-0001.jpeg\n",
            "NORMAL2-IM-0815-0001.jpeg\n",
            "NORMAL2-IM-1342-0001.jpeg\n",
            "NORMAL2-IM-0450-0001.jpeg\n",
            "NORMAL2-IM-1179-0001.jpeg\n",
            "IM-0619-0001.jpeg\n",
            "NORMAL2-IM-0965-0001.jpeg\n",
            "IM-0129-0001.jpeg\n",
            "NORMAL2-IM-0919-0001.jpeg\n",
            "IM-0400-0001.jpeg\n",
            "NORMAL2-IM-0859-0001.jpeg\n",
            "NORMAL2-IM-1344-0001.jpeg\n",
            "NORMAL2-IM-0585-0001.jpeg\n",
            "NORMAL2-IM-1045-0001.jpeg\n",
            "IM-0466-0001.jpeg\n",
            "NORMAL2-IM-0579-0001.jpeg\n",
            "NORMAL2-IM-1106-0001.jpeg\n",
            "NORMAL2-IM-1206-0001.jpeg\n",
            "IM-0270-0001.jpeg\n",
            "NORMAL2-IM-0671-0001.jpeg\n",
            "IM-0469-0001.jpeg\n",
            "IM-0553-0001-0001.jpeg\n",
            "NORMAL2-IM-0999-0001.jpeg\n",
            "IM-0752-0001.jpeg\n",
            "IM-0223-0001.jpeg\n",
            "IM-0674-0001.jpeg\n",
            "NORMAL2-IM-0472-0001.jpeg\n",
            "NORMAL2-IM-1250-0001.jpeg\n",
            "NORMAL2-IM-0409-0001.jpeg\n",
            "IM-0676-0001.jpeg\n",
            "IM-0590-0001.jpeg\n",
            "IM-0433-0001.jpeg\n",
            "NORMAL2-IM-1241-0001.jpeg\n",
            "IM-0467-0001.jpeg\n",
            "NORMAL2-IM-0882-0001.jpeg\n",
            "IM-0543-0001-0002.jpeg\n",
            "IM-0757-0001.jpeg\n",
            "NORMAL2-IM-0777-0001.jpeg\n",
            "NORMAL2-IM-1020-0001.jpeg\n",
            "IM-0240-0001.jpeg\n",
            "IM-0724-0001.jpeg\n",
            "IM-0593-0001.jpeg\n",
            "IM-0546-0001.jpeg\n",
            "NORMAL2-IM-0843-0001.jpeg\n",
            "NORMAL2-IM-1205-0001.jpeg\n",
            "IM-0231-0001.jpeg\n",
            "NORMAL2-IM-1044-0001.jpeg\n",
            "IM-0450-0001.jpeg\n",
            "NORMAL2-IM-0746-0001.jpeg\n",
            "NORMAL2-IM-0537-0001.jpeg\n",
            "NORMAL2-IM-0879-0001.jpeg\n",
            "NORMAL2-IM-0857-0001.jpeg\n",
            "NORMAL2-IM-1049-0001.jpeg\n",
            "NORMAL2-IM-1098-0001.jpeg\n",
            "IM-0526-0001.jpeg\n",
            "NORMAL2-IM-1258-0001-0002.jpeg\n",
            "NORMAL2-IM-0429-0001.jpeg\n",
            "IM-0307-0001.jpeg\n",
            "NORMAL2-IM-1274-0001.jpeg\n",
            "NORMAL2-IM-0385-0001.jpeg\n",
            "NORMAL2-IM-1094-0001.jpeg\n",
            "NORMAL2-IM-1185-0001.jpeg\n",
            "NORMAL2-IM-0528-0001.jpeg\n",
            "IM-0628-0001.jpeg\n",
            "IM-0178-0001.jpeg\n",
            "NORMAL2-IM-0872-0001.jpeg\n",
            "NORMAL2-IM-1188-0001.jpeg\n",
            "IM-0151-0001.jpeg\n",
            "NORMAL2-IM-0587-0001-0002.jpeg\n",
            "NORMAL2-IM-0959-0001.jpeg\n",
            "IM-0383-0001.jpeg\n",
            "NORMAL2-IM-1278-0001.jpeg\n",
            "NORMAL2-IM-0451-0001.jpeg\n",
            "IM-0193-0001.jpeg\n",
            "NORMAL2-IM-1191-0001.jpeg\n",
            "NORMAL2-IM-0503-0001.jpeg\n",
            "NORMAL2-IM-1305-0001.jpeg\n",
            "IM-0683-0001.jpeg\n",
            "IM-0429-0001-0001.jpeg\n",
            "NORMAL2-IM-0927-0001.jpeg\n",
            "IM-0256-0001.jpeg\n",
            "NORMAL2-IM-0807-0001.jpeg\n",
            "IM-0689-0001.jpeg\n",
            "IM-0275-0001.jpeg\n",
            "NORMAL2-IM-1052-0001.jpeg\n",
            "IM-0359-0001.jpeg\n",
            "NORMAL2-IM-1104-0001.jpeg\n",
            "IM-0716-0001.jpeg\n",
            "IM-0618-0001.jpeg\n",
            "NORMAL2-IM-1396-0001.jpeg\n",
            "IM-0388-0001.jpeg\n",
            "NORMAL2-IM-0404-0001.jpeg\n",
            "NORMAL2-IM-1152-0001.jpeg\n",
            "NORMAL2-IM-0408-0001.jpeg\n",
            "IM-0754-0001.jpeg\n",
            "IM-0234-0001.jpeg\n",
            "IM-0326-0001.jpeg\n",
            "IM-0370-0001.jpeg\n",
            "NORMAL2-IM-0979-0001.jpeg\n",
            "NORMAL2-IM-1120-0001.jpeg\n",
            "NORMAL2-IM-0480-0001.jpeg\n",
            "IM-0350-0001.jpeg\n",
            "NORMAL2-IM-1109-0001.jpeg\n",
            "NORMAL2-IM-0917-0001.jpeg\n",
            "NORMAL2-IM-0425-0001.jpeg\n",
            "NORMAL2-IM-0971-0001-0001.jpeg\n",
            "NORMAL2-IM-0452-0001.jpeg\n",
            "NORMAL2-IM-0487-0001.jpeg\n",
            "NORMAL2-IM-1051-0001.jpeg\n",
            "IM-0251-0001.jpeg\n",
            "NORMAL2-IM-1015-0001.jpeg\n",
            "IM-0245-0001.jpeg\n",
            "NORMAL2-IM-1222-0001.jpeg\n",
            "NORMAL2-IM-1111-0001.jpeg\n",
            "IM-0497-0001-0001.jpeg\n",
            "IM-0158-0001.jpeg\n",
            "IM-0353-0001.jpeg\n",
            "NORMAL2-IM-1116-0001-0001.jpeg\n",
            "NORMAL2-IM-0582-0001.jpeg\n",
            "NORMAL2-IM-1281-0001.jpeg\n",
            "NORMAL2-IM-0909-0001.jpeg\n",
            "NORMAL2-IM-0695-0001.jpeg\n",
            "IM-0189-0001.jpeg\n",
            "NORMAL2-IM-0793-0001.jpeg\n",
            "IM-0496-0001.jpeg\n",
            "IM-0264-0001.jpeg\n",
            "NORMAL2-IM-0650-0001.jpeg\n",
            "NORMAL2-IM-0555-0001-0001.jpeg\n",
            "IM-0691-0001.jpeg\n",
            "IM-0581-0001.jpeg\n",
            "NORMAL2-IM-0396-0001.jpeg\n",
            "NORMAL2-IM-0445-0001.jpeg\n",
            "NORMAL2-IM-0718-0001.jpeg\n",
            "NORMAL2-IM-1316-0001.jpeg\n",
            "IM-0419-0001.jpeg\n",
            "IM-0766-0001.jpeg\n",
            "IM-0499-0001-0001.jpeg\n",
            "IM-0551-0001.jpeg\n",
            "NORMAL2-IM-1018-0001.jpeg\n",
            "NORMAL2-IM-1194-0001.jpeg\n",
            "NORMAL2-IM-0388-0001.jpeg\n",
            "NORMAL2-IM-1200-0001.jpeg\n",
            "NORMAL2-IM-0932-0001.jpeg\n",
            "NORMAL2-IM-0820-0001.jpeg\n",
            "IM-0505-0001-0001.jpeg\n",
            "NORMAL2-IM-1315-0001.jpeg\n",
            "IM-0687-0001.jpeg\n",
            "NORMAL2-IM-0620-0001.jpeg\n",
            "NORMAL2-IM-0555-0001.jpeg\n",
            "NORMAL2-IM-1245-0001.jpeg\n",
            "NORMAL2-IM-1117-0001.jpeg\n",
            "NORMAL2-IM-0529-0001.jpeg\n",
            "NORMAL2-IM-1142-0001.jpeg\n",
            "NORMAL2-IM-0957-0001.jpeg\n",
            "NORMAL2-IM-0475-0001.jpeg\n",
            "IM-0679-0001.jpeg\n",
            "NORMAL2-IM-1346-0001.jpeg\n",
            "NORMAL2-IM-0666-0001.jpeg\n",
            "NORMAL2-IM-1112-0001.jpeg\n",
            "IM-0617-0001.jpeg\n",
            "NORMAL2-IM-0466-0001.jpeg\n",
            "IM-0460-0001.jpeg\n",
            "IM-0580-0001.jpeg\n",
            "IM-0517-0001.jpeg\n",
            "IM-0507-0001.jpeg\n",
            "IM-0467-0001-0001.jpeg\n",
            "NORMAL2-IM-1047-0001.jpeg\n",
            "IM-0323-0001.jpeg\n",
            "IM-0428-0001.jpeg\n",
            "IM-0272-0001.jpeg\n",
            "IM-0612-0001-0001.jpeg\n",
            "IM-0404-0001.jpeg\n",
            "NORMAL2-IM-0627-0001.jpeg\n",
            "NORMAL2-IM-1356-0001.jpeg\n",
            "IM-0463-0001.jpeg\n",
            "IM-0371-0001.jpeg\n",
            "IM-0180-0001.jpeg\n",
            "NORMAL2-IM-0621-0001.jpeg\n",
            "NORMAL2-IM-0481-0001.jpeg\n",
            "IM-0487-0001.jpeg\n",
            "NORMAL2-IM-1269-0001.jpeg\n",
            "IM-0362-0001.jpeg\n",
            "IM-0609-0001.jpeg\n",
            "IM-0747-0001.jpeg\n",
            "NORMAL2-IM-0539-0001.jpeg\n",
            "NORMAL2-IM-0689-0001.jpeg\n",
            "NORMAL2-IM-1038-0001.jpeg\n",
            "NORMAL2-IM-0618-0001.jpeg\n",
            "IM-0729-0001.jpeg\n",
            "IM-0325-0001.jpeg\n",
            "NORMAL2-IM-1227-0001.jpeg\n",
            "IM-0441-0001.jpeg\n",
            "NORMAL2-IM-1053-0001.jpeg\n",
            "NORMAL2-IM-0576-0001.jpeg\n",
            "IM-0631-0001-0001.jpeg\n",
            "NORMAL2-IM-1288-0001.jpeg\n",
            "NORMAL2-IM-0825-0001.jpeg\n",
            "NORMAL2-IM-1108-0001.jpeg\n",
            "IM-0668-0001.jpeg\n",
            "NORMAL2-IM-1214-0001.jpeg\n",
            "NORMAL2-IM-1287-0001.jpeg\n",
            "IM-0244-0001.jpeg\n",
            "IM-0345-0001.jpeg\n",
            "IM-0318-0001.jpeg\n",
            "NORMAL2-IM-0975-0001.jpeg\n",
            "NORMAL2-IM-1025-0001.jpeg\n",
            "NORMAL2-IM-1089-0001.jpeg\n",
            "IM-0219-0001.jpeg\n",
            "NORMAL2-IM-0699-0001.jpeg\n",
            "IM-0147-0001.jpeg\n",
            "NORMAL2-IM-1105-0001.jpeg\n",
            "IM-0505-0001.jpeg\n",
            "NORMAL2-IM-1126-0001.jpeg\n",
            "NORMAL2-IM-1167-0001.jpeg\n",
            "NORMAL2-IM-1035-0001.jpeg\n",
            "IM-0605-0001.jpeg\n",
            "NORMAL2-IM-1317-0001.jpeg\n",
            "IM-0128-0001.jpeg\n",
            "NORMAL2-IM-1237-0001.jpeg\n",
            "NORMAL2-IM-0824-0001.jpeg\n",
            "IM-0282-0001.jpeg\n",
            "IM-0574-0001.jpeg\n",
            "NORMAL2-IM-0394-0001.jpeg\n",
            "IM-0742-0001.jpeg\n",
            "IM-0564-0001.jpeg\n",
            "NORMAL2-IM-1008-0001.jpeg\n",
            "IM-0481-0001.jpeg\n",
            "NORMAL2-IM-0956-0001.jpeg\n",
            "IM-0453-0001-0002.jpeg\n",
            "NORMAL2-IM-0580-0001.jpeg\n",
            "IM-0122-0001.jpeg\n",
            "NORMAL2-IM-1308-0001.jpeg\n",
            "NORMAL2-IM-0643-0001.jpeg\n",
            "NORMAL2-IM-0818-0001-0002.jpeg\n",
            "NORMAL2-IM-0862-0001.jpeg\n",
            "IM-0728-0001.jpeg\n",
            "IM-0339-0001.jpeg\n",
            "NORMAL2-IM-0749-0001.jpeg\n",
            "NORMAL2-IM-1345-0001.jpeg\n",
            "NORMAL2-IM-1336-0001.jpeg\n",
            "NORMAL2-IM-0599-0001.jpeg\n",
            "NORMAL2-IM-0587-0001-0001.jpeg\n",
            "IM-0444-0001.jpeg\n",
            "NORMAL2-IM-0491-0001.jpeg\n",
            "IM-0224-0001.jpeg\n",
            "NORMAL2-IM-1090-0001.jpeg\n",
            "IM-0656-0001-0001.jpeg\n",
            "NORMAL2-IM-1225-0001.jpeg\n",
            "NORMAL2-IM-1412-0001.jpeg\n",
            "IM-0629-0001.jpeg\n"
          ],
          "name": "stdout"
        },
        {
          "output_type": "error",
          "ename": "UnidentifiedImageError",
          "evalue": "ignored",
          "traceback": [
            "\u001b[0;31m---------------------------------------------------------------------------\u001b[0m",
            "\u001b[0;31mUnidentifiedImageError\u001b[0m                    Traceback (most recent call last)",
            "\u001b[0;32m<ipython-input-20-92d3977c6199>\u001b[0m in \u001b[0;36m<module>\u001b[0;34m()\u001b[0m\n\u001b[1;32m      2\u001b[0m \u001b[0mdim2\u001b[0m\u001b[0;34m=\u001b[0m\u001b[0;34m[\u001b[0m\u001b[0;34m]\u001b[0m\u001b[0;34m\u001b[0m\u001b[0;34m\u001b[0m\u001b[0m\n\u001b[1;32m      3\u001b[0m \u001b[0;32mfor\u001b[0m \u001b[0mimage_filename\u001b[0m \u001b[0;32min\u001b[0m \u001b[0mos\u001b[0m\u001b[0;34m.\u001b[0m\u001b[0mlistdir\u001b[0m\u001b[0;34m(\u001b[0m\u001b[0mtrain_path\u001b[0m\u001b[0;34m+\u001b[0m\u001b[0;34m'/NORMAL'\u001b[0m\u001b[0;34m)\u001b[0m\u001b[0;34m:\u001b[0m\u001b[0;34m\u001b[0m\u001b[0;34m\u001b[0m\u001b[0m\n\u001b[0;32m----> 4\u001b[0;31m     \u001b[0mimg\u001b[0m\u001b[0;34m=\u001b[0m\u001b[0mimread\u001b[0m\u001b[0;34m(\u001b[0m\u001b[0mtrain_path\u001b[0m\u001b[0;34m+\u001b[0m\u001b[0;34m'/NORMAL/'\u001b[0m\u001b[0;34m+\u001b[0m\u001b[0mimage_filename\u001b[0m\u001b[0;34m)\u001b[0m\u001b[0;34m\u001b[0m\u001b[0;34m\u001b[0m\u001b[0m\n\u001b[0m\u001b[1;32m      5\u001b[0m     \u001b[0mprint\u001b[0m\u001b[0;34m(\u001b[0m\u001b[0mimage_filename\u001b[0m\u001b[0;34m)\u001b[0m\u001b[0;34m\u001b[0m\u001b[0;34m\u001b[0m\u001b[0m\n\u001b[1;32m      6\u001b[0m     \u001b[0md1\u001b[0m\u001b[0;34m,\u001b[0m\u001b[0md2\u001b[0m\u001b[0;34m=\u001b[0m\u001b[0mimg\u001b[0m\u001b[0;34m.\u001b[0m\u001b[0mshape\u001b[0m\u001b[0;34m\u001b[0m\u001b[0;34m\u001b[0m\u001b[0m\n",
            "\u001b[0;32m/usr/local/lib/python3.6/dist-packages/matplotlib/image.py\u001b[0m in \u001b[0;36mimread\u001b[0;34m(fname, format)\u001b[0m\n\u001b[1;32m   1462\u001b[0m             raise ValueError('Only know how to handle PNG; with Pillow '\n\u001b[1;32m   1463\u001b[0m                              'installed, Matplotlib can handle more images')\n\u001b[0;32m-> 1464\u001b[0;31m         \u001b[0;32mwith\u001b[0m \u001b[0mImage\u001b[0m\u001b[0;34m.\u001b[0m\u001b[0mopen\u001b[0m\u001b[0;34m(\u001b[0m\u001b[0mfname\u001b[0m\u001b[0;34m)\u001b[0m \u001b[0;32mas\u001b[0m \u001b[0mimage\u001b[0m\u001b[0;34m:\u001b[0m\u001b[0;34m\u001b[0m\u001b[0;34m\u001b[0m\u001b[0m\n\u001b[0m\u001b[1;32m   1465\u001b[0m             \u001b[0;32mreturn\u001b[0m \u001b[0mpil_to_array\u001b[0m\u001b[0;34m(\u001b[0m\u001b[0mimage\u001b[0m\u001b[0;34m)\u001b[0m\u001b[0;34m\u001b[0m\u001b[0;34m\u001b[0m\u001b[0m\n\u001b[1;32m   1466\u001b[0m     \u001b[0;32mfrom\u001b[0m \u001b[0mmatplotlib\u001b[0m \u001b[0;32mimport\u001b[0m \u001b[0m_png\u001b[0m\u001b[0;34m\u001b[0m\u001b[0;34m\u001b[0m\u001b[0m\n",
            "\u001b[0;32m/usr/local/lib/python3.6/dist-packages/PIL/Image.py\u001b[0m in \u001b[0;36mopen\u001b[0;34m(fp, mode)\u001b[0m\n\u001b[1;32m   2860\u001b[0m         \u001b[0mwarnings\u001b[0m\u001b[0;34m.\u001b[0m\u001b[0mwarn\u001b[0m\u001b[0;34m(\u001b[0m\u001b[0mmessage\u001b[0m\u001b[0;34m)\u001b[0m\u001b[0;34m\u001b[0m\u001b[0;34m\u001b[0m\u001b[0m\n\u001b[1;32m   2861\u001b[0m     raise UnidentifiedImageError(\n\u001b[0;32m-> 2862\u001b[0;31m         \u001b[0;34m\"cannot identify image file %r\"\u001b[0m \u001b[0;34m%\u001b[0m \u001b[0;34m(\u001b[0m\u001b[0mfilename\u001b[0m \u001b[0;32mif\u001b[0m \u001b[0mfilename\u001b[0m \u001b[0;32melse\u001b[0m \u001b[0mfp\u001b[0m\u001b[0;34m)\u001b[0m\u001b[0;34m\u001b[0m\u001b[0;34m\u001b[0m\u001b[0m\n\u001b[0m\u001b[1;32m   2863\u001b[0m     )\n\u001b[1;32m   2864\u001b[0m \u001b[0;34m\u001b[0m\u001b[0m\n",
            "\u001b[0;31mUnidentifiedImageError\u001b[0m: cannot identify image file '/content/chest_xray/chest_xray/train/NORMAL/.DS_Store'"
          ]
        }
      ]
    },
    {
      "cell_type": "code",
      "metadata": {
        "id": "qIbOy9mVXOic",
        "colab_type": "code",
        "colab": {
          "base_uri": "https://localhost:8080/",
          "height": 511
        },
        "outputId": "c272a279-5f22-4943-c0bc-b883b67e2613"
      },
      "source": [
        "import seaborn as sns\n",
        "sns.jointplot(dim1,dim2)"
      ],
      "execution_count": 21,
      "outputs": [
        {
          "output_type": "stream",
          "text": [
            "/usr/local/lib/python3.6/dist-packages/statsmodels/tools/_testing.py:19: FutureWarning: pandas.util.testing is deprecated. Use the functions in the public API at pandas.testing instead.\n",
            "  import pandas.util.testing as tm\n"
          ],
          "name": "stderr"
        },
        {
          "output_type": "execute_result",
          "data": {
            "text/plain": [
              "<seaborn.axisgrid.JointGrid at 0x7f15187efd30>"
            ]
          },
          "metadata": {
            "tags": []
          },
          "execution_count": 21
        },
        {
          "output_type": "display_data",
          "data": {
            "image/png": "[encoded data removed]",
            "text/plain": [
              "<Figure size 432x432 with 3 Axes>"
            ]
          },
          "metadata": {
            "tags": [],
            "needs_background": "light"
          }
        }
      ]
    },
    {
      "cell_type": "code",
      "metadata": {
        "id": "HZpCujdwXmXp",
        "colab_type": "code",
        "colab": {}
      },
      "source": [
        "import numpy as np"
      ],
      "execution_count": 22,
      "outputs": []
    },
    {
      "cell_type": "code",
      "metadata": {
        "id": "L5qsVXC7XVqF",
        "colab_type": "code",
        "colab": {
          "base_uri": "https://localhost:8080/",
          "height": 84
        },
        "outputId": "040dd4a3-bb4f-4160-a340-f88b56e66713"
      },
      "source": [
        "print('max width:',np.max(dim1))\n",
        "print('min width:',np.min(dim1))\n",
        "print('max height:',np.max(dim2))\n",
        "print('min height:',np.min(dim2))"
      ],
      "execution_count": 23,
      "outputs": [
        {
          "output_type": "stream",
          "text": [
            "max width: 2625\n",
            "min width: 672\n",
            "max height: 2844\n",
            "min height: 912\n"
          ],
          "name": "stdout"
        }
      ]
    },
    {
      "cell_type": "code",
      "metadata": {
        "id": "o7UVVxaIXiZc",
        "colab_type": "code",
        "colab": {
          "base_uri": "https://localhost:8080/",
          "height": 50
        },
        "outputId": "30329b79-9237-4d3c-a7f6-121c91fdf772"
      },
      "source": [
        "print('mean of width:',np.mean(dim1))\n",
        "print('mean of height:',np.mean(dim2))"
      ],
      "execution_count": 24,
      "outputs": [
        {
          "output_type": "stream",
          "text": [
            "mean of width: 1401.7457212713937\n",
            "mean of height: 1681.880195599022\n"
          ],
          "name": "stdout"
        }
      ]
    },
    {
      "cell_type": "markdown",
      "metadata": {
        "id": "1bIPYcvoaME0",
        "colab_type": "text"
      },
      "source": [
        "# Our input Image shape"
      ]
    },
    {
      "cell_type": "code",
      "metadata": {
        "id": "8KExytN3Xpxn",
        "colab_type": "code",
        "colab": {}
      },
      "source": [
        "image_shape=(150,150,3)"
      ],
      "execution_count": 28,
      "outputs": []
    },
    {
      "cell_type": "code",
      "metadata": {
        "id": "CnYvpXmjXsF9",
        "colab_type": "code",
        "colab": {
          "base_uri": "https://localhost:8080/",
          "height": 50
        },
        "outputId": "a414c2d8-e138-4d1e-9f45-d0b8fbe9a63a"
      },
      "source": [
        "img=imread(train_path+'/NORMAL/'+'/IM-0533-0001.jpeg')\n",
        "print(\"max value in image kernels:\",img.max())\n",
        "print(\"min value in image kernels:\",img.min())\n"
      ],
      "execution_count": 29,
      "outputs": [
        {
          "output_type": "stream",
          "text": [
            "max value in image kernels: 255\n",
            "min value in image kernels: 0\n"
          ],
          "name": "stdout"
        }
      ]
    },
    {
      "cell_type": "markdown",
      "metadata": {
        "id": "5rRXMaZCaQp7",
        "colab_type": "text"
      },
      "source": [
        "# Data Augmentation"
      ]
    },
    {
      "cell_type": "code",
      "metadata": {
        "id": "7ERS9yKcXvIc",
        "colab_type": "code",
        "colab": {}
      },
      "source": [
        "from tensorflow.keras.preprocessing.image import ImageDataGenerator"
      ],
      "execution_count": 30,
      "outputs": []
    },
    {
      "cell_type": "code",
      "metadata": {
        "id": "HfxYq0KZXxoD",
        "colab_type": "code",
        "colab": {}
      },
      "source": [
        "image_gen=ImageDataGenerator(rotation_range=20,\n",
        "                             width_shift_range=0.1,\n",
        "                            height_shift_range=0.1,\n",
        "                            shear_range=0.1,\n",
        "                            zoom_range=0.1,\n",
        "                            horizontal_flip=True,\n",
        "                            fill_mode='nearest',\n",
        "                            rescale=1/255)"
      ],
      "execution_count": 31,
      "outputs": []
    },
    {
      "cell_type": "code",
      "metadata": {
        "id": "1bxTg1AhX61T",
        "colab_type": "code",
        "colab": {}
      },
      "source": [
        "from tensorflow.keras.models import Sequential\n",
        "from tensorflow.keras.layers import Activation, Dropout, Flatten, Dense, Conv2D, MaxPooling2D,BatchNormalization,ZeroPadding2D"
      ],
      "execution_count": 32,
      "outputs": []
    },
    {
      "cell_type": "code",
      "metadata": {
        "id": "ckQZ2tI6X7Zx",
        "colab_type": "code",
        "colab": {}
      },
      "source": [
        "from tensorflow.keras.callbacks import EarlyStopping"
      ],
      "execution_count": 33,
      "outputs": []
    },
    {
      "cell_type": "markdown",
      "metadata": {
        "id": "y4mn87EoaYIA",
        "colab_type": "text"
      },
      "source": [
        "# Model Building"
      ]
    },
    {
      "cell_type": "code",
      "metadata": {
        "id": "EnFyiCI3X9KW",
        "colab_type": "code",
        "colab": {}
      },
      "source": [
        "model = Sequential()\n",
        "\n",
        "model.add(Conv2D(filters=32, kernel_size=(3,3),input_shape=image_shape, activation='relu'))\n",
        "model.add(MaxPooling2D(pool_size=(2, 2)))\n",
        "\n",
        "model.add(Conv2D(filters=64, kernel_size=(3,3),input_shape=image_shape, activation='relu'))         \n",
        "model.add(MaxPooling2D(pool_size=(2, 2)))\n",
        "\n",
        "\n",
        "model.add(Flatten())\n",
        "\n",
        "\n",
        "model.add(Dense(256))\n",
        "model.add(Activation('relu'))\n",
        " \n",
        "    \n",
        "model.add(Dense(128))\n",
        "model.add(Activation('relu'))\n",
        "# Dropouts help reduce overfitting by randomly turning neurons off during training.\n",
        "# Here we say randomly turn off 50% of neurons.\n",
        "model.add(Dropout(0.5))\n",
        "\n",
        "# Last layer, remember its binary so we use sigmoid\n",
        "model.add(Dense(1))\n",
        "model.add(Activation('sigmoid'))\n",
        "\n",
        "\n",
        "              "
      ],
      "execution_count": 34,
      "outputs": []
    },
    {
      "cell_type": "code",
      "metadata": {
        "id": "ewHsRkUWCCTj",
        "colab_type": "code",
        "colab": {}
      },
      "source": [
        "#from keras.optimizers import SGD"
      ],
      "execution_count": 37,
      "outputs": []
    },
    {
      "cell_type": "code",
      "metadata": {
        "id": "2-NlZO6fDh2B",
        "colab_type": "code",
        "colab": {}
      },
      "source": [
        "'''epochs =30\n",
        "learning_rate = 0.1\n",
        "decay_rate = learning_rate / epochs\n",
        "momentum = 0.8\n",
        "sgd = SGD(lr=learning_rate, momentum=momentum, decay=decay_rate, nesterov=False)\n",
        "'''"
      ],
      "execution_count": 39,
      "outputs": []
    },
    {
      "cell_type": "code",
      "metadata": {
        "id": "RW78GX-AYNHc",
        "colab_type": "code",
        "colab": {}
      },
      "source": [
        "from keras.optimizers import Adam"
      ],
      "execution_count": 65,
      "outputs": []
    },
    {
      "cell_type": "code",
      "metadata": {
        "id": "zbDQT1QHYO1P",
        "colab_type": "code",
        "colab": {}
      },
      "source": [
        "optimizer = Adam(lr = 0.0001)"
      ],
      "execution_count": 66,
      "outputs": []
    },
    {
      "cell_type": "code",
      "metadata": {
        "id": "EhdbU_hxYRU_",
        "colab_type": "code",
        "colab": {}
      },
      "source": [
        "early_stop=EarlyStopping(monitor='val_loss',mode='min',verbose=1,patience=25)"
      ],
      "execution_count": 67,
      "outputs": []
    },
    {
      "cell_type": "code",
      "metadata": {
        "id": "5t0f2zT7YTpI",
        "colab_type": "code",
        "colab": {}
      },
      "source": [
        "model.compile(loss='binary_crossentropy',\n",
        "              optimizer=optimizer,\n",
        "              metrics=['accuracy']\n",
        "          )"
      ],
      "execution_count": 69,
      "outputs": []
    },
    {
      "cell_type": "code",
      "metadata": {
        "id": "L_rYy3o_YV_c",
        "colab_type": "code",
        "colab": {
          "base_uri": "https://localhost:8080/",
          "height": 554
        },
        "outputId": "80f4da1f-8909-4604-fc67-d19e905690b4"
      },
      "source": [
        "model.summary()"
      ],
      "execution_count": 70,
      "outputs": [
        {
          "output_type": "stream",
          "text": [
            "Model: \"sequential\"\n",
            "_________________________________________________________________\n",
            "Layer (type)                 Output Shape              Param #   \n",
            "=================================================================\n",
            "conv2d (Conv2D)              (None, 148, 148, 32)      896       \n",
            "_________________________________________________________________\n",
            "max_pooling2d (MaxPooling2D) (None, 74, 74, 32)        0         \n",
            "_________________________________________________________________\n",
            "conv2d_1 (Conv2D)            (None, 72, 72, 64)        18496     \n",
            "_________________________________________________________________\n",
            "max_pooling2d_1 (MaxPooling2 (None, 36, 36, 64)        0         \n",
            "_________________________________________________________________\n",
            "flatten (Flatten)            (None, 82944)             0         \n",
            "_________________________________________________________________\n",
            "dense (Dense)                (None, 256)               21233920  \n",
            "_________________________________________________________________\n",
            "activation (Activation)      (None, 256)               0         \n",
            "_________________________________________________________________\n",
            "dense_1 (Dense)              (None, 128)               32896     \n",
            "_________________________________________________________________\n",
            "activation_1 (Activation)    (None, 128)               0         \n",
            "_________________________________________________________________\n",
            "dropout (Dropout)            (None, 128)               0         \n",
            "_________________________________________________________________\n",
            "dense_2 (Dense)              (None, 1)                 129       \n",
            "_________________________________________________________________\n",
            "activation_2 (Activation)    (None, 1)                 0         \n",
            "=================================================================\n",
            "Total params: 21,286,337\n",
            "Trainable params: 21,286,337\n",
            "Non-trainable params: 0\n",
            "_________________________________________________________________\n"
          ],
          "name": "stdout"
        }
      ]
    },
    {
      "cell_type": "code",
      "metadata": {
        "id": "i3IQviVoYYJn",
        "colab_type": "code",
        "colab": {}
      },
      "source": [
        "from tensorflow.keras.callbacks import EarlyStopping"
      ],
      "execution_count": 71,
      "outputs": []
    },
    {
      "cell_type": "code",
      "metadata": {
        "id": "DOI9y5oPYa0g",
        "colab_type": "code",
        "colab": {}
      },
      "source": [
        "early_stop = EarlyStopping(monitor = \"val_acc\", mode=\"max\", verbose = 2)"
      ],
      "execution_count": 72,
      "outputs": []
    },
    {
      "cell_type": "code",
      "metadata": {
        "id": "eoKwtMnmYcxj",
        "colab_type": "code",
        "colab": {}
      },
      "source": [
        "batch_size =16"
      ],
      "execution_count": 74,
      "outputs": []
    },
    {
      "cell_type": "code",
      "metadata": {
        "id": "D9QiJsrsYelO",
        "colab_type": "code",
        "colab": {
          "base_uri": "https://localhost:8080/",
          "height": 34
        },
        "outputId": "164f8df6-74c5-452e-af29-25b0c1888169"
      },
      "source": [
        "train_image_gen = image_gen.flow_from_directory(train_path,\n",
        "                                               target_size=image_shape[:2],\n",
        "                                                color_mode='rgb',\n",
        "                                               batch_size=batch_size,\n",
        "                                               class_mode='binary')"
      ],
      "execution_count": 75,
      "outputs": [
        {
          "output_type": "stream",
          "text": [
            "Found 5216 images belonging to 2 classes.\n"
          ],
          "name": "stdout"
        }
      ]
    },
    {
      "cell_type": "code",
      "metadata": {
        "id": "dFiP-deQYgiS",
        "colab_type": "code",
        "colab": {
          "base_uri": "https://localhost:8080/",
          "height": 34
        },
        "outputId": "cfc14168-4d7a-4655-cf2a-04fd499db933"
      },
      "source": [
        "test_image_gen = image_gen.flow_from_directory(test_path,\n",
        "                                               target_size=image_shape[:2],\n",
        "                                               color_mode='rgb',\n",
        "                                               batch_size=batch_size,\n",
        "                                               class_mode='binary',shuffle=False)"
      ],
      "execution_count": 76,
      "outputs": [
        {
          "output_type": "stream",
          "text": [
            "Found 624 images belonging to 2 classes.\n"
          ],
          "name": "stdout"
        }
      ]
    },
    {
      "cell_type": "code",
      "metadata": {
        "id": "k67PP7nSSGth",
        "colab_type": "code",
        "colab": {
          "base_uri": "https://localhost:8080/",
          "height": 34
        },
        "outputId": "d17672c5-c1d2-442f-906c-8faeedf1e6e0"
      },
      "source": [
        "val_image_gen = image_gen.flow_from_directory(val_path,\n",
        "                                               target_size=image_shape[:2],\n",
        "                                               color_mode='rgb',\n",
        "                                               batch_size=batch_size,\n",
        "                                               class_mode='binary',shuffle=False)"
      ],
      "execution_count": 77,
      "outputs": [
        {
          "output_type": "stream",
          "text": [
            "Found 16 images belonging to 2 classes.\n"
          ],
          "name": "stdout"
        }
      ]
    },
    {
      "cell_type": "code",
      "metadata": {
        "id": "pt0cL5JfYjAK",
        "colab_type": "code",
        "colab": {
          "base_uri": "https://localhost:8080/",
          "height": 34
        },
        "outputId": "8c82c292-2336-4158-efab-80e293d8f96a"
      },
      "source": [
        "train_image_gen.class_indices"
      ],
      "execution_count": 78,
      "outputs": [
        {
          "output_type": "execute_result",
          "data": {
            "text/plain": [
              "{'NORMAL': 0, 'PNEUMONIA': 1}"
            ]
          },
          "metadata": {
            "tags": []
          },
          "execution_count": 78
        }
      ]
    },
    {
      "cell_type": "code",
      "metadata": {
        "id": "s8j_IDLqSQYg",
        "colab_type": "code",
        "colab": {
          "base_uri": "https://localhost:8080/",
          "height": 34
        },
        "outputId": "e8dd5ecb-d500-4194-8a0d-bc606054bfd2"
      },
      "source": [
        "val_image_gen.class_indices"
      ],
      "execution_count": 79,
      "outputs": [
        {
          "output_type": "execute_result",
          "data": {
            "text/plain": [
              "{'NORMAL': 0, 'PNEUMONIA': 1}"
            ]
          },
          "metadata": {
            "tags": []
          },
          "execution_count": 79
        }
      ]
    },
    {
      "cell_type": "code",
      "metadata": {
        "id": "6kJtZNxhYlCe",
        "colab_type": "code",
        "colab": {}
      },
      "source": [
        "import warnings\n",
        "warnings.filterwarnings('ignore')"
      ],
      "execution_count": 80,
      "outputs": []
    },
    {
      "cell_type": "code",
      "metadata": {
        "id": "IU6UZasCEVcx",
        "colab_type": "code",
        "colab": {}
      },
      "source": [
        ""
      ],
      "execution_count": 81,
      "outputs": []
    },
    {
      "cell_type": "code",
      "metadata": {
        "id": "YMWKotehYob4",
        "colab_type": "code",
        "colab": {
          "base_uri": "https://localhost:8080/",
          "height": 558
        },
        "outputId": "c887194a-562e-4218-9f79-7e0681ca603c"
      },
      "source": [
        "model.fit(train_image_gen,epochs=10,\n",
        "                              validation_data=test_image_gen,\n",
        "                             callbacks=[early_stop])"
      ],
      "execution_count": 82,
      "outputs": [
        {
          "output_type": "stream",
          "text": [
            "Epoch 1/10\n",
            "326/326 [==============================] - ETA: 0s - loss: 0.4560 - accuracy: 0.7853WARNING:tensorflow:Early stopping conditioned on metric `val_acc` which is not available. Available metrics are: loss,accuracy,val_loss,val_accuracy\n",
            "326/326 [==============================] - 98s 301ms/step - loss: 0.4560 - accuracy: 0.7853 - val_loss: 0.4005 - val_accuracy: 0.8301\n",
            "Epoch 2/10\n",
            "326/326 [==============================] - ETA: 0s - loss: 0.2730 - accuracy: 0.8786WARNING:tensorflow:Early stopping conditioned on metric `val_acc` which is not available. Available metrics are: loss,accuracy,val_loss,val_accuracy\n",
            "326/326 [==============================] - 98s 302ms/step - loss: 0.2730 - accuracy: 0.8786 - val_loss: 0.6837 - val_accuracy: 0.7228\n",
            "Epoch 3/10\n",
            "326/326 [==============================] - ETA: 0s - loss: 0.2307 - accuracy: 0.9087WARNING:tensorflow:Early stopping conditioned on metric `val_acc` which is not available. Available metrics are: loss,accuracy,val_loss,val_accuracy\n",
            "326/326 [==============================] - 96s 294ms/step - loss: 0.2307 - accuracy: 0.9087 - val_loss: 0.3770 - val_accuracy: 0.8542\n",
            "Epoch 4/10\n",
            "326/326 [==============================] - ETA: 0s - loss: 0.2193 - accuracy: 0.9149WARNING:tensorflow:Early stopping conditioned on metric `val_acc` which is not available. Available metrics are: loss,accuracy,val_loss,val_accuracy\n",
            "326/326 [==============================] - 99s 304ms/step - loss: 0.2193 - accuracy: 0.9149 - val_loss: 0.4677 - val_accuracy: 0.8125\n",
            "Epoch 5/10\n",
            "326/326 [==============================] - ETA: 0s - loss: 0.2040 - accuracy: 0.9208WARNING:tensorflow:Early stopping conditioned on metric `val_acc` which is not available. Available metrics are: loss,accuracy,val_loss,val_accuracy\n",
            "326/326 [==============================] - 95s 292ms/step - loss: 0.2040 - accuracy: 0.9208 - val_loss: 0.3817 - val_accuracy: 0.8510\n",
            "Epoch 6/10\n",
            "326/326 [==============================] - ETA: 0s - loss: 0.2040 - accuracy: 0.9216WARNING:tensorflow:Early stopping conditioned on metric `val_acc` which is not available. Available metrics are: loss,accuracy,val_loss,val_accuracy\n",
            "326/326 [==============================] - 98s 302ms/step - loss: 0.2040 - accuracy: 0.9216 - val_loss: 0.4935 - val_accuracy: 0.8029\n",
            "Epoch 7/10\n",
            "326/326 [==============================] - ETA: 0s - loss: 0.1940 - accuracy: 0.9247WARNING:tensorflow:Early stopping conditioned on metric `val_acc` which is not available. Available metrics are: loss,accuracy,val_loss,val_accuracy\n",
            "326/326 [==============================] - 98s 301ms/step - loss: 0.1940 - accuracy: 0.9247 - val_loss: 0.4002 - val_accuracy: 0.8429\n",
            "Epoch 8/10\n",
            "326/326 [==============================] - ETA: 0s - loss: 0.1803 - accuracy: 0.9302WARNING:tensorflow:Early stopping conditioned on metric `val_acc` which is not available. Available metrics are: loss,accuracy,val_loss,val_accuracy\n",
            "326/326 [==============================] - 96s 294ms/step - loss: 0.1803 - accuracy: 0.9302 - val_loss: 0.4338 - val_accuracy: 0.8429\n",
            "Epoch 9/10\n",
            "326/326 [==============================] - ETA: 0s - loss: 0.1808 - accuracy: 0.9316WARNING:tensorflow:Early stopping conditioned on metric `val_acc` which is not available. Available metrics are: loss,accuracy,val_loss,val_accuracy\n",
            "326/326 [==============================] - 97s 298ms/step - loss: 0.1808 - accuracy: 0.9316 - val_loss: 0.4392 - val_accuracy: 0.8285\n",
            "Epoch 10/10\n",
            "326/326 [==============================] - ETA: 0s - loss: 0.1771 - accuracy: 0.9293WARNING:tensorflow:Early stopping conditioned on metric `val_acc` which is not available. Available metrics are: loss,accuracy,val_loss,val_accuracy\n",
            "326/326 [==============================] - 97s 296ms/step - loss: 0.1771 - accuracy: 0.9293 - val_loss: 0.6720 - val_accuracy: 0.7660\n"
          ],
          "name": "stdout"
        },
        {
          "output_type": "execute_result",
          "data": {
            "text/plain": [
              "<tensorflow.python.keras.callbacks.History at 0x7f1484571a90>"
            ]
          },
          "metadata": {
            "tags": []
          },
          "execution_count": 82
        }
      ]
    },
    {
      "cell_type": "code",
      "metadata": {
        "id": "qB0SYOT7YrGu",
        "colab_type": "code",
        "colab": {
          "base_uri": "https://localhost:8080/",
          "height": 343
        },
        "outputId": "3c02e932-d8c2-481a-c726-d1ce69d1dd26"
      },
      "source": [
        "losses = pd.DataFrame(model.history.history)\n",
        "losses"
      ],
      "execution_count": 83,
      "outputs": [
        {
          "output_type": "execute_result",
          "data": {
            "text/html": [
              "<div>\n",
              "<style scoped>\n",
              "    .dataframe tbody tr th:only-of-type {\n",
              "        vertical-align: middle;\n",
              "    }\n",
              "\n",
              "    .dataframe tbody tr th {\n",
              "        vertical-align: top;\n",
              "    }\n",
              "\n",
              "    .dataframe thead th {\n",
              "        text-align: right;\n",
              "    }\n",
              "</style>\n",
              "<table border=\"1\" class=\"dataframe\">\n",
              "  <thead>\n",
              "    <tr style=\"text-align: right;\">\n",
              "      <th></th>\n",
              "      <th>loss</th>\n",
              "      <th>accuracy</th>\n",
              "      <th>val_loss</th>\n",
              "      <th>val_accuracy</th>\n",
              "    </tr>\n",
              "  </thead>\n",
              "  <tbody>\n",
              "    <tr>\n",
              "      <th>0</th>\n",
              "      <td>0.455962</td>\n",
              "      <td>0.785276</td>\n",
              "      <td>0.400487</td>\n",
              "      <td>0.830128</td>\n",
              "    </tr>\n",
              "    <tr>\n",
              "      <th>1</th>\n",
              "      <td>0.272990</td>\n",
              "      <td>0.878643</td>\n",
              "      <td>0.683710</td>\n",
              "      <td>0.722756</td>\n",
              "    </tr>\n",
              "    <tr>\n",
              "      <th>2</th>\n",
              "      <td>0.230743</td>\n",
              "      <td>0.908742</td>\n",
              "      <td>0.377019</td>\n",
              "      <td>0.854167</td>\n",
              "    </tr>\n",
              "    <tr>\n",
              "      <th>3</th>\n",
              "      <td>0.219287</td>\n",
              "      <td>0.914877</td>\n",
              "      <td>0.467675</td>\n",
              "      <td>0.812500</td>\n",
              "    </tr>\n",
              "    <tr>\n",
              "      <th>4</th>\n",
              "      <td>0.203999</td>\n",
              "      <td>0.920821</td>\n",
              "      <td>0.381667</td>\n",
              "      <td>0.850962</td>\n",
              "    </tr>\n",
              "    <tr>\n",
              "      <th>5</th>\n",
              "      <td>0.204014</td>\n",
              "      <td>0.921587</td>\n",
              "      <td>0.493527</td>\n",
              "      <td>0.802885</td>\n",
              "    </tr>\n",
              "    <tr>\n",
              "      <th>6</th>\n",
              "      <td>0.193967</td>\n",
              "      <td>0.924655</td>\n",
              "      <td>0.400244</td>\n",
              "      <td>0.842949</td>\n",
              "    </tr>\n",
              "    <tr>\n",
              "      <th>7</th>\n",
              "      <td>0.180305</td>\n",
              "      <td>0.930215</td>\n",
              "      <td>0.433792</td>\n",
              "      <td>0.842949</td>\n",
              "    </tr>\n",
              "    <tr>\n",
              "      <th>8</th>\n",
              "      <td>0.180822</td>\n",
              "      <td>0.931557</td>\n",
              "      <td>0.439229</td>\n",
              "      <td>0.828526</td>\n",
              "    </tr>\n",
              "    <tr>\n",
              "      <th>9</th>\n",
              "      <td>0.177053</td>\n",
              "      <td>0.929256</td>\n",
              "      <td>0.672035</td>\n",
              "      <td>0.766026</td>\n",
              "    </tr>\n",
              "  </tbody>\n",
              "</table>\n",
              "</div>"
            ],
            "text/plain": [
              "       loss  accuracy  val_loss  val_accuracy\n",
              "0  0.455962  0.785276  0.400487      0.830128\n",
              "1  0.272990  0.878643  0.683710      0.722756\n",
              "2  0.230743  0.908742  0.377019      0.854167\n",
              "3  0.219287  0.914877  0.467675      0.812500\n",
              "4  0.203999  0.920821  0.381667      0.850962\n",
              "5  0.204014  0.921587  0.493527      0.802885\n",
              "6  0.193967  0.924655  0.400244      0.842949\n",
              "7  0.180305  0.930215  0.433792      0.842949\n",
              "8  0.180822  0.931557  0.439229      0.828526\n",
              "9  0.177053  0.929256  0.672035      0.766026"
            ]
          },
          "metadata": {
            "tags": []
          },
          "execution_count": 83
        }
      ]
    },
    {
      "cell_type": "code",
      "metadata": {
        "id": "lUm1eKgAuW9Z",
        "colab_type": "code",
        "colab": {
          "base_uri": "https://localhost:8080/",
          "height": 283
        },
        "outputId": "e5293cfb-af29-463b-d55c-57777ff34453"
      },
      "source": [
        "losses[['loss','val_loss']].plot()"
      ],
      "execution_count": 84,
      "outputs": [
        {
          "output_type": "execute_result",
          "data": {
            "text/plain": [
              "<matplotlib.axes._subplots.AxesSubplot at 0x7f1484226128>"
            ]
          },
          "metadata": {
            "tags": []
          },
          "execution_count": 84
        },
        {
          "output_type": "display_data",
          "data": {
            "image/png": "[encoded data removed]",
            "text/plain": [
              "<Figure size 432x288 with 1 Axes>"
            ]
          },
          "metadata": {
            "tags": [],
            "needs_background": "light"
          }
        }
      ]
    },
    {
      "cell_type": "code",
      "metadata": {
        "id": "XYE7NdJwuZFg",
        "colab_type": "code",
        "colab": {
          "base_uri": "https://localhost:8080/",
          "height": 282
        },
        "outputId": "dd90ae55-f7fe-4087-8ca5-bd18a5900043"
      },
      "source": [
        "losses[['accuracy','val_accuracy']].plot()"
      ],
      "execution_count": 85,
      "outputs": [
        {
          "output_type": "execute_result",
          "data": {
            "text/plain": [
              "<matplotlib.axes._subplots.AxesSubplot at 0x7f1484289cf8>"
            ]
          },
          "metadata": {
            "tags": []
          },
          "execution_count": 85
        },
        {
          "output_type": "display_data",
          "data": {
            "image/png": "[encoded data removed]",
            "text/plain": [
              "<Figure size 432x288 with 1 Axes>"
            ]
          },
          "metadata": {
            "tags": [],
            "needs_background": "light"
          }
        }
      ]
    },
    {
      "cell_type": "code",
      "metadata": {
        "id": "DAjMtKH3ubFg",
        "colab_type": "code",
        "colab": {
          "base_uri": "https://localhost:8080/",
          "height": 50
        },
        "outputId": "53a9a69c-c8ad-4e75-8330-7307068678de"
      },
      "source": [
        "model.evaluate(test_image_gen)"
      ],
      "execution_count": 87,
      "outputs": [
        {
          "output_type": "stream",
          "text": [
            "39/39 [==============================] - 9s 221ms/step - loss: 0.7077 - accuracy: 0.7580\n"
          ],
          "name": "stdout"
        },
        {
          "output_type": "execute_result",
          "data": {
            "text/plain": [
              "[0.7076956629753113, 0.7580128312110901]"
            ]
          },
          "metadata": {
            "tags": []
          },
          "execution_count": 87
        }
      ]
    },
    {
      "cell_type": "code",
      "metadata": {
        "id": "6CUFfzGKueKx",
        "colab_type": "code",
        "colab": {}
      },
      "source": [
        "pred=model.predict(test_image_gen)"
      ],
      "execution_count": 88,
      "outputs": []
    },
    {
      "cell_type": "code",
      "metadata": {
        "id": "GE3h3Q9uug0I",
        "colab_type": "code",
        "colab": {}
      },
      "source": [
        "predictions=pred > 0.5"
      ],
      "execution_count": 89,
      "outputs": []
    },
    {
      "cell_type": "code",
      "metadata": {
        "id": "AmJjwZUwuvVz",
        "colab_type": "code",
        "colab": {}
      },
      "source": [
        "from sklearn.metrics import classification_report,confusion_matrix"
      ],
      "execution_count": 90,
      "outputs": []
    },
    {
      "cell_type": "code",
      "metadata": {
        "id": "fQaslEtruxwN",
        "colab_type": "code",
        "colab": {
          "base_uri": "https://localhost:8080/",
          "height": 168
        },
        "outputId": "feb7e9f7-1827-4c5c-8f92-8e0a96dd7748"
      },
      "source": [
        "print(classification_report(test_image_gen.classes,predictions))    "
      ],
      "execution_count": 91,
      "outputs": [
        {
          "output_type": "stream",
          "text": [
            "              precision    recall  f1-score   support\n",
            "\n",
            "           0       0.99      0.33      0.49       234\n",
            "           1       0.71      1.00      0.83       390\n",
            "\n",
            "    accuracy                           0.75       624\n",
            "   macro avg       0.85      0.66      0.66       624\n",
            "weighted avg       0.82      0.75      0.70       624\n",
            "\n"
          ],
          "name": "stdout"
        }
      ]
    },
    {
      "cell_type": "code",
      "metadata": {
        "id": "MEFrCPy4uzzn",
        "colab_type": "code",
        "colab": {
          "base_uri": "https://localhost:8080/",
          "height": 50
        },
        "outputId": "f7f4434f-4b56-4fe2-cc24-03ae5774b564"
      },
      "source": [
        "print(confusion_matrix(test_image_gen.classes,predictions))"
      ],
      "execution_count": 92,
      "outputs": [
        {
          "output_type": "stream",
          "text": [
            "[[ 77 157]\n",
            " [  1 389]]\n"
          ],
          "name": "stdout"
        }
      ]
    },
    {
      "cell_type": "markdown",
      "metadata": {
        "id": "9oiwGOkmalBe",
        "colab_type": "text"
      },
      "source": [
        "# Tuning the CNN  using Keras Tuner"
      ]
    },
    {
      "cell_type": "code",
      "metadata": {
        "id": "bb_21TJDzBne",
        "colab_type": "code",
        "colab": {}
      },
      "source": [
        "import tensorflow as tf\n",
        "from tensorflow import keras"
      ],
      "execution_count": 93,
      "outputs": []
    },
    {
      "cell_type": "code",
      "metadata": {
        "id": "0jcJl4fqykEJ",
        "colab_type": "code",
        "colab": {}
      },
      "source": [
        "def build_model(hp):\n",
        "    model2=keras.Sequential([\n",
        "        keras.layers.Conv2D(\n",
        "        filters=hp.Int('conv_1_filter',min_value=32,max_value=256,step=16),\n",
        "        kernel_size=hp.Choice('conv_1_kernel',values=[3,5]),\n",
        "        activation='relu',\n",
        "        input_shape=image_shape\n",
        "        ),\n",
        "        \n",
        "        keras.layers.MaxPooling2D(pool_size=(3, 3)),\n",
        "        \n",
        "        keras.layers.Conv2D(\n",
        "        filters=hp.Int('conv_2_filter',min_value=32,max_value=256,step=16),\n",
        "        kernel_size=hp.Choice('conv_2_kernel',values=[3,5]),\n",
        "        activation='relu',\n",
        "        ),\n",
        "        \n",
        "        keras.layers.MaxPooling2D(pool_size=(3, 3)),\n",
        "        \n",
        "        keras.layers.Conv2D(\n",
        "        filters=hp.Int('conv_3_filter',min_value=32,max_value=256,step=16),\n",
        "        kernel_size=hp.Choice('conv_3_kernel',values=[3,5]),\n",
        "        activation='relu',\n",
        "        ),\n",
        "        \n",
        "        keras.layers.MaxPooling2D(pool_size=(3, 3)),\n",
        "         \n",
        "        keras.layers.Flatten(),\n",
        "        \n",
        "        keras.layers.Dense(\n",
        "        units=hp.Int('dens_1_units',min_value=32,max_value=256,step=16),\n",
        "        activation='relu'\n",
        "        ),\n",
        "        \n",
        "        keras.layers.Dense(1,activation='sigmoid')\n",
        "        \n",
        "    ])\n",
        "    \n",
        "    model2.compile(keras.optimizers.Adam(hp.Choice('learning_rate',values=[1e-2,1e-3])),\n",
        "                  loss='binary_crossentropy',\n",
        "                  metrics=['accuracy'])\n",
        "    \n",
        "    return model2"
      ],
      "execution_count": 94,
      "outputs": []
    },
    {
      "cell_type": "code",
      "metadata": {
        "id": "jUsDgip9zjVn",
        "colab_type": "code",
        "colab": {
          "base_uri": "https://localhost:8080/",
          "height": 504
        },
        "outputId": "cf1d0284-6e55-4c38-ba33-b5ad4749beaf"
      },
      "source": [
        "!pip install keras-tuner"
      ],
      "execution_count": 95,
      "outputs": [
        {
          "output_type": "stream",
          "text": [
            "Collecting keras-tuner\n",
            "\u001b[?25l  Downloading https://files.pythonhosted.org/packages/a7/f7/4b41b6832abf4c9bef71a664dc563adb25afc5812831667c6db572b1a261/keras-tuner-1.0.1.tar.gz (54kB)\n",
            "\r\u001b[K     |██████                          | 10kB 20.1MB/s eta 0:00:01\r\u001b[K     |████████████                    | 20kB 2.2MB/s eta 0:00:01\r\u001b[K     |██████████████████              | 30kB 2.8MB/s eta 0:00:01\r\u001b[K     |████████████████████████        | 40kB 3.1MB/s eta 0:00:01\r\u001b[K     |██████████████████████████████  | 51kB 2.6MB/s eta 0:00:01\r\u001b[K     |████████████████████████████████| 61kB 1.8MB/s \n",
            "\u001b[?25hRequirement already satisfied: future in /usr/local/lib/python3.6/dist-packages (from keras-tuner) (0.16.0)\n",
            "Requirement already satisfied: numpy in /usr/local/lib/python3.6/dist-packages (from keras-tuner) (1.18.5)\n",
            "Requirement already satisfied: tabulate in /usr/local/lib/python3.6/dist-packages (from keras-tuner) (0.8.7)\n",
            "Collecting terminaltables\n",
            "  Downloading https://files.pythonhosted.org/packages/9b/c4/4a21174f32f8a7e1104798c445dacdc1d4df86f2f26722767034e4de4bff/terminaltables-3.1.0.tar.gz\n",
            "Collecting colorama\n",
            "  Downloading https://files.pythonhosted.org/packages/c9/dc/45cdef1b4d119eb96316b3117e6d5708a08029992b2fee2c143c7a0a5cc5/colorama-0.4.3-py2.py3-none-any.whl\n",
            "Requirement already satisfied: tqdm in /usr/local/lib/python3.6/dist-packages (from keras-tuner) (4.41.1)\n",
            "Requirement already satisfied: requests in /usr/local/lib/python3.6/dist-packages (from keras-tuner) (2.23.0)\n",
            "Requirement already satisfied: scipy in /usr/local/lib/python3.6/dist-packages (from keras-tuner) (1.4.1)\n",
            "Requirement already satisfied: scikit-learn in /usr/local/lib/python3.6/dist-packages (from keras-tuner) (0.22.2.post1)\n",
            "Requirement already satisfied: chardet<4,>=3.0.2 in /usr/local/lib/python3.6/dist-packages (from requests->keras-tuner) (3.0.4)\n",
            "Requirement already satisfied: urllib3!=1.25.0,!=1.25.1,<1.26,>=1.21.1 in /usr/local/lib/python3.6/dist-packages (from requests->keras-tuner) (1.24.3)\n",
            "Requirement already satisfied: idna<3,>=2.5 in /usr/local/lib/python3.6/dist-packages (from requests->keras-tuner) (2.10)\n",
            "Requirement already satisfied: certifi>=2017.4.17 in /usr/local/lib/python3.6/dist-packages (from requests->keras-tuner) (2020.6.20)\n",
            "Requirement already satisfied: joblib>=0.11 in /usr/local/lib/python3.6/dist-packages (from scikit-learn->keras-tuner) (0.16.0)\n",
            "Building wheels for collected packages: keras-tuner, terminaltables\n",
            "  Building wheel for keras-tuner (setup.py) ... \u001b[?25l\u001b[?25hdone\n",
            "  Created wheel for keras-tuner: filename=keras_tuner-1.0.1-cp36-none-any.whl size=73200 sha256=95b3c602d79bcc7b6462a369fac973a93cb2b39eb30b3b2394b0ee8d86565d1c\n",
            "  Stored in directory: /root/.cache/pip/wheels/b9/cc/62/52716b70dd90f3db12519233c3a93a5360bc672da1a10ded43\n",
            "  Building wheel for terminaltables (setup.py) ... \u001b[?25l\u001b[?25hdone\n",
            "  Created wheel for terminaltables: filename=terminaltables-3.1.0-cp36-none-any.whl size=15356 sha256=73b5bba7159af791170d1ba3447a12bec14542a7bbab8a2b156cdddf0fde46d3\n",
            "  Stored in directory: /root/.cache/pip/wheels/30/6b/50/6c75775b681fb36cdfac7f19799888ef9d8813aff9e379663e\n",
            "Successfully built keras-tuner terminaltables\n",
            "Installing collected packages: terminaltables, colorama, keras-tuner\n",
            "Successfully installed colorama-0.4.3 keras-tuner-1.0.1 terminaltables-3.1.0\n"
          ],
          "name": "stdout"
        }
      ]
    },
    {
      "cell_type": "code",
      "metadata": {
        "id": "P3MbFxrczVnw",
        "colab_type": "code",
        "colab": {}
      },
      "source": [
        "from kerastuner import RandomSearch\n",
        "from kerastuner.engine.hyperparameters import HyperParameters"
      ],
      "execution_count": 96,
      "outputs": []
    },
    {
      "cell_type": "code",
      "metadata": {
        "id": "vAHSfiHYzzFd",
        "colab_type": "code",
        "colab": {}
      },
      "source": [
        "tuner_search=RandomSearch(build_model,\n",
        "                          objective='val_accuracy',\n",
        "                          max_trials=6,directory='output',\n",
        "                          project_name='chest_xray')"
      ],
      "execution_count": 97,
      "outputs": []
    },
    {
      "cell_type": "code",
      "metadata": {
        "id": "gpe4q4UczejJ",
        "colab_type": "code",
        "colab": {
          "base_uri": "https://localhost:8080/",
          "height": 1000
        },
        "outputId": "549a7913-a9d6-4055-f0d1-fdeba3b39423"
      },
      "source": [
        "tuner_search.search(train_image_gen,validation_data=test_image_gen,epochs=3)"
      ],
      "execution_count": 99,
      "outputs": [
        {
          "output_type": "stream",
          "text": [
            "Epoch 1/3\n",
            "326/326 [==============================] - 96s 294ms/step - loss: 0.4340 - accuracy: 0.8050 - val_loss: 0.8248 - val_accuracy: 0.6763\n",
            "Epoch 2/3\n",
            "326/326 [==============================] - 94s 289ms/step - loss: 0.2515 - accuracy: 0.8997 - val_loss: 0.4956 - val_accuracy: 0.7756\n",
            "Epoch 3/3\n",
            "326/326 [==============================] - 93s 286ms/step - loss: 0.2079 - accuracy: 0.9172 - val_loss: 0.5125 - val_accuracy: 0.7628\n"
          ],
          "name": "stdout"
        },
        {
          "output_type": "display_data",
          "data": {
            "text/html": [
              "<span style=\"color:#4527A0\"><h1 style=\"font-size:18px\">Trial complete</h1></span>"
            ],
            "text/plain": [
              "<IPython.core.display.HTML object>"
            ]
          },
          "metadata": {
            "tags": []
          }
        },
        {
          "output_type": "display_data",
          "data": {
            "text/html": [
              "<span style=\"color:#4527A0\"><h1 style=\"font-size:18px\">Trial summary</h1></span>"
            ],
            "text/plain": [
              "<IPython.core.display.HTML object>"
            ]
          },
          "metadata": {
            "tags": []
          }
        },
        {
          "output_type": "display_data",
          "data": {
            "text/html": [
              "<span style=\"color:cyan\"> |-Trial ID: bade1daace85647ec765cb37fecd91f0</span>"
            ],
            "text/plain": [
              "<IPython.core.display.HTML object>"
            ]
          },
          "metadata": {
            "tags": []
          }
        },
        {
          "output_type": "display_data",
          "data": {
            "text/html": [
              "<span style=\"color:cyan\"> |-Score: 0.7756410241127014</span>"
            ],
            "text/plain": [
              "<IPython.core.display.HTML object>"
            ]
          },
          "metadata": {
            "tags": []
          }
        },
        {
          "output_type": "display_data",
          "data": {
            "text/html": [
              "<span style=\"color:cyan\"> |-Best step: 0</span>"
            ],
            "text/plain": [
              "<IPython.core.display.HTML object>"
            ]
          },
          "metadata": {
            "tags": []
          }
        },
        {
          "output_type": "display_data",
          "data": {
            "text/html": [
              "<span style=\"color:#7E57C2\"><h2 style=\"font-size:16px\">Hyperparameters:</h2></span>"
            ],
            "text/plain": [
              "<IPython.core.display.HTML object>"
            ]
          },
          "metadata": {
            "tags": []
          }
        },
        {
          "output_type": "display_data",
          "data": {
            "text/html": [
              "<span style=\"color:cyan\"> |-conv_1_filter: 48</span>"
            ],
            "text/plain": [
              "<IPython.core.display.HTML object>"
            ]
          },
          "metadata": {
            "tags": []
          }
        },
        {
          "output_type": "display_data",
          "data": {
            "text/html": [
              "<span style=\"color:blue\"> |-conv_1_kernel: 3</span>"
            ],
            "text/plain": [
              "<IPython.core.display.HTML object>"
            ]
          },
          "metadata": {
            "tags": []
          }
        },
        {
          "output_type": "display_data",
          "data": {
            "text/html": [
              "<span style=\"color:cyan\"> |-conv_2_filter: 224</span>"
            ],
            "text/plain": [
              "<IPython.core.display.HTML object>"
            ]
          },
          "metadata": {
            "tags": []
          }
        },
        {
          "output_type": "display_data",
          "data": {
            "text/html": [
              "<span style=\"color:blue\"> |-conv_2_kernel: 5</span>"
            ],
            "text/plain": [
              "<IPython.core.display.HTML object>"
            ]
          },
          "metadata": {
            "tags": []
          }
        },
        {
          "output_type": "display_data",
          "data": {
            "text/html": [
              "<span style=\"color:cyan\"> |-conv_3_filter: 96</span>"
            ],
            "text/plain": [
              "<IPython.core.display.HTML object>"
            ]
          },
          "metadata": {
            "tags": []
          }
        },
        {
          "output_type": "display_data",
          "data": {
            "text/html": [
              "<span style=\"color:blue\"> |-conv_3_kernel: 3</span>"
            ],
            "text/plain": [
              "<IPython.core.display.HTML object>"
            ]
          },
          "metadata": {
            "tags": []
          }
        },
        {
          "output_type": "display_data",
          "data": {
            "text/html": [
              "<span style=\"color:cyan\"> |-dens_1_units: 96</span>"
            ],
            "text/plain": [
              "<IPython.core.display.HTML object>"
            ]
          },
          "metadata": {
            "tags": []
          }
        },
        {
          "output_type": "display_data",
          "data": {
            "text/html": [
              "<span style=\"color:blue\"> |-learning_rate: 0.001</span>"
            ],
            "text/plain": [
              "<IPython.core.display.HTML object>"
            ]
          },
          "metadata": {
            "tags": []
          }
        },
        {
          "output_type": "stream",
          "text": [
            "Epoch 1/3\n",
            "  2/326 [..............................] - ETA: 10s - loss: 80.8323 - accuracy: 0.5000WARNING:tensorflow:Callbacks method `on_train_batch_end` is slow compared to the batch time (batch time: 0.0261s vs `on_train_batch_end` time: 0.0411s). Check your callbacks.\n",
            "326/326 [==============================] - 99s 303ms/step - loss: 1.3565 - accuracy: 0.7318 - val_loss: 0.6697 - val_accuracy: 0.6250\n",
            "Epoch 2/3\n",
            "326/326 [==============================] - 99s 303ms/step - loss: 0.5735 - accuracy: 0.7429 - val_loss: 0.6974 - val_accuracy: 0.6250\n",
            "Epoch 3/3\n",
            "326/326 [==============================] - 99s 305ms/step - loss: 0.5711 - accuracy: 0.7429 - val_loss: 0.7091 - val_accuracy: 0.6250\n"
          ],
          "name": "stdout"
        },
        {
          "output_type": "display_data",
          "data": {
            "text/html": [
              "<span style=\"color:#4527A0\"><h1 style=\"font-size:18px\">Trial complete</h1></span>"
            ],
            "text/plain": [
              "<IPython.core.display.HTML object>"
            ]
          },
          "metadata": {
            "tags": []
          }
        },
        {
          "output_type": "display_data",
          "data": {
            "text/html": [
              "<span style=\"color:#4527A0\"><h1 style=\"font-size:18px\">Trial summary</h1></span>"
            ],
            "text/plain": [
              "<IPython.core.display.HTML object>"
            ]
          },
          "metadata": {
            "tags": []
          }
        },
        {
          "output_type": "display_data",
          "data": {
            "text/html": [
              "<span style=\"color:cyan\"> |-Trial ID: c08cf5bf2e097967c35f1b728e0b8e1f</span>"
            ],
            "text/plain": [
              "<IPython.core.display.HTML object>"
            ]
          },
          "metadata": {
            "tags": []
          }
        },
        {
          "output_type": "display_data",
          "data": {
            "text/html": [
              "<span style=\"color:cyan\"> |-Score: 0.625</span>"
            ],
            "text/plain": [
              "<IPython.core.display.HTML object>"
            ]
          },
          "metadata": {
            "tags": []
          }
        },
        {
          "output_type": "display_data",
          "data": {
            "text/html": [
              "<span style=\"color:cyan\"> |-Best step: 0</span>"
            ],
            "text/plain": [
              "<IPython.core.display.HTML object>"
            ]
          },
          "metadata": {
            "tags": []
          }
        },
        {
          "output_type": "display_data",
          "data": {
            "text/html": [
              "<span style=\"color:#7E57C2\"><h2 style=\"font-size:16px\">Hyperparameters:</h2></span>"
            ],
            "text/plain": [
              "<IPython.core.display.HTML object>"
            ]
          },
          "metadata": {
            "tags": []
          }
        },
        {
          "output_type": "display_data",
          "data": {
            "text/html": [
              "<span style=\"color:cyan\"> |-conv_1_filter: 160</span>"
            ],
            "text/plain": [
              "<IPython.core.display.HTML object>"
            ]
          },
          "metadata": {
            "tags": []
          }
        },
        {
          "output_type": "display_data",
          "data": {
            "text/html": [
              "<span style=\"color:blue\"> |-conv_1_kernel: 3</span>"
            ],
            "text/plain": [
              "<IPython.core.display.HTML object>"
            ]
          },
          "metadata": {
            "tags": []
          }
        },
        {
          "output_type": "display_data",
          "data": {
            "text/html": [
              "<span style=\"color:cyan\"> |-conv_2_filter: 192</span>"
            ],
            "text/plain": [
              "<IPython.core.display.HTML object>"
            ]
          },
          "metadata": {
            "tags": []
          }
        },
        {
          "output_type": "display_data",
          "data": {
            "text/html": [
              "<span style=\"color:blue\"> |-conv_2_kernel: 5</span>"
            ],
            "text/plain": [
              "<IPython.core.display.HTML object>"
            ]
          },
          "metadata": {
            "tags": []
          }
        },
        {
          "output_type": "display_data",
          "data": {
            "text/html": [
              "<span style=\"color:cyan\"> |-conv_3_filter: 240</span>"
            ],
            "text/plain": [
              "<IPython.core.display.HTML object>"
            ]
          },
          "metadata": {
            "tags": []
          }
        },
        {
          "output_type": "display_data",
          "data": {
            "text/html": [
              "<span style=\"color:blue\"> |-conv_3_kernel: 5</span>"
            ],
            "text/plain": [
              "<IPython.core.display.HTML object>"
            ]
          },
          "metadata": {
            "tags": []
          }
        },
        {
          "output_type": "display_data",
          "data": {
            "text/html": [
              "<span style=\"color:cyan\"> |-dens_1_units: 112</span>"
            ],
            "text/plain": [
              "<IPython.core.display.HTML object>"
            ]
          },
          "metadata": {
            "tags": []
          }
        },
        {
          "output_type": "display_data",
          "data": {
            "text/html": [
              "<span style=\"color:blue\"> |-learning_rate: 0.01</span>"
            ],
            "text/plain": [
              "<IPython.core.display.HTML object>"
            ]
          },
          "metadata": {
            "tags": []
          }
        },
        {
          "output_type": "stream",
          "text": [
            "Epoch 1/3\n",
            "  2/326 [..............................] - ETA: 12s - loss: 0.6413 - accuracy: 0.4688WARNING:tensorflow:Callbacks method `on_train_batch_end` is slow compared to the batch time (batch time: 0.0289s vs `on_train_batch_end` time: 0.0546s). Check your callbacks.\n",
            "326/326 [==============================] - 100s 306ms/step - loss: 0.4671 - accuracy: 0.7945 - val_loss: 0.4218 - val_accuracy: 0.8077\n",
            "Epoch 2/3\n",
            "326/326 [==============================] - 100s 305ms/step - loss: 0.2490 - accuracy: 0.8947 - val_loss: 0.4533 - val_accuracy: 0.8173\n",
            "Epoch 3/3\n",
            "326/326 [==============================] - 100s 308ms/step - loss: 0.2339 - accuracy: 0.9045 - val_loss: 0.4366 - val_accuracy: 0.8077\n"
          ],
          "name": "stdout"
        },
        {
          "output_type": "display_data",
          "data": {
            "text/html": [
              "<span style=\"color:#4527A0\"><h1 style=\"font-size:18px\">Trial complete</h1></span>"
            ],
            "text/plain": [
              "<IPython.core.display.HTML object>"
            ]
          },
          "metadata": {
            "tags": []
          }
        },
        {
          "output_type": "display_data",
          "data": {
            "text/html": [
              "<span style=\"color:#4527A0\"><h1 style=\"font-size:18px\">Trial summary</h1></span>"
            ],
            "text/plain": [
              "<IPython.core.display.HTML object>"
            ]
          },
          "metadata": {
            "tags": []
          }
        },
        {
          "output_type": "display_data",
          "data": {
            "text/html": [
              "<span style=\"color:cyan\"> |-Trial ID: 2a3f2a449d7c0d4a3f49722fe9aa9f2a</span>"
            ],
            "text/plain": [
              "<IPython.core.display.HTML object>"
            ]
          },
          "metadata": {
            "tags": []
          }
        },
        {
          "output_type": "display_data",
          "data": {
            "text/html": [
              "<span style=\"color:cyan\"> |-Score: 0.817307710647583</span>"
            ],
            "text/plain": [
              "<IPython.core.display.HTML object>"
            ]
          },
          "metadata": {
            "tags": []
          }
        },
        {
          "output_type": "display_data",
          "data": {
            "text/html": [
              "<span style=\"color:cyan\"> |-Best step: 0</span>"
            ],
            "text/plain": [
              "<IPython.core.display.HTML object>"
            ]
          },
          "metadata": {
            "tags": []
          }
        },
        {
          "output_type": "display_data",
          "data": {
            "text/html": [
              "<span style=\"color:#7E57C2\"><h2 style=\"font-size:16px\">Hyperparameters:</h2></span>"
            ],
            "text/plain": [
              "<IPython.core.display.HTML object>"
            ]
          },
          "metadata": {
            "tags": []
          }
        },
        {
          "output_type": "display_data",
          "data": {
            "text/html": [
              "<span style=\"color:cyan\"> |-conv_1_filter: 224</span>"
            ],
            "text/plain": [
              "<IPython.core.display.HTML object>"
            ]
          },
          "metadata": {
            "tags": []
          }
        },
        {
          "output_type": "display_data",
          "data": {
            "text/html": [
              "<span style=\"color:blue\"> |-conv_1_kernel: 3</span>"
            ],
            "text/plain": [
              "<IPython.core.display.HTML object>"
            ]
          },
          "metadata": {
            "tags": []
          }
        },
        {
          "output_type": "display_data",
          "data": {
            "text/html": [
              "<span style=\"color:cyan\"> |-conv_2_filter: 192</span>"
            ],
            "text/plain": [
              "<IPython.core.display.HTML object>"
            ]
          },
          "metadata": {
            "tags": []
          }
        },
        {
          "output_type": "display_data",
          "data": {
            "text/html": [
              "<span style=\"color:blue\"> |-conv_2_kernel: 3</span>"
            ],
            "text/plain": [
              "<IPython.core.display.HTML object>"
            ]
          },
          "metadata": {
            "tags": []
          }
        },
        {
          "output_type": "display_data",
          "data": {
            "text/html": [
              "<span style=\"color:cyan\"> |-conv_3_filter: 144</span>"
            ],
            "text/plain": [
              "<IPython.core.display.HTML object>"
            ]
          },
          "metadata": {
            "tags": []
          }
        },
        {
          "output_type": "display_data",
          "data": {
            "text/html": [
              "<span style=\"color:blue\"> |-conv_3_kernel: 3</span>"
            ],
            "text/plain": [
              "<IPython.core.display.HTML object>"
            ]
          },
          "metadata": {
            "tags": []
          }
        },
        {
          "output_type": "display_data",
          "data": {
            "text/html": [
              "<span style=\"color:cyan\"> |-dens_1_units: 48</span>"
            ],
            "text/plain": [
              "<IPython.core.display.HTML object>"
            ]
          },
          "metadata": {
            "tags": []
          }
        },
        {
          "output_type": "display_data",
          "data": {
            "text/html": [
              "<span style=\"color:blue\"> |-learning_rate: 0.001</span>"
            ],
            "text/plain": [
              "<IPython.core.display.HTML object>"
            ]
          },
          "metadata": {
            "tags": []
          }
        },
        {
          "output_type": "stream",
          "text": [
            "Epoch 1/3\n",
            "326/326 [==============================] - 94s 289ms/step - loss: 0.4591 - accuracy: 0.7947 - val_loss: 0.6270 - val_accuracy: 0.7356\n",
            "Epoch 2/3\n",
            "326/326 [==============================] - 93s 285ms/step - loss: 0.2572 - accuracy: 0.8951 - val_loss: 0.7364 - val_accuracy: 0.7356\n",
            "Epoch 3/3\n",
            "326/326 [==============================] - 93s 286ms/step - loss: 0.2060 - accuracy: 0.9162 - val_loss: 0.6350 - val_accuracy: 0.7804\n"
          ],
          "name": "stdout"
        },
        {
          "output_type": "display_data",
          "data": {
            "text/html": [
              "<span style=\"color:#4527A0\"><h1 style=\"font-size:18px\">Trial complete</h1></span>"
            ],
            "text/plain": [
              "<IPython.core.display.HTML object>"
            ]
          },
          "metadata": {
            "tags": []
          }
        },
        {
          "output_type": "display_data",
          "data": {
            "text/html": [
              "<span style=\"color:#4527A0\"><h1 style=\"font-size:18px\">Trial summary</h1></span>"
            ],
            "text/plain": [
              "<IPython.core.display.HTML object>"
            ]
          },
          "metadata": {
            "tags": []
          }
        },
        {
          "output_type": "display_data",
          "data": {
            "text/html": [
              "<span style=\"color:cyan\"> |-Trial ID: 99a1db741e146ac11070bb295221af03</span>"
            ],
            "text/plain": [
              "<IPython.core.display.HTML object>"
            ]
          },
          "metadata": {
            "tags": []
          }
        },
        {
          "output_type": "display_data",
          "data": {
            "text/html": [
              "<span style=\"color:cyan\"> |-Score: 0.7804487347602844</span>"
            ],
            "text/plain": [
              "<IPython.core.display.HTML object>"
            ]
          },
          "metadata": {
            "tags": []
          }
        },
        {
          "output_type": "display_data",
          "data": {
            "text/html": [
              "<span style=\"color:cyan\"> |-Best step: 0</span>"
            ],
            "text/plain": [
              "<IPython.core.display.HTML object>"
            ]
          },
          "metadata": {
            "tags": []
          }
        },
        {
          "output_type": "display_data",
          "data": {
            "text/html": [
              "<span style=\"color:#7E57C2\"><h2 style=\"font-size:16px\">Hyperparameters:</h2></span>"
            ],
            "text/plain": [
              "<IPython.core.display.HTML object>"
            ]
          },
          "metadata": {
            "tags": []
          }
        },
        {
          "output_type": "display_data",
          "data": {
            "text/html": [
              "<span style=\"color:cyan\"> |-conv_1_filter: 32</span>"
            ],
            "text/plain": [
              "<IPython.core.display.HTML object>"
            ]
          },
          "metadata": {
            "tags": []
          }
        },
        {
          "output_type": "display_data",
          "data": {
            "text/html": [
              "<span style=\"color:blue\"> |-conv_1_kernel: 3</span>"
            ],
            "text/plain": [
              "<IPython.core.display.HTML object>"
            ]
          },
          "metadata": {
            "tags": []
          }
        },
        {
          "output_type": "display_data",
          "data": {
            "text/html": [
              "<span style=\"color:cyan\"> |-conv_2_filter: 240</span>"
            ],
            "text/plain": [
              "<IPython.core.display.HTML object>"
            ]
          },
          "metadata": {
            "tags": []
          }
        },
        {
          "output_type": "display_data",
          "data": {
            "text/html": [
              "<span style=\"color:blue\"> |-conv_2_kernel: 3</span>"
            ],
            "text/plain": [
              "<IPython.core.display.HTML object>"
            ]
          },
          "metadata": {
            "tags": []
          }
        },
        {
          "output_type": "display_data",
          "data": {
            "text/html": [
              "<span style=\"color:cyan\"> |-conv_3_filter: 224</span>"
            ],
            "text/plain": [
              "<IPython.core.display.HTML object>"
            ]
          },
          "metadata": {
            "tags": []
          }
        },
        {
          "output_type": "display_data",
          "data": {
            "text/html": [
              "<span style=\"color:blue\"> |-conv_3_kernel: 3</span>"
            ],
            "text/plain": [
              "<IPython.core.display.HTML object>"
            ]
          },
          "metadata": {
            "tags": []
          }
        },
        {
          "output_type": "display_data",
          "data": {
            "text/html": [
              "<span style=\"color:cyan\"> |-dens_1_units: 224</span>"
            ],
            "text/plain": [
              "<IPython.core.display.HTML object>"
            ]
          },
          "metadata": {
            "tags": []
          }
        },
        {
          "output_type": "display_data",
          "data": {
            "text/html": [
              "<span style=\"color:blue\"> |-learning_rate: 0.001</span>"
            ],
            "text/plain": [
              "<IPython.core.display.HTML object>"
            ]
          },
          "metadata": {
            "tags": []
          }
        },
        {
          "output_type": "stream",
          "text": [
            "Epoch 1/3\n",
            "326/326 [==============================] - 93s 287ms/step - loss: 0.4599 - accuracy: 0.8004 - val_loss: 0.4579 - val_accuracy: 0.7772\n",
            "Epoch 2/3\n",
            "326/326 [==============================] - 94s 288ms/step - loss: 0.2786 - accuracy: 0.8809 - val_loss: 0.7833 - val_accuracy: 0.7372\n",
            "Epoch 3/3\n",
            "326/326 [==============================] - 93s 285ms/step - loss: 0.2483 - accuracy: 0.9020 - val_loss: 0.6453 - val_accuracy: 0.7564\n"
          ],
          "name": "stdout"
        },
        {
          "output_type": "display_data",
          "data": {
            "text/html": [
              "<span style=\"color:#4527A0\"><h1 style=\"font-size:18px\">Trial complete</h1></span>"
            ],
            "text/plain": [
              "<IPython.core.display.HTML object>"
            ]
          },
          "metadata": {
            "tags": []
          }
        },
        {
          "output_type": "display_data",
          "data": {
            "text/html": [
              "<span style=\"color:#4527A0\"><h1 style=\"font-size:18px\">Trial summary</h1></span>"
            ],
            "text/plain": [
              "<IPython.core.display.HTML object>"
            ]
          },
          "metadata": {
            "tags": []
          }
        },
        {
          "output_type": "display_data",
          "data": {
            "text/html": [
              "<span style=\"color:cyan\"> |-Trial ID: 520bd0a50d2817e9891832aefaf98ba1</span>"
            ],
            "text/plain": [
              "<IPython.core.display.HTML object>"
            ]
          },
          "metadata": {
            "tags": []
          }
        },
        {
          "output_type": "display_data",
          "data": {
            "text/html": [
              "<span style=\"color:cyan\"> |-Score: 0.7772436141967773</span>"
            ],
            "text/plain": [
              "<IPython.core.display.HTML object>"
            ]
          },
          "metadata": {
            "tags": []
          }
        },
        {
          "output_type": "display_data",
          "data": {
            "text/html": [
              "<span style=\"color:cyan\"> |-Best step: 0</span>"
            ],
            "text/plain": [
              "<IPython.core.display.HTML object>"
            ]
          },
          "metadata": {
            "tags": []
          }
        },
        {
          "output_type": "display_data",
          "data": {
            "text/html": [
              "<span style=\"color:#7E57C2\"><h2 style=\"font-size:16px\">Hyperparameters:</h2></span>"
            ],
            "text/plain": [
              "<IPython.core.display.HTML object>"
            ]
          },
          "metadata": {
            "tags": []
          }
        },
        {
          "output_type": "display_data",
          "data": {
            "text/html": [
              "<span style=\"color:cyan\"> |-conv_1_filter: 64</span>"
            ],
            "text/plain": [
              "<IPython.core.display.HTML object>"
            ]
          },
          "metadata": {
            "tags": []
          }
        },
        {
          "output_type": "display_data",
          "data": {
            "text/html": [
              "<span style=\"color:blue\"> |-conv_1_kernel: 5</span>"
            ],
            "text/plain": [
              "<IPython.core.display.HTML object>"
            ]
          },
          "metadata": {
            "tags": []
          }
        },
        {
          "output_type": "display_data",
          "data": {
            "text/html": [
              "<span style=\"color:cyan\"> |-conv_2_filter: 64</span>"
            ],
            "text/plain": [
              "<IPython.core.display.HTML object>"
            ]
          },
          "metadata": {
            "tags": []
          }
        },
        {
          "output_type": "display_data",
          "data": {
            "text/html": [
              "<span style=\"color:blue\"> |-conv_2_kernel: 5</span>"
            ],
            "text/plain": [
              "<IPython.core.display.HTML object>"
            ]
          },
          "metadata": {
            "tags": []
          }
        },
        {
          "output_type": "display_data",
          "data": {
            "text/html": [
              "<span style=\"color:cyan\"> |-conv_3_filter: 144</span>"
            ],
            "text/plain": [
              "<IPython.core.display.HTML object>"
            ]
          },
          "metadata": {
            "tags": []
          }
        },
        {
          "output_type": "display_data",
          "data": {
            "text/html": [
              "<span style=\"color:blue\"> |-conv_3_kernel: 3</span>"
            ],
            "text/plain": [
              "<IPython.core.display.HTML object>"
            ]
          },
          "metadata": {
            "tags": []
          }
        },
        {
          "output_type": "display_data",
          "data": {
            "text/html": [
              "<span style=\"color:cyan\"> |-dens_1_units: 192</span>"
            ],
            "text/plain": [
              "<IPython.core.display.HTML object>"
            ]
          },
          "metadata": {
            "tags": []
          }
        },
        {
          "output_type": "display_data",
          "data": {
            "text/html": [
              "<span style=\"color:blue\"> |-learning_rate: 0.001</span>"
            ],
            "text/plain": [
              "<IPython.core.display.HTML object>"
            ]
          },
          "metadata": {
            "tags": []
          }
        },
        {
          "output_type": "stream",
          "text": [
            "Epoch 1/3\n",
            "  2/326 [..............................] - ETA: 11s - loss: 0.6594 - accuracy: 0.5625WARNING:tensorflow:Callbacks method `on_train_batch_end` is slow compared to the batch time (batch time: 0.0261s vs `on_train_batch_end` time: 0.0434s). Check your callbacks.\n",
            "326/326 [==============================] - 97s 298ms/step - loss: 0.5264 - accuracy: 0.7636 - val_loss: 0.5876 - val_accuracy: 0.6955\n",
            "Epoch 2/3\n",
            "326/326 [==============================] - 97s 297ms/step - loss: 0.3676 - accuracy: 0.8399 - val_loss: 0.6609 - val_accuracy: 0.7115\n",
            "Epoch 3/3\n",
            "326/326 [==============================] - 96s 296ms/step - loss: 0.2604 - accuracy: 0.8913 - val_loss: 0.5595 - val_accuracy: 0.7740\n"
          ],
          "name": "stdout"
        },
        {
          "output_type": "display_data",
          "data": {
            "text/html": [
              "<span style=\"color:#4527A0\"><h1 style=\"font-size:18px\">Trial complete</h1></span>"
            ],
            "text/plain": [
              "<IPython.core.display.HTML object>"
            ]
          },
          "metadata": {
            "tags": []
          }
        },
        {
          "output_type": "display_data",
          "data": {
            "text/html": [
              "<span style=\"color:#4527A0\"><h1 style=\"font-size:18px\">Trial summary</h1></span>"
            ],
            "text/plain": [
              "<IPython.core.display.HTML object>"
            ]
          },
          "metadata": {
            "tags": []
          }
        },
        {
          "output_type": "display_data",
          "data": {
            "text/html": [
              "<span style=\"color:cyan\"> |-Trial ID: 52b0025fba31f25a4a07582733dcfff9</span>"
            ],
            "text/plain": [
              "<IPython.core.display.HTML object>"
            ]
          },
          "metadata": {
            "tags": []
          }
        },
        {
          "output_type": "display_data",
          "data": {
            "text/html": [
              "<span style=\"color:cyan\"> |-Score: 0.7740384340286255</span>"
            ],
            "text/plain": [
              "<IPython.core.display.HTML object>"
            ]
          },
          "metadata": {
            "tags": []
          }
        },
        {
          "output_type": "display_data",
          "data": {
            "text/html": [
              "<span style=\"color:cyan\"> |-Best step: 0</span>"
            ],
            "text/plain": [
              "<IPython.core.display.HTML object>"
            ]
          },
          "metadata": {
            "tags": []
          }
        },
        {
          "output_type": "display_data",
          "data": {
            "text/html": [
              "<span style=\"color:#7E57C2\"><h2 style=\"font-size:16px\">Hyperparameters:</h2></span>"
            ],
            "text/plain": [
              "<IPython.core.display.HTML object>"
            ]
          },
          "metadata": {
            "tags": []
          }
        },
        {
          "output_type": "display_data",
          "data": {
            "text/html": [
              "<span style=\"color:cyan\"> |-conv_1_filter: 192</span>"
            ],
            "text/plain": [
              "<IPython.core.display.HTML object>"
            ]
          },
          "metadata": {
            "tags": []
          }
        },
        {
          "output_type": "display_data",
          "data": {
            "text/html": [
              "<span style=\"color:blue\"> |-conv_1_kernel: 5</span>"
            ],
            "text/plain": [
              "<IPython.core.display.HTML object>"
            ]
          },
          "metadata": {
            "tags": []
          }
        },
        {
          "output_type": "display_data",
          "data": {
            "text/html": [
              "<span style=\"color:cyan\"> |-conv_2_filter: 96</span>"
            ],
            "text/plain": [
              "<IPython.core.display.HTML object>"
            ]
          },
          "metadata": {
            "tags": []
          }
        },
        {
          "output_type": "display_data",
          "data": {
            "text/html": [
              "<span style=\"color:blue\"> |-conv_2_kernel: 3</span>"
            ],
            "text/plain": [
              "<IPython.core.display.HTML object>"
            ]
          },
          "metadata": {
            "tags": []
          }
        },
        {
          "output_type": "display_data",
          "data": {
            "text/html": [
              "<span style=\"color:cyan\"> |-conv_3_filter: 208</span>"
            ],
            "text/plain": [
              "<IPython.core.display.HTML object>"
            ]
          },
          "metadata": {
            "tags": []
          }
        },
        {
          "output_type": "display_data",
          "data": {
            "text/html": [
              "<span style=\"color:blue\"> |-conv_3_kernel: 3</span>"
            ],
            "text/plain": [
              "<IPython.core.display.HTML object>"
            ]
          },
          "metadata": {
            "tags": []
          }
        },
        {
          "output_type": "display_data",
          "data": {
            "text/html": [
              "<span style=\"color:cyan\"> |-dens_1_units: 208</span>"
            ],
            "text/plain": [
              "<IPython.core.display.HTML object>"
            ]
          },
          "metadata": {
            "tags": []
          }
        },
        {
          "output_type": "display_data",
          "data": {
            "text/html": [
              "<span style=\"color:blue\"> |-learning_rate: 0.001</span>"
            ],
            "text/plain": [
              "<IPython.core.display.HTML object>"
            ]
          },
          "metadata": {
            "tags": []
          }
        },
        {
          "output_type": "stream",
          "text": [
            "INFO:tensorflow:Oracle triggered exit\n"
          ],
          "name": "stdout"
        }
      ]
    },
    {
      "cell_type": "code",
      "metadata": {
        "id": "OXecJ2NszuBW",
        "colab_type": "code",
        "colab": {
          "base_uri": "https://localhost:8080/",
          "height": 34
        },
        "outputId": "f2889ea1-8421-4474-c60b-922bd1cf8a42"
      },
      "source": [
        "model2=tuner_search.get_best_models(num_models=1)[0]\n",
        "model2"
      ],
      "execution_count": 100,
      "outputs": [
        {
          "output_type": "execute_result",
          "data": {
            "text/plain": [
              "<tensorflow.python.keras.engine.sequential.Sequential at 0x7f1488cbf2b0>"
            ]
          },
          "metadata": {
            "tags": []
          },
          "execution_count": 100
        }
      ]
    },
    {
      "cell_type": "code",
      "metadata": {
        "id": "eQWtPtjS52pp",
        "colab_type": "code",
        "colab": {
          "base_uri": "https://localhost:8080/",
          "height": 454
        },
        "outputId": "ec60c3ab-2b23-4972-ca59-1a8ff67d1ab3"
      },
      "source": [
        "model2.summary()"
      ],
      "execution_count": 101,
      "outputs": [
        {
          "output_type": "stream",
          "text": [
            "Model: \"sequential\"\n",
            "_________________________________________________________________\n",
            "Layer (type)                 Output Shape              Param #   \n",
            "=================================================================\n",
            "conv2d (Conv2D)              (None, 148, 148, 224)     6272      \n",
            "_________________________________________________________________\n",
            "max_pooling2d (MaxPooling2D) (None, 49, 49, 224)       0         \n",
            "_________________________________________________________________\n",
            "conv2d_1 (Conv2D)            (None, 47, 47, 192)       387264    \n",
            "_________________________________________________________________\n",
            "max_pooling2d_1 (MaxPooling2 (None, 15, 15, 192)       0         \n",
            "_________________________________________________________________\n",
            "conv2d_2 (Conv2D)            (None, 13, 13, 144)       248976    \n",
            "_________________________________________________________________\n",
            "max_pooling2d_2 (MaxPooling2 (None, 4, 4, 144)         0         \n",
            "_________________________________________________________________\n",
            "flatten (Flatten)            (None, 2304)              0         \n",
            "_________________________________________________________________\n",
            "dense (Dense)                (None, 48)                110640    \n",
            "_________________________________________________________________\n",
            "dense_1 (Dense)              (None, 1)                 49        \n",
            "=================================================================\n",
            "Total params: 753,201\n",
            "Trainable params: 753,201\n",
            "Non-trainable params: 0\n",
            "_________________________________________________________________\n"
          ],
          "name": "stdout"
        }
      ]
    },
    {
      "cell_type": "code",
      "metadata": {
        "id": "-F9d4a876zr7",
        "colab_type": "code",
        "colab": {
          "base_uri": "https://localhost:8080/",
          "height": 269
        },
        "outputId": "2d2d1d4d-681d-4f46-d5d5-ca6edde3fa91"
      },
      "source": [
        "model2.fit(train_image_gen,validation_data=test_image_gen,epochs=10,initial_epoch=3)"
      ],
      "execution_count": 102,
      "outputs": [
        {
          "output_type": "stream",
          "text": [
            "Epoch 4/10\n",
            "326/326 [==============================] - 101s 309ms/step - loss: 0.2296 - accuracy: 0.9099 - val_loss: 0.6693 - val_accuracy: 0.7532\n",
            "Epoch 5/10\n",
            "326/326 [==============================] - 100s 307ms/step - loss: 0.2120 - accuracy: 0.9166 - val_loss: 0.5465 - val_accuracy: 0.7885\n",
            "Epoch 6/10\n",
            "326/326 [==============================] - 100s 305ms/step - loss: 0.1870 - accuracy: 0.9283 - val_loss: 0.5924 - val_accuracy: 0.7756\n",
            "Epoch 7/10\n",
            "326/326 [==============================] - 99s 305ms/step - loss: 0.1886 - accuracy: 0.9248 - val_loss: 0.3988 - val_accuracy: 0.8478\n",
            "Epoch 8/10\n",
            "326/326 [==============================] - 99s 304ms/step - loss: 0.1716 - accuracy: 0.9300 - val_loss: 0.4930 - val_accuracy: 0.8045\n",
            "Epoch 9/10\n",
            "326/326 [==============================] - 100s 306ms/step - loss: 0.1653 - accuracy: 0.9339 - val_loss: 0.6620 - val_accuracy: 0.8061\n",
            "Epoch 10/10\n",
            "326/326 [==============================] - 99s 303ms/step - loss: 0.1516 - accuracy: 0.9411 - val_loss: 0.4686 - val_accuracy: 0.8253\n"
          ],
          "name": "stdout"
        },
        {
          "output_type": "execute_result",
          "data": {
            "text/plain": [
              "<tensorflow.python.keras.callbacks.History at 0x7f1488c53080>"
            ]
          },
          "metadata": {
            "tags": []
          },
          "execution_count": 102
        }
      ]
    },
    {
      "cell_type": "code",
      "metadata": {
        "id": "aB8SGcHg7BRR",
        "colab_type": "code",
        "colab": {
          "base_uri": "https://localhost:8080/",
          "height": 254
        },
        "outputId": "b99bf7fe-f4a9-4b3e-a708-d2fa6dab27b0"
      },
      "source": [
        "losses2 = pd.DataFrame(model2.history.history)\n",
        "losses2"
      ],
      "execution_count": 103,
      "outputs": [
        {
          "output_type": "execute_result",
          "data": {
            "text/html": [
              "<div>\n",
              "<style scoped>\n",
              "    .dataframe tbody tr th:only-of-type {\n",
              "        vertical-align: middle;\n",
              "    }\n",
              "\n",
              "    .dataframe tbody tr th {\n",
              "        vertical-align: top;\n",
              "    }\n",
              "\n",
              "    .dataframe thead th {\n",
              "        text-align: right;\n",
              "    }\n",
              "</style>\n",
              "<table border=\"1\" class=\"dataframe\">\n",
              "  <thead>\n",
              "    <tr style=\"text-align: right;\">\n",
              "      <th></th>\n",
              "      <th>loss</th>\n",
              "      <th>accuracy</th>\n",
              "      <th>val_loss</th>\n",
              "      <th>val_accuracy</th>\n",
              "    </tr>\n",
              "  </thead>\n",
              "  <tbody>\n",
              "    <tr>\n",
              "      <th>0</th>\n",
              "      <td>0.229619</td>\n",
              "      <td>0.909893</td>\n",
              "      <td>0.669345</td>\n",
              "      <td>0.753205</td>\n",
              "    </tr>\n",
              "    <tr>\n",
              "      <th>1</th>\n",
              "      <td>0.212004</td>\n",
              "      <td>0.916603</td>\n",
              "      <td>0.546478</td>\n",
              "      <td>0.788462</td>\n",
              "    </tr>\n",
              "    <tr>\n",
              "      <th>2</th>\n",
              "      <td>0.186998</td>\n",
              "      <td>0.928298</td>\n",
              "      <td>0.592434</td>\n",
              "      <td>0.775641</td>\n",
              "    </tr>\n",
              "    <tr>\n",
              "      <th>3</th>\n",
              "      <td>0.188574</td>\n",
              "      <td>0.924847</td>\n",
              "      <td>0.398826</td>\n",
              "      <td>0.847756</td>\n",
              "    </tr>\n",
              "    <tr>\n",
              "      <th>4</th>\n",
              "      <td>0.171635</td>\n",
              "      <td>0.930023</td>\n",
              "      <td>0.492998</td>\n",
              "      <td>0.804487</td>\n",
              "    </tr>\n",
              "    <tr>\n",
              "      <th>5</th>\n",
              "      <td>0.165306</td>\n",
              "      <td>0.933857</td>\n",
              "      <td>0.661997</td>\n",
              "      <td>0.806090</td>\n",
              "    </tr>\n",
              "    <tr>\n",
              "      <th>6</th>\n",
              "      <td>0.151585</td>\n",
              "      <td>0.941143</td>\n",
              "      <td>0.468586</td>\n",
              "      <td>0.825321</td>\n",
              "    </tr>\n",
              "  </tbody>\n",
              "</table>\n",
              "</div>"
            ],
            "text/plain": [
              "       loss  accuracy  val_loss  val_accuracy\n",
              "0  0.229619  0.909893  0.669345      0.753205\n",
              "1  0.212004  0.916603  0.546478      0.788462\n",
              "2  0.186998  0.928298  0.592434      0.775641\n",
              "3  0.188574  0.924847  0.398826      0.847756\n",
              "4  0.171635  0.930023  0.492998      0.804487\n",
              "5  0.165306  0.933857  0.661997      0.806090\n",
              "6  0.151585  0.941143  0.468586      0.825321"
            ]
          },
          "metadata": {
            "tags": []
          },
          "execution_count": 103
        }
      ]
    },
    {
      "cell_type": "code",
      "metadata": {
        "id": "cyoOj_119vja",
        "colab_type": "code",
        "colab": {
          "base_uri": "https://localhost:8080/",
          "height": 286
        },
        "outputId": "ccda1d28-82f5-42ff-a786-0291070f3acf"
      },
      "source": [
        "losses2[['accuracy','val_accuracy']].plot()"
      ],
      "execution_count": 104,
      "outputs": [
        {
          "output_type": "execute_result",
          "data": {
            "text/plain": [
              "<matplotlib.axes._subplots.AxesSubplot at 0x7f1488d19e10>"
            ]
          },
          "metadata": {
            "tags": []
          },
          "execution_count": 104
        },
        {
          "output_type": "display_data",
          "data": {
            "image/png": "[encoded data removed]",
            "text/plain": [
              "<Figure size 432x288 with 1 Axes>"
            ]
          },
          "metadata": {
            "tags": [],
            "needs_background": "light"
          }
        }
      ]
    },
    {
      "cell_type": "code",
      "metadata": {
        "id": "ma8CYGJO94Ec",
        "colab_type": "code",
        "colab": {}
      },
      "source": [
        "pred2=model2.predict(test_image_gen)"
      ],
      "execution_count": 106,
      "outputs": []
    },
    {
      "cell_type": "code",
      "metadata": {
        "id": "CihNIalv-Cis",
        "colab_type": "code",
        "colab": {}
      },
      "source": [
        "prediction2=pred2 > 0.5"
      ],
      "execution_count": 107,
      "outputs": []
    },
    {
      "cell_type": "code",
      "metadata": {
        "id": "vXzYBLpW-L78",
        "colab_type": "code",
        "colab": {}
      },
      "source": [
        "from sklearn.metrics import classification_report,confusion_matrix"
      ],
      "execution_count": 108,
      "outputs": []
    },
    {
      "cell_type": "code",
      "metadata": {
        "id": "j3uxN6FT-bWU",
        "colab_type": "code",
        "colab": {
          "base_uri": "https://localhost:8080/",
          "height": 168
        },
        "outputId": "efc069db-d2ac-4c10-e38b-5d046af7759e"
      },
      "source": [
        "print(classification_report(test_image_gen.classes,prediction2))"
      ],
      "execution_count": 109,
      "outputs": [
        {
          "output_type": "stream",
          "text": [
            "              precision    recall  f1-score   support\n",
            "\n",
            "           0       0.95      0.59      0.73       234\n",
            "           1       0.80      0.98      0.88       390\n",
            "\n",
            "    accuracy                           0.83       624\n",
            "   macro avg       0.87      0.78      0.80       624\n",
            "weighted avg       0.85      0.83      0.82       624\n",
            "\n"
          ],
          "name": "stdout"
        }
      ]
    },
    {
      "cell_type": "code",
      "metadata": {
        "id": "gZLNPNkt-jLt",
        "colab_type": "code",
        "colab": {
          "base_uri": "https://localhost:8080/",
          "height": 50
        },
        "outputId": "4e99badc-ec54-4193-c607-555640dc4bad"
      },
      "source": [
        "print(confusion_matrix(test_image_gen.classes,prediction2))"
      ],
      "execution_count": 110,
      "outputs": [
        {
          "output_type": "stream",
          "text": [
            "[[138  96]\n",
            " [  8 382]]\n"
          ],
          "name": "stdout"
        }
      ]
    },
    {
      "cell_type": "code",
      "metadata": {
        "id": "nGswAsZF-vkx",
        "colab_type": "code",
        "colab": {}
      },
      "source": [
        "from tensorflow.keras.models import load_model"
      ],
      "execution_count": 111,
      "outputs": []
    },
    {
      "cell_type": "code",
      "metadata": {
        "id": "Av7SC1vEYP58",
        "colab_type": "code",
        "colab": {}
      },
      "source": [
        "model2.save('model2.h5')"
      ],
      "execution_count": 113,
      "outputs": []
    },
    {
      "cell_type": "code",
      "metadata": {
        "id": "fEbSQ_ynYV2i",
        "colab_type": "code",
        "colab": {}
      },
      "source": [
        "import pickle\n"
      ],
      "execution_count": 114,
      "outputs": []
    },
    {
      "cell_type": "code",
      "metadata": {
        "id": "m8kTspNVZpb_",
        "colab_type": "code",
        "colab": {
          "base_uri": "https://localhost:8080/",
          "height": 162
        },
        "outputId": "f65a1172-0fdf-4321-b9f9-854543475bd2"
      },
      "source": [
        "pickle.dump(model2,open('model2.pkl','wb'))"
      ],
      "execution_count": 115,
      "outputs": [
        {
          "output_type": "error",
          "ename": "TypeError",
          "evalue": "ignored",
          "traceback": [
            "\u001b[0;31m---------------------------------------------------------------------------\u001b[0m",
            "\u001b[0;31mTypeError\u001b[0m                                 Traceback (most recent call last)",
            "\u001b[0;32m<ipython-input-115-c21484e06040>\u001b[0m in \u001b[0;36m<module>\u001b[0;34m()\u001b[0m\n\u001b[0;32m----> 1\u001b[0;31m \u001b[0mpickle\u001b[0m\u001b[0;34m.\u001b[0m\u001b[0mdump\u001b[0m\u001b[0;34m(\u001b[0m\u001b[0mmodel2\u001b[0m\u001b[0;34m,\u001b[0m\u001b[0mopen\u001b[0m\u001b[0;34m(\u001b[0m\u001b[0;34m'model2.pkl'\u001b[0m\u001b[0;34m,\u001b[0m\u001b[0;34m'wb'\u001b[0m\u001b[0;34m)\u001b[0m\u001b[0;34m)\u001b[0m\u001b[0;34m\u001b[0m\u001b[0;34m\u001b[0m\u001b[0m\n\u001b[0m",
            "\u001b[0;31mTypeError\u001b[0m: can't pickle _thread.RLock objects"
          ]
        }
      ]
    },
    {
      "cell_type": "code",
      "metadata": {
        "id": "erNWUGqVZ4x3",
        "colab_type": "code",
        "colab": {}
      },
      "source": [
        ""
      ],
      "execution_count": null,
      "outputs": []
    }
  ]
}