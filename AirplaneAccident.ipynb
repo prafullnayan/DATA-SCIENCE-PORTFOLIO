{
  "nbformat": 4,
  "nbformat_minor": 0,
  "metadata": {
    "kernelspec": {
      "display_name": "Python 3",
      "language": "python",
      "name": "python3"
    },
    "language_info": {
      "codemirror_mode": {
        "name": "ipython",
        "version": 3
      },
      "file_extension": ".py",
      "mimetype": "text/x-python",
      "name": "python",
      "nbconvert_exporter": "python",
      "pygments_lexer": "ipython3",
      "version": "3.7.4"
    },
    "colab": {
      "name": "AirplaneAccident.ipynb",
      "provenance": [],
      "collapsed_sections": [],
      "include_colab_link": true
    },
    "accelerator": "GPU"
  },
  "cells": [
    {
      "cell_type": "markdown",
      "metadata": {
        "id": "view-in-github",
        "colab_type": "text"
      },
      "source": [
        "<a href=\"https://colab.research.google.com/github/prafullnayan/DATA-SCIENCE-PORTFOLIO/blob/master/AirplaneAccident.ipynb\" target=\"_parent\"><img src=\"https://colab.research.google.com/assets/colab-badge.svg\" alt=\"Open In Colab\"/></a>"
      ]
    },
    {
      "cell_type": "code",
      "metadata": {
        "id": "OCRxabGw7Rp3",
        "colab_type": "code",
        "colab": {
          "base_uri": "https://localhost:8080/",
          "height": 34
        },
        "outputId": "58b09b65-6e0d-4433-8bdb-ca2552fe4c50"
      },
      "source": [
        "from google.colab import drive\n",
        "drive.mount('/content/gdrive/')"
      ],
      "execution_count": null,
      "outputs": [
        {
          "output_type": "stream",
          "text": [
            "Drive already mounted at /content/gdrive/; to attempt to forcibly remount, call drive.mount(\"/content/gdrive/\", force_remount=True).\n"
          ],
          "name": "stdout"
        }
      ]
    },
    {
      "cell_type": "markdown",
      "metadata": {
        "id": "3SR63bhxT0e3",
        "colab_type": "text"
      },
      "source": [
        "# **Table Of Contents**\n",
        "\n",
        "\n",
        "*   Importing Libraries\n",
        "*   Data Collection\n",
        "*   Exploratory data Analysis(EDA)\n",
        "*   Data Preprocessing\n",
        "*   Standardising/Normalization\n",
        "*   Model Training\n",
        "      1.   KNN classifier\n",
        "      2.   Support Vector Machine\n",
        "      3.   RandomForest Classifier\n",
        "      4.   Logistic Regression\n",
        "*   HyperParameter Tuning\n",
        "      1.   GridSearchCV\n",
        "      2.   RandomizedSearchCV\n",
        "* Model Prediction\n",
        "* Model Evaluation\n",
        "* Comaparison between different learning Algorithms\n",
        "\n",
        "\n",
        "\n",
        "\n",
        "\n",
        "\n",
        "\n",
        "\n",
        "\n",
        "\n"
      ]
    },
    {
      "cell_type": "markdown",
      "metadata": {
        "id": "a5Hm1jBT7Ktr",
        "colab_type": "text"
      },
      "source": [
        "# **Importing libraries**"
      ]
    },
    {
      "cell_type": "code",
      "metadata": {
        "id": "dR5i8Ohp7Ktt",
        "colab_type": "code",
        "colab": {
          "base_uri": "https://localhost:8080/",
          "height": 70
        },
        "outputId": "78e22405-9437-4128-9379-bef6941261a7"
      },
      "source": [
        "import numpy as np\n",
        "import pandas as pd\n",
        "import matplotlib.pyplot as plt\n",
        "import seaborn as sns\n",
        "%matplotlib inline"
      ],
      "execution_count": null,
      "outputs": [
        {
          "output_type": "stream",
          "text": [
            "/usr/local/lib/python3.6/dist-packages/statsmodels/tools/_testing.py:19: FutureWarning: pandas.util.testing is deprecated. Use the functions in the public API at pandas.testing instead.\n",
            "  import pandas.util.testing as tm\n"
          ],
          "name": "stderr"
        }
      ]
    },
    {
      "cell_type": "markdown",
      "metadata": {
        "id": "qyWwdJwU7Ktz",
        "colab_type": "text"
      },
      "source": [
        "# **Data Collection**"
      ]
    },
    {
      "cell_type": "code",
      "metadata": {
        "id": "R9a16zHa7Kt0",
        "colab_type": "code",
        "colab": {}
      },
      "source": [
        "df=pd.read_csv('/content/gdrive/My Drive/AirplaneAccident.csv')"
      ],
      "execution_count": null,
      "outputs": []
    },
    {
      "cell_type": "code",
      "metadata": {
        "id": "5I29t7Nn7Kt4",
        "colab_type": "code",
        "colab": {
          "base_uri": "https://localhost:8080/",
          "height": 422
        },
        "outputId": "e91d7171-f7aa-4adb-8757-5e28edc686e5"
      },
      "source": [
        "df"
      ],
      "execution_count": null,
      "outputs": [
        {
          "output_type": "execute_result",
          "data": {
            "text/html": [
              "<div>\n",
              "<style scoped>\n",
              "    .dataframe tbody tr th:only-of-type {\n",
              "        vertical-align: middle;\n",
              "    }\n",
              "\n",
              "    .dataframe tbody tr th {\n",
              "        vertical-align: top;\n",
              "    }\n",
              "\n",
              "    .dataframe thead th {\n",
              "        text-align: right;\n",
              "    }\n",
              "</style>\n",
              "<table border=\"1\" class=\"dataframe\">\n",
              "  <thead>\n",
              "    <tr style=\"text-align: right;\">\n",
              "      <th></th>\n",
              "      <th>Severity</th>\n",
              "      <th>Safety_Score</th>\n",
              "      <th>Days_Since_Inspection</th>\n",
              "      <th>Total_Safety_Complaints</th>\n",
              "      <th>Control_Metric</th>\n",
              "      <th>Turbulence_In_gforces</th>\n",
              "      <th>Cabin_Temperature</th>\n",
              "      <th>Accident_Type_Code</th>\n",
              "      <th>Max_Elevation</th>\n",
              "      <th>Violations</th>\n",
              "      <th>Adverse_Weather_Metric</th>\n",
              "      <th>Accident_ID</th>\n",
              "    </tr>\n",
              "  </thead>\n",
              "  <tbody>\n",
              "    <tr>\n",
              "      <th>0</th>\n",
              "      <td>Minor_Damage_And_Injuries</td>\n",
              "      <td>49.223744</td>\n",
              "      <td>14</td>\n",
              "      <td>22</td>\n",
              "      <td>71.285324</td>\n",
              "      <td>0.272118</td>\n",
              "      <td>78.04</td>\n",
              "      <td>2</td>\n",
              "      <td>31335.47682</td>\n",
              "      <td>3</td>\n",
              "      <td>0.424352</td>\n",
              "      <td>7570</td>\n",
              "    </tr>\n",
              "    <tr>\n",
              "      <th>1</th>\n",
              "      <td>Minor_Damage_And_Injuries</td>\n",
              "      <td>62.465753</td>\n",
              "      <td>10</td>\n",
              "      <td>27</td>\n",
              "      <td>72.288058</td>\n",
              "      <td>0.423939</td>\n",
              "      <td>84.54</td>\n",
              "      <td>2</td>\n",
              "      <td>26024.71106</td>\n",
              "      <td>2</td>\n",
              "      <td>0.352350</td>\n",
              "      <td>12128</td>\n",
              "    </tr>\n",
              "    <tr>\n",
              "      <th>2</th>\n",
              "      <td>Significant_Damage_And_Fatalities</td>\n",
              "      <td>63.059361</td>\n",
              "      <td>13</td>\n",
              "      <td>16</td>\n",
              "      <td>66.362808</td>\n",
              "      <td>0.322604</td>\n",
              "      <td>78.86</td>\n",
              "      <td>7</td>\n",
              "      <td>39269.05393</td>\n",
              "      <td>3</td>\n",
              "      <td>0.003364</td>\n",
              "      <td>2181</td>\n",
              "    </tr>\n",
              "    <tr>\n",
              "      <th>3</th>\n",
              "      <td>Significant_Damage_And_Serious_Injuries</td>\n",
              "      <td>48.082192</td>\n",
              "      <td>11</td>\n",
              "      <td>9</td>\n",
              "      <td>74.703737</td>\n",
              "      <td>0.337029</td>\n",
              "      <td>81.79</td>\n",
              "      <td>3</td>\n",
              "      <td>42771.49920</td>\n",
              "      <td>1</td>\n",
              "      <td>0.211728</td>\n",
              "      <td>5946</td>\n",
              "    </tr>\n",
              "    <tr>\n",
              "      <th>4</th>\n",
              "      <td>Significant_Damage_And_Fatalities</td>\n",
              "      <td>26.484018</td>\n",
              "      <td>13</td>\n",
              "      <td>25</td>\n",
              "      <td>47.948952</td>\n",
              "      <td>0.541140</td>\n",
              "      <td>77.16</td>\n",
              "      <td>3</td>\n",
              "      <td>35509.22852</td>\n",
              "      <td>2</td>\n",
              "      <td>0.176883</td>\n",
              "      <td>9054</td>\n",
              "    </tr>\n",
              "    <tr>\n",
              "      <th>...</th>\n",
              "      <td>...</td>\n",
              "      <td>...</td>\n",
              "      <td>...</td>\n",
              "      <td>...</td>\n",
              "      <td>...</td>\n",
              "      <td>...</td>\n",
              "      <td>...</td>\n",
              "      <td>...</td>\n",
              "      <td>...</td>\n",
              "      <td>...</td>\n",
              "      <td>...</td>\n",
              "      <td>...</td>\n",
              "    </tr>\n",
              "    <tr>\n",
              "      <th>9995</th>\n",
              "      <td>Significant_Damage_And_Serious_Injuries</td>\n",
              "      <td>56.118721</td>\n",
              "      <td>8</td>\n",
              "      <td>1</td>\n",
              "      <td>63.445761</td>\n",
              "      <td>0.482359</td>\n",
              "      <td>78.64</td>\n",
              "      <td>5</td>\n",
              "      <td>38537.36341</td>\n",
              "      <td>2</td>\n",
              "      <td>0.026150</td>\n",
              "      <td>11493</td>\n",
              "    </tr>\n",
              "    <tr>\n",
              "      <th>9996</th>\n",
              "      <td>Highly_Fatal_And_Damaging</td>\n",
              "      <td>40.365297</td>\n",
              "      <td>10</td>\n",
              "      <td>7</td>\n",
              "      <td>62.169553</td>\n",
              "      <td>0.421775</td>\n",
              "      <td>79.77</td>\n",
              "      <td>4</td>\n",
              "      <td>40846.91690</td>\n",
              "      <td>2</td>\n",
              "      <td>0.074898</td>\n",
              "      <td>305</td>\n",
              "    </tr>\n",
              "    <tr>\n",
              "      <th>9997</th>\n",
              "      <td>Significant_Damage_And_Serious_Injuries</td>\n",
              "      <td>27.853881</td>\n",
              "      <td>17</td>\n",
              "      <td>1</td>\n",
              "      <td>69.598906</td>\n",
              "      <td>0.318277</td>\n",
              "      <td>80.37</td>\n",
              "      <td>3</td>\n",
              "      <td>33771.99630</td>\n",
              "      <td>3</td>\n",
              "      <td>0.168173</td>\n",
              "      <td>612</td>\n",
              "    </tr>\n",
              "    <tr>\n",
              "      <th>9998</th>\n",
              "      <td>Minor_Damage_And_Injuries</td>\n",
              "      <td>56.210046</td>\n",
              "      <td>8</td>\n",
              "      <td>0</td>\n",
              "      <td>39.835916</td>\n",
              "      <td>0.598118</td>\n",
              "      <td>76.92</td>\n",
              "      <td>5</td>\n",
              "      <td>39820.41925</td>\n",
              "      <td>2</td>\n",
              "      <td>0.026381</td>\n",
              "      <td>4963</td>\n",
              "    </tr>\n",
              "    <tr>\n",
              "      <th>9999</th>\n",
              "      <td>Highly_Fatal_And_Damaging</td>\n",
              "      <td>50.000000</td>\n",
              "      <td>13</td>\n",
              "      <td>3</td>\n",
              "      <td>45.487694</td>\n",
              "      <td>0.382467</td>\n",
              "      <td>77.46</td>\n",
              "      <td>5</td>\n",
              "      <td>26005.32299</td>\n",
              "      <td>2</td>\n",
              "      <td>0.017036</td>\n",
              "      <td>9387</td>\n",
              "    </tr>\n",
              "  </tbody>\n",
              "</table>\n",
              "<p>10000 rows × 12 columns</p>\n",
              "</div>"
            ],
            "text/plain": [
              "                                     Severity  ...  Accident_ID\n",
              "0                   Minor_Damage_And_Injuries  ...         7570\n",
              "1                   Minor_Damage_And_Injuries  ...        12128\n",
              "2           Significant_Damage_And_Fatalities  ...         2181\n",
              "3     Significant_Damage_And_Serious_Injuries  ...         5946\n",
              "4           Significant_Damage_And_Fatalities  ...         9054\n",
              "...                                       ...  ...          ...\n",
              "9995  Significant_Damage_And_Serious_Injuries  ...        11493\n",
              "9996                Highly_Fatal_And_Damaging  ...          305\n",
              "9997  Significant_Damage_And_Serious_Injuries  ...          612\n",
              "9998                Minor_Damage_And_Injuries  ...         4963\n",
              "9999                Highly_Fatal_And_Damaging  ...         9387\n",
              "\n",
              "[10000 rows x 12 columns]"
            ]
          },
          "metadata": {
            "tags": []
          },
          "execution_count": 5
        }
      ]
    },
    {
      "cell_type": "markdown",
      "metadata": {
        "id": "BbbzqJrI7Kt9",
        "colab_type": "text"
      },
      "source": [
        "# Exploratory Data Analysis"
      ]
    },
    {
      "cell_type": "code",
      "metadata": {
        "id": "KqSZFDiX7Kt-",
        "colab_type": "code",
        "colab": {
          "base_uri": "https://localhost:8080/",
          "height": 235
        },
        "outputId": "d15de164-61f4-40cb-b431-e40d20338ea9"
      },
      "source": [
        "# check the null values\n",
        "# we don't have any null values\n",
        "df.isnull().sum()"
      ],
      "execution_count": null,
      "outputs": [
        {
          "output_type": "execute_result",
          "data": {
            "text/plain": [
              "Severity                   0\n",
              "Safety_Score               0\n",
              "Days_Since_Inspection      0\n",
              "Total_Safety_Complaints    0\n",
              "Control_Metric             0\n",
              "Turbulence_In_gforces      0\n",
              "Cabin_Temperature          0\n",
              "Accident_Type_Code         0\n",
              "Max_Elevation              0\n",
              "Violations                 0\n",
              "Adverse_Weather_Metric     0\n",
              "Accident_ID                0\n",
              "dtype: int64"
            ]
          },
          "metadata": {
            "tags": []
          },
          "execution_count": 6
        }
      ]
    },
    {
      "cell_type": "code",
      "metadata": {
        "id": "poA2awoG7KuG",
        "colab_type": "code",
        "colab": {
          "base_uri": "https://localhost:8080/",
          "height": 235
        },
        "outputId": "4528f4ea-c1f6-4902-bcee-8fa6bf1f6dff"
      },
      "source": [
        "df.dtypes"
      ],
      "execution_count": null,
      "outputs": [
        {
          "output_type": "execute_result",
          "data": {
            "text/plain": [
              "Severity                    object\n",
              "Safety_Score               float64\n",
              "Days_Since_Inspection        int64\n",
              "Total_Safety_Complaints      int64\n",
              "Control_Metric             float64\n",
              "Turbulence_In_gforces      float64\n",
              "Cabin_Temperature          float64\n",
              "Accident_Type_Code           int64\n",
              "Max_Elevation              float64\n",
              "Violations                   int64\n",
              "Adverse_Weather_Metric     float64\n",
              "Accident_ID                  int64\n",
              "dtype: object"
            ]
          },
          "metadata": {
            "tags": []
          },
          "execution_count": 7
        }
      ]
    },
    {
      "cell_type": "code",
      "metadata": {
        "id": "z_g_UeTQ7KuM",
        "colab_type": "code",
        "colab": {
          "base_uri": "https://localhost:8080/",
          "height": 336
        },
        "outputId": "5010d144-7e81-4451-b32a-d2a90aaa26f9"
      },
      "source": [
        "df.info()"
      ],
      "execution_count": null,
      "outputs": [
        {
          "output_type": "stream",
          "text": [
            "<class 'pandas.core.frame.DataFrame'>\n",
            "RangeIndex: 10000 entries, 0 to 9999\n",
            "Data columns (total 12 columns):\n",
            " #   Column                   Non-Null Count  Dtype  \n",
            "---  ------                   --------------  -----  \n",
            " 0   Severity                 10000 non-null  object \n",
            " 1   Safety_Score             10000 non-null  float64\n",
            " 2   Days_Since_Inspection    10000 non-null  int64  \n",
            " 3   Total_Safety_Complaints  10000 non-null  int64  \n",
            " 4   Control_Metric           10000 non-null  float64\n",
            " 5   Turbulence_In_gforces    10000 non-null  float64\n",
            " 6   Cabin_Temperature        10000 non-null  float64\n",
            " 7   Accident_Type_Code       10000 non-null  int64  \n",
            " 8   Max_Elevation            10000 non-null  float64\n",
            " 9   Violations               10000 non-null  int64  \n",
            " 10  Adverse_Weather_Metric   10000 non-null  float64\n",
            " 11  Accident_ID              10000 non-null  int64  \n",
            "dtypes: float64(6), int64(5), object(1)\n",
            "memory usage: 937.6+ KB\n"
          ],
          "name": "stdout"
        }
      ]
    },
    {
      "cell_type": "code",
      "metadata": {
        "id": "QnhuvNym7KuR",
        "colab_type": "code",
        "colab": {
          "base_uri": "https://localhost:8080/",
          "height": 373
        },
        "outputId": "ea31ef2a-626c-4abc-fd45-17eb2e0e53e6"
      },
      "source": [
        "df.describe().transpose()"
      ],
      "execution_count": null,
      "outputs": [
        {
          "output_type": "execute_result",
          "data": {
            "text/html": [
              "<div>\n",
              "<style scoped>\n",
              "    .dataframe tbody tr th:only-of-type {\n",
              "        vertical-align: middle;\n",
              "    }\n",
              "\n",
              "    .dataframe tbody tr th {\n",
              "        vertical-align: top;\n",
              "    }\n",
              "\n",
              "    .dataframe thead th {\n",
              "        text-align: right;\n",
              "    }\n",
              "</style>\n",
              "<table border=\"1\" class=\"dataframe\">\n",
              "  <thead>\n",
              "    <tr style=\"text-align: right;\">\n",
              "      <th></th>\n",
              "      <th>count</th>\n",
              "      <th>mean</th>\n",
              "      <th>std</th>\n",
              "      <th>min</th>\n",
              "      <th>25%</th>\n",
              "      <th>50%</th>\n",
              "      <th>75%</th>\n",
              "      <th>max</th>\n",
              "    </tr>\n",
              "  </thead>\n",
              "  <tbody>\n",
              "    <tr>\n",
              "      <th>Safety_Score</th>\n",
              "      <td>10000.0</td>\n",
              "      <td>41.876406</td>\n",
              "      <td>16.138072</td>\n",
              "      <td>0.000000</td>\n",
              "      <td>30.593607</td>\n",
              "      <td>41.278539</td>\n",
              "      <td>52.511416</td>\n",
              "      <td>100.000000</td>\n",
              "    </tr>\n",
              "    <tr>\n",
              "      <th>Days_Since_Inspection</th>\n",
              "      <td>10000.0</td>\n",
              "      <td>12.931100</td>\n",
              "      <td>3.539803</td>\n",
              "      <td>1.000000</td>\n",
              "      <td>11.000000</td>\n",
              "      <td>13.000000</td>\n",
              "      <td>15.000000</td>\n",
              "      <td>23.000000</td>\n",
              "    </tr>\n",
              "    <tr>\n",
              "      <th>Total_Safety_Complaints</th>\n",
              "      <td>10000.0</td>\n",
              "      <td>6.564300</td>\n",
              "      <td>6.971982</td>\n",
              "      <td>0.000000</td>\n",
              "      <td>2.000000</td>\n",
              "      <td>4.000000</td>\n",
              "      <td>9.000000</td>\n",
              "      <td>54.000000</td>\n",
              "    </tr>\n",
              "    <tr>\n",
              "      <th>Control_Metric</th>\n",
              "      <td>10000.0</td>\n",
              "      <td>65.145324</td>\n",
              "      <td>11.882934</td>\n",
              "      <td>0.000000</td>\n",
              "      <td>56.927985</td>\n",
              "      <td>65.587967</td>\n",
              "      <td>73.336372</td>\n",
              "      <td>100.000000</td>\n",
              "    </tr>\n",
              "    <tr>\n",
              "      <th>Turbulence_In_gforces</th>\n",
              "      <td>10000.0</td>\n",
              "      <td>0.381495</td>\n",
              "      <td>0.121301</td>\n",
              "      <td>0.134000</td>\n",
              "      <td>0.293665</td>\n",
              "      <td>0.365879</td>\n",
              "      <td>0.451346</td>\n",
              "      <td>0.882648</td>\n",
              "    </tr>\n",
              "    <tr>\n",
              "      <th>Cabin_Temperature</th>\n",
              "      <td>10000.0</td>\n",
              "      <td>79.969331</td>\n",
              "      <td>2.759739</td>\n",
              "      <td>74.740000</td>\n",
              "      <td>77.960000</td>\n",
              "      <td>79.540000</td>\n",
              "      <td>81.560000</td>\n",
              "      <td>97.510000</td>\n",
              "    </tr>\n",
              "    <tr>\n",
              "      <th>Accident_Type_Code</th>\n",
              "      <td>10000.0</td>\n",
              "      <td>3.814900</td>\n",
              "      <td>1.902577</td>\n",
              "      <td>1.000000</td>\n",
              "      <td>2.000000</td>\n",
              "      <td>4.000000</td>\n",
              "      <td>5.000000</td>\n",
              "      <td>7.000000</td>\n",
              "    </tr>\n",
              "    <tr>\n",
              "      <th>Max_Elevation</th>\n",
              "      <td>10000.0</td>\n",
              "      <td>32001.803282</td>\n",
              "      <td>9431.995196</td>\n",
              "      <td>831.695553</td>\n",
              "      <td>25757.636910</td>\n",
              "      <td>32060.336420</td>\n",
              "      <td>38380.641515</td>\n",
              "      <td>64297.651220</td>\n",
              "    </tr>\n",
              "    <tr>\n",
              "      <th>Violations</th>\n",
              "      <td>10000.0</td>\n",
              "      <td>2.012200</td>\n",
              "      <td>1.039980</td>\n",
              "      <td>0.000000</td>\n",
              "      <td>1.000000</td>\n",
              "      <td>2.000000</td>\n",
              "      <td>3.000000</td>\n",
              "      <td>5.000000</td>\n",
              "    </tr>\n",
              "    <tr>\n",
              "      <th>Adverse_Weather_Metric</th>\n",
              "      <td>10000.0</td>\n",
              "      <td>0.255635</td>\n",
              "      <td>0.381128</td>\n",
              "      <td>0.000316</td>\n",
              "      <td>0.012063</td>\n",
              "      <td>0.074467</td>\n",
              "      <td>0.354059</td>\n",
              "      <td>2.365378</td>\n",
              "    </tr>\n",
              "    <tr>\n",
              "      <th>Accident_ID</th>\n",
              "      <td>10000.0</td>\n",
              "      <td>6266.554200</td>\n",
              "      <td>3610.170288</td>\n",
              "      <td>2.000000</td>\n",
              "      <td>3139.750000</td>\n",
              "      <td>6280.500000</td>\n",
              "      <td>9391.500000</td>\n",
              "      <td>12500.000000</td>\n",
              "    </tr>\n",
              "  </tbody>\n",
              "</table>\n",
              "</div>"
            ],
            "text/plain": [
              "                           count          mean  ...           75%           max\n",
              "Safety_Score             10000.0     41.876406  ...     52.511416    100.000000\n",
              "Days_Since_Inspection    10000.0     12.931100  ...     15.000000     23.000000\n",
              "Total_Safety_Complaints  10000.0      6.564300  ...      9.000000     54.000000\n",
              "Control_Metric           10000.0     65.145324  ...     73.336372    100.000000\n",
              "Turbulence_In_gforces    10000.0      0.381495  ...      0.451346      0.882648\n",
              "Cabin_Temperature        10000.0     79.969331  ...     81.560000     97.510000\n",
              "Accident_Type_Code       10000.0      3.814900  ...      5.000000      7.000000\n",
              "Max_Elevation            10000.0  32001.803282  ...  38380.641515  64297.651220\n",
              "Violations               10000.0      2.012200  ...      3.000000      5.000000\n",
              "Adverse_Weather_Metric   10000.0      0.255635  ...      0.354059      2.365378\n",
              "Accident_ID              10000.0   6266.554200  ...   9391.500000  12500.000000\n",
              "\n",
              "[11 rows x 8 columns]"
            ]
          },
          "metadata": {
            "tags": []
          },
          "execution_count": 9
        }
      ]
    },
    {
      "cell_type": "code",
      "metadata": {
        "id": "uQBZWEn77KuW",
        "colab_type": "code",
        "colab": {
          "base_uri": "https://localhost:8080/",
          "height": 101
        },
        "outputId": "8263365f-3817-4ebf-a677-b5af9d0f85c0"
      },
      "source": [
        "df['Severity'].value_counts()"
      ],
      "execution_count": null,
      "outputs": [
        {
          "output_type": "execute_result",
          "data": {
            "text/plain": [
              "Highly_Fatal_And_Damaging                  3049\n",
              "Significant_Damage_And_Serious_Injuries    2729\n",
              "Minor_Damage_And_Injuries                  2527\n",
              "Significant_Damage_And_Fatalities          1695\n",
              "Name: Severity, dtype: int64"
            ]
          },
          "metadata": {
            "tags": []
          },
          "execution_count": 10
        }
      ]
    },
    {
      "cell_type": "code",
      "metadata": {
        "id": "l2nqZO0t7Kue",
        "colab_type": "code",
        "colab": {
          "base_uri": "https://localhost:8080/",
          "height": 699
        },
        "outputId": "0dad1e84-2e40-46ae-f467-922756644064"
      },
      "source": [
        "plt.figure(figsize=(12,8))\n",
        "df['Severity'].value_counts().plot(kind='bar',color='red')"
      ],
      "execution_count": null,
      "outputs": [
        {
          "output_type": "execute_result",
          "data": {
            "text/plain": [
              "<matplotlib.axes._subplots.AxesSubplot at 0x7f7269bf52e8>"
            ]
          },
          "metadata": {
            "tags": []
          },
          "execution_count": 11
        },
        {
          "output_type": "display_data",
          "data": {
            "image/png": "[encoded data removed]",
            "text/plain": [
              "<Figure size 864x576 with 1 Axes>"
            ]
          },
          "metadata": {
            "tags": [],
            "needs_background": "light"
          }
        }
      ]
    },
    {
      "cell_type": "code",
      "metadata": {
        "id": "aca2GbQj7Kui",
        "colab_type": "code",
        "colab": {
          "base_uri": "https://localhost:8080/",
          "height": 710
        },
        "outputId": "7401dabe-f7c1-42b2-8d3d-7df24ff5c88f"
      },
      "source": [
        "plt.figure(figsize=(12,8))\n",
        "order=sorted(df['Severity'].unique())\n",
        "chart=sns.countplot(x='Severity',data=df,order=order)\n",
        "chart.set_xticklabels(chart.get_xticklabels(), rotation=45)"
      ],
      "execution_count": null,
      "outputs": [
        {
          "output_type": "execute_result",
          "data": {
            "text/plain": [
              "[Text(0, 0, 'Highly_Fatal_And_Damaging'),\n",
              " Text(0, 0, 'Minor_Damage_And_Injuries'),\n",
              " Text(0, 0, 'Significant_Damage_And_Fatalities'),\n",
              " Text(0, 0, 'Significant_Damage_And_Serious_Injuries')]"
            ]
          },
          "metadata": {
            "tags": []
          },
          "execution_count": 12
        },
        {
          "output_type": "display_data",
          "data": {
            "image/png": "[encoded data removed]",
            "text/plain": [
              "<Figure size 864x576 with 1 Axes>"
            ]
          },
          "metadata": {
            "tags": [],
            "needs_background": "light"
          }
        }
      ]
    },
    {
      "cell_type": "code",
      "metadata": {
        "id": "LjR3WqX97Kum",
        "colab_type": "code",
        "colab": {
          "base_uri": "https://localhost:8080/",
          "height": 101
        },
        "outputId": "034b692e-c1d3-4dd1-ff24-1189b6bebf62"
      },
      "source": [
        "# So Highly_Fatal_And_Damaging are in highest percentage amomgst all the damage\n",
        "(df['Severity'].value_counts())/len(df['Severity'])*100"
      ],
      "execution_count": null,
      "outputs": [
        {
          "output_type": "execute_result",
          "data": {
            "text/plain": [
              "Highly_Fatal_And_Damaging                  30.49\n",
              "Significant_Damage_And_Serious_Injuries    27.29\n",
              "Minor_Damage_And_Injuries                  25.27\n",
              "Significant_Damage_And_Fatalities          16.95\n",
              "Name: Severity, dtype: float64"
            ]
          },
          "metadata": {
            "tags": []
          },
          "execution_count": 13
        }
      ]
    },
    {
      "cell_type": "markdown",
      "metadata": {
        "id": "rC9TaG227Kur",
        "colab_type": "text"
      },
      "source": [
        "# Let us map the values of Severity to numerical"
      ]
    },
    {
      "cell_type": "code",
      "metadata": {
        "id": "a8ZnEjTc7Kur",
        "colab_type": "code",
        "colab": {}
      },
      "source": [
        "df['class']=df['Severity'].map({'Highly_Fatal_And_Damaging':0,'Significant_Damage_And_Serious_Injuries':1,'Minor_Damage_And_Injuries':2,'Significant_Damage_And_Fatalities':3})"
      ],
      "execution_count": null,
      "outputs": []
    },
    {
      "cell_type": "code",
      "metadata": {
        "id": "PmALD5ZM7Kuv",
        "colab_type": "code",
        "colab": {
          "base_uri": "https://localhost:8080/",
          "height": 118
        },
        "outputId": "fef32f25-5a28-4a5d-cb1a-2c9004f1b645"
      },
      "source": [
        "df.head()['class']"
      ],
      "execution_count": null,
      "outputs": [
        {
          "output_type": "execute_result",
          "data": {
            "text/plain": [
              "0    2\n",
              "1    2\n",
              "2    3\n",
              "3    1\n",
              "4    3\n",
              "Name: class, dtype: int64"
            ]
          },
          "metadata": {
            "tags": []
          },
          "execution_count": 15
        }
      ]
    },
    {
      "cell_type": "code",
      "metadata": {
        "id": "B6--zJvl7Ku0",
        "colab_type": "code",
        "colab": {
          "base_uri": "https://localhost:8080/",
          "height": 235
        },
        "outputId": "65c61b7c-2f2a-4b2b-e909-87d090bf2439"
      },
      "source": [
        "#Finding the correlation to target variable\n",
        "df.corr()['class'].sort_values(ascending=False)"
      ],
      "execution_count": null,
      "outputs": [
        {
          "output_type": "execute_result",
          "data": {
            "text/plain": [
              "class                      1.000000\n",
              "Safety_Score               0.338542\n",
              "Turbulence_In_gforces      0.123512\n",
              "Accident_Type_Code         0.098224\n",
              "Violations                 0.056142\n",
              "Days_Since_Inspection      0.041764\n",
              "Total_Safety_Complaints    0.014633\n",
              "Cabin_Temperature         -0.002892\n",
              "Adverse_Weather_Metric    -0.007029\n",
              "Accident_ID               -0.008971\n",
              "Max_Elevation             -0.016023\n",
              "Control_Metric            -0.184215\n",
              "Name: class, dtype: float64"
            ]
          },
          "metadata": {
            "tags": []
          },
          "execution_count": 16
        }
      ]
    },
    {
      "cell_type": "code",
      "metadata": {
        "id": "TmVSLwP67Ku4",
        "colab_type": "code",
        "colab": {
          "base_uri": "https://localhost:8080/",
          "height": 618
        },
        "outputId": "f86c9ef9-162c-49c5-e18f-0b2fc593e245"
      },
      "source": [
        "plt.figure(figsize=(12,8))\n",
        "sns.heatmap(df.corr(),cmap='coolwarm')"
      ],
      "execution_count": null,
      "outputs": [
        {
          "output_type": "execute_result",
          "data": {
            "text/plain": [
              "<matplotlib.axes._subplots.AxesSubplot at 0x7f72695ec7b8>"
            ]
          },
          "metadata": {
            "tags": []
          },
          "execution_count": 17
        },
        {
          "output_type": "display_data",
          "data": {
            "image/png": "[encoded data removed]",
            "text/plain": [
              "<Figure size 864x576 with 2 Axes>"
            ]
          },
          "metadata": {
            "tags": [],
            "needs_background": "light"
          }
        }
      ]
    },
    {
      "cell_type": "code",
      "metadata": {
        "id": "dIL0lJTP7Ku8",
        "colab_type": "code",
        "colab": {
          "base_uri": "https://localhost:8080/",
          "height": 505
        },
        "outputId": "ea7ee889-59dd-42c2-bb67-581a939d16f2"
      },
      "source": [
        "plt.figure(figsize=(12,6))\n",
        "df.corr()['class'].sort_values(ascending=False).plot(kind='bar',color='red')\n",
        "# safety_score is highly correlated with the Severity"
      ],
      "execution_count": null,
      "outputs": [
        {
          "output_type": "execute_result",
          "data": {
            "text/plain": [
              "<matplotlib.axes._subplots.AxesSubplot at 0x7f7265abe5f8>"
            ]
          },
          "metadata": {
            "tags": []
          },
          "execution_count": 18
        },
        {
          "output_type": "display_data",
          "data": {
            "image/png": "[encoded data removed]",
            "text/plain": [
              "<Figure size 864x432 with 1 Axes>"
            ]
          },
          "metadata": {
            "tags": [],
            "needs_background": "light"
          }
        }
      ]
    },
    {
      "cell_type": "code",
      "metadata": {
        "id": "LeDYN9fv7KvA",
        "colab_type": "code",
        "colab": {
          "base_uri": "https://localhost:8080/",
          "height": 406
        },
        "outputId": "f9a039dc-daed-4f7a-b0dc-7ed8cb1eadad"
      },
      "source": [
        "plt.figure(figsize=(12,6))\n",
        "sns.distplot(df['Safety_Score'],kde=False,bins=100)"
      ],
      "execution_count": null,
      "outputs": [
        {
          "output_type": "execute_result",
          "data": {
            "text/plain": [
              "<matplotlib.axes._subplots.AxesSubplot at 0x7f72695ec898>"
            ]
          },
          "metadata": {
            "tags": []
          },
          "execution_count": 19
        },
        {
          "output_type": "display_data",
          "data": {
            "image/png": "[encoded data removed]",
            "text/plain": [
              "<Figure size 864x432 with 1 Axes>"
            ]
          },
          "metadata": {
            "tags": [],
            "needs_background": "light"
          }
        }
      ]
    },
    {
      "cell_type": "code",
      "metadata": {
        "id": "oby1Viok7KvE",
        "colab_type": "code",
        "colab": {
          "base_uri": "https://localhost:8080/",
          "height": 118
        },
        "outputId": "337ad4da-8ddd-44da-cbaf-3d1f5d3307c3"
      },
      "source": [
        "# from here we can see that Highly_Fatal_And_Damaging severity having lower Safety_Score as expected.\n",
        "df.groupby('Severity').mean()['Safety_Score'].sort_values(ascending=False)"
      ],
      "execution_count": null,
      "outputs": [
        {
          "output_type": "execute_result",
          "data": {
            "text/plain": [
              "Severity\n",
              "Minor_Damage_And_Injuries                  47.800305\n",
              "Significant_Damage_And_Fatalities          47.102113\n",
              "Significant_Damage_And_Serious_Injuries    42.667443\n",
              "Highly_Fatal_And_Damaging                  33.353611\n",
              "Name: Safety_Score, dtype: float64"
            ]
          },
          "metadata": {
            "tags": []
          },
          "execution_count": 20
        }
      ]
    },
    {
      "cell_type": "code",
      "metadata": {
        "id": "FpE4yrK_7KvI",
        "colab_type": "code",
        "colab": {
          "base_uri": "https://localhost:8080/",
          "height": 607
        },
        "outputId": "6927fb8e-e2e6-49a4-8922-398e6e469943"
      },
      "source": [
        "plt.figure(figsize=(12,6))\n",
        "df.groupby('Severity').mean()['Safety_Score'].sort_values(ascending=False).plot(kind='bar',color='pink')"
      ],
      "execution_count": null,
      "outputs": [
        {
          "output_type": "execute_result",
          "data": {
            "text/plain": [
              "<matplotlib.axes._subplots.AxesSubplot at 0x7f72658c2ef0>"
            ]
          },
          "metadata": {
            "tags": []
          },
          "execution_count": 21
        },
        {
          "output_type": "display_data",
          "data": {
            "image/png": "[encoded data removed]",
            "text/plain": [
              "<Figure size 864x432 with 1 Axes>"
            ]
          },
          "metadata": {
            "tags": [],
            "needs_background": "light"
          }
        }
      ]
    },
    {
      "cell_type": "code",
      "metadata": {
        "id": "y52FCs1f7KvL",
        "colab_type": "code",
        "colab": {
          "base_uri": "https://localhost:8080/",
          "height": 50
        },
        "outputId": "cc927e2a-dc49-43d3-ceab-545f6cd22725"
      },
      "source": [
        "df[df['Turbulence_In_gforces']==df['Turbulence_In_gforces'].max()]['Severity'].value_counts()"
      ],
      "execution_count": null,
      "outputs": [
        {
          "output_type": "execute_result",
          "data": {
            "text/plain": [
              "Minor_Damage_And_Injuries    3\n",
              "Name: Severity, dtype: int64"
            ]
          },
          "metadata": {
            "tags": []
          },
          "execution_count": 22
        }
      ]
    },
    {
      "cell_type": "code",
      "metadata": {
        "id": "yB3v8V5f7KvP",
        "colab_type": "code",
        "colab": {
          "base_uri": "https://localhost:8080/",
          "height": 84
        },
        "outputId": "074c2e92-f465-49c5-a0c9-a70cd8d49a6c"
      },
      "source": [
        "df[df['Turbulence_In_gforces']==df['Turbulence_In_gforces'].min()]['Severity'].value_counts()"
      ],
      "execution_count": null,
      "outputs": [
        {
          "output_type": "execute_result",
          "data": {
            "text/plain": [
              "Highly_Fatal_And_Damaging                  5\n",
              "Significant_Damage_And_Serious_Injuries    2\n",
              "Minor_Damage_And_Injuries                  1\n",
              "Name: Severity, dtype: int64"
            ]
          },
          "metadata": {
            "tags": []
          },
          "execution_count": 23
        }
      ]
    },
    {
      "cell_type": "code",
      "metadata": {
        "id": "5hfaJg197KvT",
        "colab_type": "code",
        "colab": {
          "base_uri": "https://localhost:8080/",
          "height": 710
        },
        "outputId": "69036ffa-f598-4ed5-edea-940136079eb9"
      },
      "source": [
        "plt.figure(figsize=(12,8))\n",
        "chart=sns.boxplot(x='Severity',y='Total_Safety_Complaints',data=df)\n",
        "chart.set_xticklabels(chart.get_xticklabels(), rotation=45)\n",
        "# Highly_Fatal_And_Damaging have highest no of complaints"
      ],
      "execution_count": null,
      "outputs": [
        {
          "output_type": "execute_result",
          "data": {
            "text/plain": [
              "[Text(0, 0, 'Minor_Damage_And_Injuries'),\n",
              " Text(0, 0, 'Significant_Damage_And_Fatalities'),\n",
              " Text(0, 0, 'Significant_Damage_And_Serious_Injuries'),\n",
              " Text(0, 0, 'Highly_Fatal_And_Damaging')]"
            ]
          },
          "metadata": {
            "tags": []
          },
          "execution_count": 24
        },
        {
          "output_type": "display_data",
          "data": {
            "image/png": "[encoded data removed]",
            "text/plain": [
              "<Figure size 864x576 with 1 Axes>"
            ]
          },
          "metadata": {
            "tags": [],
            "needs_background": "light"
          }
        }
      ]
    },
    {
      "cell_type": "code",
      "metadata": {
        "id": "MpSAPlab7KvW",
        "colab_type": "code",
        "colab": {
          "base_uri": "https://localhost:8080/",
          "height": 151
        },
        "outputId": "da19e8a3-021d-4f8d-8112-39bf80621ec9"
      },
      "source": [
        "df['Accident_Type_Code'].value_counts().sort_values(ascending=False)"
      ],
      "execution_count": null,
      "outputs": [
        {
          "output_type": "execute_result",
          "data": {
            "text/plain": [
              "4    2057\n",
              "2    1791\n",
              "3    1752\n",
              "7    1276\n",
              "6    1215\n",
              "1    1171\n",
              "5     738\n",
              "Name: Accident_Type_Code, dtype: int64"
            ]
          },
          "metadata": {
            "tags": []
          },
          "execution_count": 25
        }
      ]
    },
    {
      "cell_type": "code",
      "metadata": {
        "id": "hNaJrQro7Kva",
        "colab_type": "code",
        "colab": {
          "base_uri": "https://localhost:8080/",
          "height": 927
        },
        "outputId": "8b6439b6-7359-4051-e2c8-b25ed5af7ceb"
      },
      "source": [
        "plt.figure(figsize=(12,12))\n",
        "chart=sns.boxplot(x='Severity',y='Total_Safety_Complaints',data=df,hue='Accident_Type_Code')\n",
        "chart.set_xticklabels(chart.get_xticklabels(), rotation=45)"
      ],
      "execution_count": null,
      "outputs": [
        {
          "output_type": "execute_result",
          "data": {
            "text/plain": [
              "[Text(0, 0, 'Minor_Damage_And_Injuries'),\n",
              " Text(0, 0, 'Significant_Damage_And_Fatalities'),\n",
              " Text(0, 0, 'Significant_Damage_And_Serious_Injuries'),\n",
              " Text(0, 0, 'Highly_Fatal_And_Damaging')]"
            ]
          },
          "metadata": {
            "tags": []
          },
          "execution_count": 26
        },
        {
          "output_type": "display_data",
          "data": {
            "image/png": "[encoded data removed]",
            "text/plain": [
              "<Figure size 864x864 with 1 Axes>"
            ]
          },
          "metadata": {
            "tags": [],
            "needs_background": "light"
          }
        }
      ]
    },
    {
      "cell_type": "code",
      "metadata": {
        "id": "4ccBNK5W7Kve",
        "colab_type": "code",
        "colab": {
          "base_uri": "https://localhost:8080/",
          "height": 134
        },
        "outputId": "62e814d1-4c93-4bb5-9954-4fcacd4015fc"
      },
      "source": [
        "df['Violations'].value_counts().sort_values(ascending=False)\n",
        "# so maximum violations are done of type 2"
      ],
      "execution_count": null,
      "outputs": [
        {
          "output_type": "execute_result",
          "data": {
            "text/plain": [
              "2    3793\n",
              "1    2398\n",
              "3    2376\n",
              "0     696\n",
              "4     675\n",
              "5      62\n",
              "Name: Violations, dtype: int64"
            ]
          },
          "metadata": {
            "tags": []
          },
          "execution_count": 27
        }
      ]
    },
    {
      "cell_type": "code",
      "metadata": {
        "id": "-ezzMDrg7Kvj",
        "colab_type": "code",
        "colab": {
          "base_uri": "https://localhost:8080/",
          "height": 927
        },
        "outputId": "e0d6a134-ae33-4cb8-e2e4-272e326b7d2f"
      },
      "source": [
        "# to see which type of violation results in which type of severity\n",
        "plt.figure(figsize=(12,12))\n",
        "chart=sns.barplot(x='Severity',y='Turbulence_In_gforces',data=df,hue='Violations')\n",
        "chart.set_xticklabels(chart.get_xticklabels(), rotation=45)\n"
      ],
      "execution_count": null,
      "outputs": [
        {
          "output_type": "execute_result",
          "data": {
            "text/plain": [
              "[Text(0, 0, 'Minor_Damage_And_Injuries'),\n",
              " Text(0, 0, 'Significant_Damage_And_Fatalities'),\n",
              " Text(0, 0, 'Significant_Damage_And_Serious_Injuries'),\n",
              " Text(0, 0, 'Highly_Fatal_And_Damaging')]"
            ]
          },
          "metadata": {
            "tags": []
          },
          "execution_count": 28
        },
        {
          "output_type": "display_data",
          "data": {
            "image/png": "[encoded data removed]",
            "text/plain": [
              "<Figure size 864x864 with 1 Axes>"
            ]
          },
          "metadata": {
            "tags": [],
            "needs_background": "light"
          }
        }
      ]
    },
    {
      "cell_type": "code",
      "metadata": {
        "id": "zebwLvoQ7Kvo",
        "colab_type": "code",
        "colab": {
          "base_uri": "https://localhost:8080/",
          "height": 515
        },
        "outputId": "b38c714d-784f-4f77-c21e-731f7509725a"
      },
      "source": [
        "# here we can see that as the turbulance increases the control of the airplane decreases.\n",
        "plt.figure(figsize=(12,8))\n",
        "sns.scatterplot(x='Turbulence_In_gforces',y='Control_Metric',data=df)\n"
      ],
      "execution_count": null,
      "outputs": [
        {
          "output_type": "execute_result",
          "data": {
            "text/plain": [
              "<matplotlib.axes._subplots.AxesSubplot at 0x7f72653e8eb8>"
            ]
          },
          "metadata": {
            "tags": []
          },
          "execution_count": 29
        },
        {
          "output_type": "display_data",
          "data": {
            "image/png": "[encoded data removed]",
            "text/plain": [
              "<Figure size 864x576 with 1 Axes>"
            ]
          },
          "metadata": {
            "tags": [],
            "needs_background": "light"
          }
        }
      ]
    },
    {
      "cell_type": "code",
      "metadata": {
        "id": "qrEf77-77Kvr",
        "colab_type": "code",
        "colab": {
          "base_uri": "https://localhost:8080/",
          "height": 710
        },
        "outputId": "4c68b481-74fb-4a17-c0f6-659028aeaed8"
      },
      "source": [
        "# Highly_Fatal_And_Damaging have less control metric as compared with others \n",
        "plt.figure(figsize=(12,8))\n",
        "chart=sns.barplot(x='Severity',y='Control_Metric',data=df)\n",
        "chart.set_xticklabels(chart.get_xticklabels(), rotation=45)"
      ],
      "execution_count": null,
      "outputs": [
        {
          "output_type": "execute_result",
          "data": {
            "text/plain": [
              "[Text(0, 0, 'Minor_Damage_And_Injuries'),\n",
              " Text(0, 0, 'Significant_Damage_And_Fatalities'),\n",
              " Text(0, 0, 'Significant_Damage_And_Serious_Injuries'),\n",
              " Text(0, 0, 'Highly_Fatal_And_Damaging')]"
            ]
          },
          "metadata": {
            "tags": []
          },
          "execution_count": 30
        },
        {
          "output_type": "display_data",
          "data": {
            "image/png": "[encoded data removed]",
            "text/plain": [
              "<Figure size 864x576 with 1 Axes>"
            ]
          },
          "metadata": {
            "tags": [],
            "needs_background": "light"
          }
        }
      ]
    },
    {
      "cell_type": "code",
      "metadata": {
        "id": "fX1eVUp37Kvv",
        "colab_type": "code",
        "colab": {
          "base_uri": "https://localhost:8080/",
          "height": 710
        },
        "outputId": "aa1e0fa0-2489-4b17-9baa-0787d2e474fa"
      },
      "source": [
        "#Highly_Fatal_And_Damaging has maximum elevation\n",
        "plt.figure(figsize=(12,8))\n",
        "chart=sns.barplot(x='Severity',y='Max_Elevation',data=df)\n",
        "chart.set_xticklabels(chart.get_xticklabels(), rotation=45)"
      ],
      "execution_count": null,
      "outputs": [
        {
          "output_type": "execute_result",
          "data": {
            "text/plain": [
              "[Text(0, 0, 'Minor_Damage_And_Injuries'),\n",
              " Text(0, 0, 'Significant_Damage_And_Fatalities'),\n",
              " Text(0, 0, 'Significant_Damage_And_Serious_Injuries'),\n",
              " Text(0, 0, 'Highly_Fatal_And_Damaging')]"
            ]
          },
          "metadata": {
            "tags": []
          },
          "execution_count": 31
        },
        {
          "output_type": "display_data",
          "data": {
            "image/png": "[encoded data removed]",
            "text/plain": [
              "<Figure size 864x576 with 1 Axes>"
            ]
          },
          "metadata": {
            "tags": [],
            "needs_background": "light"
          }
        }
      ]
    },
    {
      "cell_type": "code",
      "metadata": {
        "id": "3-3sAjSV7Kvy",
        "colab_type": "code",
        "colab": {
          "base_uri": "https://localhost:8080/",
          "height": 710
        },
        "outputId": "432fc65a-94ac-40aa-a79e-fa8f6fec53bb"
      },
      "source": [
        "# here we can see that in adverse weather metric there is highly fatal and damaging\n",
        "plt.figure(figsize=(12,8))\n",
        "chart=sns.boxplot(x='Severity',y='Adverse_Weather_Metric',data=df)\n",
        "chart.set_xticklabels(chart.get_xticklabels(), rotation=45)\n"
      ],
      "execution_count": null,
      "outputs": [
        {
          "output_type": "execute_result",
          "data": {
            "text/plain": [
              "[Text(0, 0, 'Minor_Damage_And_Injuries'),\n",
              " Text(0, 0, 'Significant_Damage_And_Fatalities'),\n",
              " Text(0, 0, 'Significant_Damage_And_Serious_Injuries'),\n",
              " Text(0, 0, 'Highly_Fatal_And_Damaging')]"
            ]
          },
          "metadata": {
            "tags": []
          },
          "execution_count": 32
        },
        {
          "output_type": "display_data",
          "data": {
            "image/png": "[encoded data removed]",
            "text/plain": [
              "<Figure size 864x576 with 1 Axes>"
            ]
          },
          "metadata": {
            "tags": [],
            "needs_background": "light"
          }
        }
      ]
    },
    {
      "cell_type": "code",
      "metadata": {
        "id": "IoiKvwgE7Kv3",
        "colab_type": "code",
        "colab": {
          "base_uri": "https://localhost:8080/",
          "height": 118
        },
        "outputId": "b48012da-8617-4d01-b223-4acae4ed364b"
      },
      "source": [
        "df.groupby('Severity').mean()['Cabin_Temperature']"
      ],
      "execution_count": null,
      "outputs": [
        {
          "output_type": "execute_result",
          "data": {
            "text/plain": [
              "Severity\n",
              "Highly_Fatal_And_Damaging                  80.023526\n",
              "Minor_Damage_And_Injuries                  79.903961\n",
              "Significant_Damage_And_Fatalities          80.041516\n",
              "Significant_Damage_And_Serious_Injuries    79.924478\n",
              "Name: Cabin_Temperature, dtype: float64"
            ]
          },
          "metadata": {
            "tags": []
          },
          "execution_count": 33
        }
      ]
    },
    {
      "cell_type": "code",
      "metadata": {
        "id": "pVZj7aG-7Kv6",
        "colab_type": "code",
        "colab": {
          "base_uri": "https://localhost:8080/",
          "height": 495
        },
        "outputId": "a22b05b6-d71a-437d-dfd2-7d128e3f6a07"
      },
      "source": [
        "#Cabin_Temperature doe snot have any effect on severity as all have about same temperature \n",
        "df.groupby('Severity').mean()['Cabin_Temperature'].plot(kind='bar')"
      ],
      "execution_count": null,
      "outputs": [
        {
          "output_type": "execute_result",
          "data": {
            "text/plain": [
              "<matplotlib.axes._subplots.AxesSubplot at 0x7f7263a49e80>"
            ]
          },
          "metadata": {
            "tags": []
          },
          "execution_count": 34
        },
        {
          "output_type": "display_data",
          "data": {
            "image/png": "[encoded data removed]",
            "text/plain": [
              "<Figure size 432x288 with 1 Axes>"
            ]
          },
          "metadata": {
            "tags": [],
            "needs_background": "light"
          }
        }
      ]
    },
    {
      "cell_type": "code",
      "metadata": {
        "id": "vSxl-gtB7Kv-",
        "colab_type": "code",
        "colab": {
          "base_uri": "https://localhost:8080/",
          "height": 296
        },
        "outputId": "8e1f2c83-5f74-4171-c53b-00f508c3bbef"
      },
      "source": [
        "# 2nd type of violations are mostly done \n",
        "sns.countplot(df['Violations'])"
      ],
      "execution_count": null,
      "outputs": [
        {
          "output_type": "execute_result",
          "data": {
            "text/plain": [
              "<matplotlib.axes._subplots.AxesSubplot at 0x7f7263a0f2e8>"
            ]
          },
          "metadata": {
            "tags": []
          },
          "execution_count": 35
        },
        {
          "output_type": "display_data",
          "data": {
            "image/png": "[encoded data removed]",
            "text/plain": [
              "<Figure size 432x288 with 1 Axes>"
            ]
          },
          "metadata": {
            "tags": [],
            "needs_background": "light"
          }
        }
      ]
    },
    {
      "cell_type": "markdown",
      "metadata": {
        "id": "cP1gLkIn7KwB",
        "colab_type": "text"
      },
      "source": [
        "# Data Preprocessing"
      ]
    },
    {
      "cell_type": "markdown",
      "metadata": {
        "id": "QCFm-11Z7KwC",
        "colab_type": "text"
      },
      "source": [
        "**As we have made a new(integer) column for Severity so we will drop severity**"
      ]
    },
    {
      "cell_type": "code",
      "metadata": {
        "id": "UcgWNeUP7KwC",
        "colab_type": "code",
        "colab": {}
      },
      "source": [
        "df.drop('Severity',axis=1,inplace=True)"
      ],
      "execution_count": null,
      "outputs": []
    },
    {
      "cell_type": "code",
      "metadata": {
        "id": "eqgZ4Vvp7KwG",
        "colab_type": "code",
        "colab": {
          "base_uri": "https://localhost:8080/",
          "height": 215
        },
        "outputId": "b1296a60-0664-4695-b91c-2fd7731f451a"
      },
      "source": [
        "df.head()"
      ],
      "execution_count": null,
      "outputs": [
        {
          "output_type": "execute_result",
          "data": {
            "text/html": [
              "<div>\n",
              "<style scoped>\n",
              "    .dataframe tbody tr th:only-of-type {\n",
              "        vertical-align: middle;\n",
              "    }\n",
              "\n",
              "    .dataframe tbody tr th {\n",
              "        vertical-align: top;\n",
              "    }\n",
              "\n",
              "    .dataframe thead th {\n",
              "        text-align: right;\n",
              "    }\n",
              "</style>\n",
              "<table border=\"1\" class=\"dataframe\">\n",
              "  <thead>\n",
              "    <tr style=\"text-align: right;\">\n",
              "      <th></th>\n",
              "      <th>Safety_Score</th>\n",
              "      <th>Days_Since_Inspection</th>\n",
              "      <th>Total_Safety_Complaints</th>\n",
              "      <th>Control_Metric</th>\n",
              "      <th>Turbulence_In_gforces</th>\n",
              "      <th>Cabin_Temperature</th>\n",
              "      <th>Accident_Type_Code</th>\n",
              "      <th>Max_Elevation</th>\n",
              "      <th>Violations</th>\n",
              "      <th>Adverse_Weather_Metric</th>\n",
              "      <th>Accident_ID</th>\n",
              "      <th>class</th>\n",
              "    </tr>\n",
              "  </thead>\n",
              "  <tbody>\n",
              "    <tr>\n",
              "      <th>0</th>\n",
              "      <td>49.223744</td>\n",
              "      <td>14</td>\n",
              "      <td>22</td>\n",
              "      <td>71.285324</td>\n",
              "      <td>0.272118</td>\n",
              "      <td>78.04</td>\n",
              "      <td>2</td>\n",
              "      <td>31335.47682</td>\n",
              "      <td>3</td>\n",
              "      <td>0.424352</td>\n",
              "      <td>7570</td>\n",
              "      <td>2</td>\n",
              "    </tr>\n",
              "    <tr>\n",
              "      <th>1</th>\n",
              "      <td>62.465753</td>\n",
              "      <td>10</td>\n",
              "      <td>27</td>\n",
              "      <td>72.288058</td>\n",
              "      <td>0.423939</td>\n",
              "      <td>84.54</td>\n",
              "      <td>2</td>\n",
              "      <td>26024.71106</td>\n",
              "      <td>2</td>\n",
              "      <td>0.352350</td>\n",
              "      <td>12128</td>\n",
              "      <td>2</td>\n",
              "    </tr>\n",
              "    <tr>\n",
              "      <th>2</th>\n",
              "      <td>63.059361</td>\n",
              "      <td>13</td>\n",
              "      <td>16</td>\n",
              "      <td>66.362808</td>\n",
              "      <td>0.322604</td>\n",
              "      <td>78.86</td>\n",
              "      <td>7</td>\n",
              "      <td>39269.05393</td>\n",
              "      <td>3</td>\n",
              "      <td>0.003364</td>\n",
              "      <td>2181</td>\n",
              "      <td>3</td>\n",
              "    </tr>\n",
              "    <tr>\n",
              "      <th>3</th>\n",
              "      <td>48.082192</td>\n",
              "      <td>11</td>\n",
              "      <td>9</td>\n",
              "      <td>74.703737</td>\n",
              "      <td>0.337029</td>\n",
              "      <td>81.79</td>\n",
              "      <td>3</td>\n",
              "      <td>42771.49920</td>\n",
              "      <td>1</td>\n",
              "      <td>0.211728</td>\n",
              "      <td>5946</td>\n",
              "      <td>1</td>\n",
              "    </tr>\n",
              "    <tr>\n",
              "      <th>4</th>\n",
              "      <td>26.484018</td>\n",
              "      <td>13</td>\n",
              "      <td>25</td>\n",
              "      <td>47.948952</td>\n",
              "      <td>0.541140</td>\n",
              "      <td>77.16</td>\n",
              "      <td>3</td>\n",
              "      <td>35509.22852</td>\n",
              "      <td>2</td>\n",
              "      <td>0.176883</td>\n",
              "      <td>9054</td>\n",
              "      <td>3</td>\n",
              "    </tr>\n",
              "  </tbody>\n",
              "</table>\n",
              "</div>"
            ],
            "text/plain": [
              "   Safety_Score  Days_Since_Inspection  ...  Accident_ID  class\n",
              "0     49.223744                     14  ...         7570      2\n",
              "1     62.465753                     10  ...        12128      2\n",
              "2     63.059361                     13  ...         2181      3\n",
              "3     48.082192                     11  ...         5946      1\n",
              "4     26.484018                     13  ...         9054      3\n",
              "\n",
              "[5 rows x 12 columns]"
            ]
          },
          "metadata": {
            "tags": []
          },
          "execution_count": 37
        }
      ]
    },
    {
      "cell_type": "code",
      "metadata": {
        "id": "aHB-ZKBO7KwJ",
        "colab_type": "code",
        "colab": {}
      },
      "source": [
        "X=df.drop('class',axis=1)\n",
        "y=df['class']"
      ],
      "execution_count": null,
      "outputs": []
    },
    {
      "cell_type": "code",
      "metadata": {
        "id": "zt36IuG37KwR",
        "colab_type": "code",
        "colab": {
          "base_uri": "https://localhost:8080/",
          "height": 215
        },
        "outputId": "eda4ee4e-ef72-4d40-f44d-bf9176ca02e8"
      },
      "source": [
        "X.head()"
      ],
      "execution_count": null,
      "outputs": [
        {
          "output_type": "execute_result",
          "data": {
            "text/html": [
              "<div>\n",
              "<style scoped>\n",
              "    .dataframe tbody tr th:only-of-type {\n",
              "        vertical-align: middle;\n",
              "    }\n",
              "\n",
              "    .dataframe tbody tr th {\n",
              "        vertical-align: top;\n",
              "    }\n",
              "\n",
              "    .dataframe thead th {\n",
              "        text-align: right;\n",
              "    }\n",
              "</style>\n",
              "<table border=\"1\" class=\"dataframe\">\n",
              "  <thead>\n",
              "    <tr style=\"text-align: right;\">\n",
              "      <th></th>\n",
              "      <th>Safety_Score</th>\n",
              "      <th>Days_Since_Inspection</th>\n",
              "      <th>Total_Safety_Complaints</th>\n",
              "      <th>Control_Metric</th>\n",
              "      <th>Turbulence_In_gforces</th>\n",
              "      <th>Cabin_Temperature</th>\n",
              "      <th>Accident_Type_Code</th>\n",
              "      <th>Max_Elevation</th>\n",
              "      <th>Violations</th>\n",
              "      <th>Adverse_Weather_Metric</th>\n",
              "      <th>Accident_ID</th>\n",
              "    </tr>\n",
              "  </thead>\n",
              "  <tbody>\n",
              "    <tr>\n",
              "      <th>0</th>\n",
              "      <td>49.223744</td>\n",
              "      <td>14</td>\n",
              "      <td>22</td>\n",
              "      <td>71.285324</td>\n",
              "      <td>0.272118</td>\n",
              "      <td>78.04</td>\n",
              "      <td>2</td>\n",
              "      <td>31335.47682</td>\n",
              "      <td>3</td>\n",
              "      <td>0.424352</td>\n",
              "      <td>7570</td>\n",
              "    </tr>\n",
              "    <tr>\n",
              "      <th>1</th>\n",
              "      <td>62.465753</td>\n",
              "      <td>10</td>\n",
              "      <td>27</td>\n",
              "      <td>72.288058</td>\n",
              "      <td>0.423939</td>\n",
              "      <td>84.54</td>\n",
              "      <td>2</td>\n",
              "      <td>26024.71106</td>\n",
              "      <td>2</td>\n",
              "      <td>0.352350</td>\n",
              "      <td>12128</td>\n",
              "    </tr>\n",
              "    <tr>\n",
              "      <th>2</th>\n",
              "      <td>63.059361</td>\n",
              "      <td>13</td>\n",
              "      <td>16</td>\n",
              "      <td>66.362808</td>\n",
              "      <td>0.322604</td>\n",
              "      <td>78.86</td>\n",
              "      <td>7</td>\n",
              "      <td>39269.05393</td>\n",
              "      <td>3</td>\n",
              "      <td>0.003364</td>\n",
              "      <td>2181</td>\n",
              "    </tr>\n",
              "    <tr>\n",
              "      <th>3</th>\n",
              "      <td>48.082192</td>\n",
              "      <td>11</td>\n",
              "      <td>9</td>\n",
              "      <td>74.703737</td>\n",
              "      <td>0.337029</td>\n",
              "      <td>81.79</td>\n",
              "      <td>3</td>\n",
              "      <td>42771.49920</td>\n",
              "      <td>1</td>\n",
              "      <td>0.211728</td>\n",
              "      <td>5946</td>\n",
              "    </tr>\n",
              "    <tr>\n",
              "      <th>4</th>\n",
              "      <td>26.484018</td>\n",
              "      <td>13</td>\n",
              "      <td>25</td>\n",
              "      <td>47.948952</td>\n",
              "      <td>0.541140</td>\n",
              "      <td>77.16</td>\n",
              "      <td>3</td>\n",
              "      <td>35509.22852</td>\n",
              "      <td>2</td>\n",
              "      <td>0.176883</td>\n",
              "      <td>9054</td>\n",
              "    </tr>\n",
              "  </tbody>\n",
              "</table>\n",
              "</div>"
            ],
            "text/plain": [
              "   Safety_Score  Days_Since_Inspection  ...  Adverse_Weather_Metric  Accident_ID\n",
              "0     49.223744                     14  ...                0.424352         7570\n",
              "1     62.465753                     10  ...                0.352350        12128\n",
              "2     63.059361                     13  ...                0.003364         2181\n",
              "3     48.082192                     11  ...                0.211728         5946\n",
              "4     26.484018                     13  ...                0.176883         9054\n",
              "\n",
              "[5 rows x 11 columns]"
            ]
          },
          "metadata": {
            "tags": []
          },
          "execution_count": 39
        }
      ]
    },
    {
      "cell_type": "code",
      "metadata": {
        "id": "dY3eHwLf7KwX",
        "colab_type": "code",
        "colab": {
          "base_uri": "https://localhost:8080/",
          "height": 118
        },
        "outputId": "fc433bc1-e77c-4ddd-b096-09d6943d16d1"
      },
      "source": [
        "y.head()"
      ],
      "execution_count": null,
      "outputs": [
        {
          "output_type": "execute_result",
          "data": {
            "text/plain": [
              "0    2\n",
              "1    2\n",
              "2    3\n",
              "3    1\n",
              "4    3\n",
              "Name: class, dtype: int64"
            ]
          },
          "metadata": {
            "tags": []
          },
          "execution_count": 40
        }
      ]
    },
    {
      "cell_type": "markdown",
      "metadata": {
        "id": "by1TX_Z17Kwb",
        "colab_type": "text"
      },
      "source": [
        "# splitting the data"
      ]
    },
    {
      "cell_type": "code",
      "metadata": {
        "id": "Z6QXcNzI7Kwb",
        "colab_type": "code",
        "colab": {}
      },
      "source": [
        "from sklearn.model_selection import train_test_split\n",
        "from sklearn.preprocessing import StandardScaler"
      ],
      "execution_count": null,
      "outputs": []
    },
    {
      "cell_type": "markdown",
      "metadata": {
        "id": "v3nmDdmJBJfs",
        "colab_type": "text"
      },
      "source": [
        "# **Normalizating the data**"
      ]
    },
    {
      "cell_type": "code",
      "metadata": {
        "id": "6FPn9Ql17Kwf",
        "colab_type": "code",
        "colab": {}
      },
      "source": [
        "\n",
        "X=StandardScaler().fit(X).transform(X.astype(float))"
      ],
      "execution_count": null,
      "outputs": []
    },
    {
      "cell_type": "code",
      "metadata": {
        "id": "8Se1BpNi7Kwm",
        "colab_type": "code",
        "colab": {
          "base_uri": "https://localhost:8080/",
          "height": 235
        },
        "outputId": "6262372d-a479-42e2-879c-b3f6a5d66330"
      },
      "source": [
        "X"
      ],
      "execution_count": null,
      "outputs": [
        {
          "output_type": "execute_result",
          "data": {
            "text/plain": [
              "array([[ 0.45530256,  0.30198105,  2.2140724 , ...,  0.94987305,\n",
              "         0.44270091,  0.36106634],\n",
              "       [ 1.2758883 , -0.82808182,  2.93126449, ..., -0.01173158,\n",
              "         0.25377304,  1.6236738 ],\n",
              "       [ 1.31267317,  0.01946533,  1.35344189, ...,  0.94987305,\n",
              "        -0.66193896, -1.13173567],\n",
              "       ...,\n",
              "       [-0.86895304,  1.1495282 , -0.79813439, ...,  0.94987305,\n",
              "        -0.22949275, -1.56636294],\n",
              "       [ 0.88823228, -1.39311325, -0.94157281, ..., -0.01173158,\n",
              "        -0.60154411, -0.36109637],\n",
              "       [ 0.50340586,  0.01946533, -0.51125756, ..., -0.01173158,\n",
              "        -0.62606475,  0.86439187]])"
            ]
          },
          "metadata": {
            "tags": []
          },
          "execution_count": 43
        }
      ]
    },
    {
      "cell_type": "code",
      "metadata": {
        "id": "MIUxStao7Kwp",
        "colab_type": "code",
        "colab": {
          "base_uri": "https://localhost:8080/",
          "height": 50
        },
        "outputId": "243278ea-c560-4ab7-f652-283c419cec24"
      },
      "source": [
        "X_train,X_test,y_train,y_test=train_test_split(X,y,test_size=0.2,random_state=0)\n",
        "print('size of train set',X_train.shape,y_train.shape)\n",
        "print('size of test set',X_test.shape,y_test.shape)"
      ],
      "execution_count": null,
      "outputs": [
        {
          "output_type": "stream",
          "text": [
            "size of train set (8000, 11) (8000,)\n",
            "size of test set (2000, 11) (2000,)\n"
          ],
          "name": "stdout"
        }
      ]
    },
    {
      "cell_type": "markdown",
      "metadata": {
        "id": "I4A6Nsw-RmaP",
        "colab_type": "text"
      },
      "source": [
        "# **I have build models by four algorithms and then compare which algoritms has best accuracy.Algoriths are:-** \n",
        "\n",
        "1.   K Nearest Neighbour(KNN)\n",
        "2.  Support Vector Machine(SVM)\n",
        "3.  Random Forest Classifier\n",
        "2.  Logistic Regression\n",
        "\n",
        "\n",
        "\n"
      ]
    },
    {
      "cell_type": "markdown",
      "metadata": {
        "id": "CHijO_Vi7Kwy",
        "colab_type": "text"
      },
      "source": [
        "# **Model Training**"
      ]
    },
    {
      "cell_type": "markdown",
      "metadata": {
        "id": "u3XbATGg7Kw1",
        "colab_type": "text"
      },
      "source": [
        "## 1.KNN Classifier"
      ]
    },
    {
      "cell_type": "code",
      "metadata": {
        "id": "X-IMpKOW7Kw2",
        "colab_type": "code",
        "colab": {}
      },
      "source": [
        "from sklearn.neighbors import KNeighborsClassifier"
      ],
      "execution_count": null,
      "outputs": []
    },
    {
      "cell_type": "code",
      "metadata": {
        "id": "tO7QHJ0A7Kw6",
        "colab_type": "code",
        "colab": {}
      },
      "source": [
        "\n",
        "k=4\n",
        "model=KNeighborsClassifier(n_neighbors=k)"
      ],
      "execution_count": null,
      "outputs": []
    },
    {
      "cell_type": "code",
      "metadata": {
        "id": "_jul7_2L7KxA",
        "colab_type": "code",
        "colab": {
          "base_uri": "https://localhost:8080/",
          "height": 67
        },
        "outputId": "1a702840-5b3f-4e67-d44c-b0937c737b62"
      },
      "source": [
        "model.fit(X_train,y_train)"
      ],
      "execution_count": null,
      "outputs": [
        {
          "output_type": "execute_result",
          "data": {
            "text/plain": [
              "KNeighborsClassifier(algorithm='auto', leaf_size=30, metric='minkowski',\n",
              "                     metric_params=None, n_jobs=None, n_neighbors=4, p=2,\n",
              "                     weights='uniform')"
            ]
          },
          "metadata": {
            "tags": []
          },
          "execution_count": 47
        }
      ]
    },
    {
      "cell_type": "code",
      "metadata": {
        "id": "DZ1yzL2H7KxE",
        "colab_type": "code",
        "colab": {}
      },
      "source": [
        "pred=model.predict(X_test)"
      ],
      "execution_count": null,
      "outputs": []
    },
    {
      "cell_type": "code",
      "metadata": {
        "id": "QA_HvKnA7KxJ",
        "colab_type": "code",
        "colab": {
          "base_uri": "https://localhost:8080/",
          "height": 34
        },
        "outputId": "d0246c99-59d4-4826-cf0f-a49af60e95de"
      },
      "source": [
        "pred"
      ],
      "execution_count": null,
      "outputs": [
        {
          "output_type": "execute_result",
          "data": {
            "text/plain": [
              "array([0, 0, 2, ..., 1, 0, 1])"
            ]
          },
          "metadata": {
            "tags": []
          },
          "execution_count": 49
        }
      ]
    },
    {
      "cell_type": "code",
      "metadata": {
        "id": "RwdMd2Y47KxM",
        "colab_type": "code",
        "colab": {}
      },
      "source": [
        "\n",
        "from sklearn.metrics import accuracy_score,confusion_matrix,f1_score,classification_report,log_loss"
      ],
      "execution_count": null,
      "outputs": []
    },
    {
      "cell_type": "code",
      "metadata": {
        "id": "RoMRUBvu7KxQ",
        "colab_type": "code",
        "colab": {
          "base_uri": "https://localhost:8080/",
          "height": 202
        },
        "outputId": "33e75423-876e-44eb-d23d-72ae63127d61"
      },
      "source": [
        "print(classification_report(pred,y_test))"
      ],
      "execution_count": null,
      "outputs": [
        {
          "output_type": "stream",
          "text": [
            "              precision    recall  f1-score   support\n",
            "\n",
            "           0       0.76      0.67      0.71       709\n",
            "           1       0.64      0.62      0.63       593\n",
            "           2       0.59      0.62      0.61       466\n",
            "           3       0.54      0.73      0.62       232\n",
            "\n",
            "    accuracy                           0.65      2000\n",
            "   macro avg       0.63      0.66      0.64      2000\n",
            "weighted avg       0.66      0.65      0.65      2000\n",
            "\n"
          ],
          "name": "stdout"
        }
      ]
    },
    {
      "cell_type": "markdown",
      "metadata": {
        "id": "i4FK7POlB6IO",
        "colab_type": "text"
      },
      "source": [
        "# **Chossing the best value of K for KNN**"
      ]
    },
    {
      "cell_type": "code",
      "metadata": {
        "id": "YRXtiTS-7KxT",
        "colab_type": "code",
        "colab": {
          "base_uri": "https://localhost:8080/",
          "height": 67
        },
        "outputId": "6f396756-96ac-4956-cb3f-9ba791251a95"
      },
      "source": [
        "\n",
        "k_val=20\n",
        "mean_acc=np.zeros((k_val-1))\n",
        "for n in range(1,k_val):\n",
        "    model1=KNeighborsClassifier(n_neighbors=n)\n",
        "    model1.fit(X_train,y_train)\n",
        "    pred=model1.predict(X_test)\n",
        "    mean_acc[n-1]=accuracy_score(pred,y_test)\n",
        "\n",
        "\n",
        "mean_acc"
      ],
      "execution_count": null,
      "outputs": [
        {
          "output_type": "execute_result",
          "data": {
            "text/plain": [
              "array([0.6315, 0.607 , 0.641 , 0.6515, 0.6565, 0.671 , 0.662 , 0.665 ,\n",
              "       0.6675, 0.6595, 0.6635, 0.676 , 0.663 , 0.6645, 0.666 , 0.6705,\n",
              "       0.668 , 0.6675, 0.662 ])"
            ]
          },
          "metadata": {
            "tags": []
          },
          "execution_count": 52
        }
      ]
    },
    {
      "cell_type": "code",
      "metadata": {
        "id": "omUidBhT7KxY",
        "colab_type": "code",
        "colab": {}
      },
      "source": [
        "p=np.arange(1,k_val)"
      ],
      "execution_count": null,
      "outputs": []
    },
    {
      "cell_type": "code",
      "metadata": {
        "id": "rrY_tyic7Kxc",
        "colab_type": "code",
        "colab": {
          "base_uri": "https://localhost:8080/",
          "height": 585
        },
        "outputId": "d02537a5-29d1-446c-eb58-1d42595e2226"
      },
      "source": [
        "plt.style.use('ggplot')\n",
        "with plt.style.context('dark_background'):\n",
        "    plt.figure(figsize=(12,8))\n",
        "    plt.plot(p,mean_acc,marker='o', markerfacecolor='red', linestyle='dashed', color='green', markersize=10)\n",
        "    plt.legend(('Accuracy ', '+/- 3xstd'))\n",
        "    plt.ylabel('Accuracy ')\n",
        "    plt.xlabel('Number of Nabors (K)')\n",
        "    plt.tight_layout()\n",
        "plt.show()"
      ],
      "execution_count": null,
      "outputs": [
        {
          "output_type": "display_data",
          "data": {
            "image/png": "[encoded data removed]",
            "text/plain": [
              "<Figure size 864x576 with 1 Axes>"
            ]
          },
          "metadata": {
            "tags": []
          }
        }
      ]
    },
    {
      "cell_type": "code",
      "metadata": {
        "id": "uNueFtnm7Kxh",
        "colab_type": "code",
        "colab": {
          "base_uri": "https://localhost:8080/",
          "height": 34
        },
        "outputId": "3aa4de9f-9318-4639-a2c8-3b5445a4ba4d"
      },
      "source": [
        "print(\"best accuracy is\",mean_acc.max(),'for k value=',mean_acc.argmax())"
      ],
      "execution_count": null,
      "outputs": [
        {
          "output_type": "stream",
          "text": [
            "best accuracy is 0.676 for k value= 11\n"
          ],
          "name": "stdout"
        }
      ]
    },
    {
      "cell_type": "markdown",
      "metadata": {
        "id": "irBuvv-r7Kxl",
        "colab_type": "text"
      },
      "source": [
        "## 2.Support Vector Machines"
      ]
    },
    {
      "cell_type": "code",
      "metadata": {
        "id": "AMSWLc2P7Kxl",
        "colab_type": "code",
        "colab": {}
      },
      "source": [
        "from sklearn import svm"
      ],
      "execution_count": null,
      "outputs": []
    },
    {
      "cell_type": "code",
      "metadata": {
        "id": "tAucHVX17Kxo",
        "colab_type": "code",
        "colab": {
          "base_uri": "https://localhost:8080/",
          "height": 84
        },
        "outputId": "b91bde45-4878-497b-f089-c1df56b42b0e"
      },
      "source": [
        "clf = svm.SVC(kernel='rbf')\n",
        "clf.fit(X_train, y_train)\n",
        " "
      ],
      "execution_count": null,
      "outputs": [
        {
          "output_type": "execute_result",
          "data": {
            "text/plain": [
              "SVC(C=1.0, break_ties=False, cache_size=200, class_weight=None, coef0=0.0,\n",
              "    decision_function_shape='ovr', degree=3, gamma='scale', kernel='rbf',\n",
              "    max_iter=-1, probability=False, random_state=None, shrinking=True,\n",
              "    tol=0.001, verbose=False)"
            ]
          },
          "metadata": {
            "tags": []
          },
          "execution_count": 57
        }
      ]
    },
    {
      "cell_type": "code",
      "metadata": {
        "id": "Wd2fWSOz7Kxt",
        "colab_type": "code",
        "colab": {}
      },
      "source": [
        "yhat = clf.predict(X_test)"
      ],
      "execution_count": null,
      "outputs": []
    },
    {
      "cell_type": "code",
      "metadata": {
        "id": "44IQBrI27Kxx",
        "colab_type": "code",
        "colab": {
          "base_uri": "https://localhost:8080/",
          "height": 202
        },
        "outputId": "755fca31-ad50-4a10-e99c-d29d59cc6b13"
      },
      "source": [
        "# SVM has perform better than KNN\n",
        "print(classification_report(yhat,y_test))"
      ],
      "execution_count": null,
      "outputs": [
        {
          "output_type": "stream",
          "text": [
            "              precision    recall  f1-score   support\n",
            "\n",
            "           0       0.84      0.86      0.85       604\n",
            "           1       0.88      0.91      0.89       556\n",
            "           2       0.89      0.79      0.84       553\n",
            "           3       0.84      0.92      0.88       287\n",
            "\n",
            "    accuracy                           0.86      2000\n",
            "   macro avg       0.86      0.87      0.87      2000\n",
            "weighted avg       0.87      0.86      0.86      2000\n",
            "\n"
          ],
          "name": "stdout"
        }
      ]
    },
    {
      "cell_type": "code",
      "metadata": {
        "id": "xNI4MQK87Kxz",
        "colab_type": "code",
        "colab": {
          "base_uri": "https://localhost:8080/",
          "height": 84
        },
        "outputId": "85070df5-9bed-40db-b5ff-a46d63e2faed"
      },
      "source": [
        "confusion_matrix(yhat,y_test)"
      ],
      "execution_count": null,
      "outputs": [
        {
          "output_type": "execute_result",
          "data": {
            "text/plain": [
              "array([[522,  34,  22,  26],\n",
              "       [ 13, 505,  30,   8],\n",
              "       [ 69,  30, 439,  15],\n",
              "       [ 16,   6,   2, 263]])"
            ]
          },
          "metadata": {
            "tags": []
          },
          "execution_count": 60
        }
      ]
    },
    {
      "cell_type": "markdown",
      "metadata": {
        "id": "rzfJfUeMHyKI",
        "colab_type": "text"
      },
      "source": [
        "# **Hyperparameter tuning with GridSearchCV**"
      ]
    },
    {
      "cell_type": "code",
      "metadata": {
        "id": "GY9H7o03H7yA",
        "colab_type": "code",
        "colab": {}
      },
      "source": [
        "# Applying Grid Search to find the best model and the best parameters\n",
        "from sklearn.model_selection import GridSearchCV\n",
        "parameters = [{'C': [1, 10, 100, 1000], 'kernel': ['linear']},\n",
        "              {'C': [1, 10, 100, 1000], 'kernel': ['rbf'], 'gamma': [0.1, 0.2, 0.3, 0.4, 0.5, 0.6, 0.7, 0.8, 0.9]}]\n",
        "grid_search = GridSearchCV(estimator = clf,\n",
        "                           param_grid = parameters,\n",
        "                           scoring = 'accuracy',\n",
        "                           cv = 10,\n",
        "                           n_jobs = -1)\n",
        "grid_search = grid_search.fit(X_train, y_train)"
      ],
      "execution_count": null,
      "outputs": []
    },
    {
      "cell_type": "code",
      "metadata": {
        "id": "HSEmNTfuH8ca",
        "colab_type": "code",
        "colab": {}
      },
      "source": [
        "\n",
        "accuracy = grid_search.best_score_"
      ],
      "execution_count": null,
      "outputs": []
    },
    {
      "cell_type": "code",
      "metadata": {
        "id": "x62_ZqeIH8qd",
        "colab_type": "code",
        "colab": {
          "base_uri": "https://localhost:8080/",
          "height": 34
        },
        "outputId": "50cc48ac-0a35-4aad-cfb0-6ec3f5381726"
      },
      "source": [
        "accuracy"
      ],
      "execution_count": null,
      "outputs": [
        {
          "output_type": "execute_result",
          "data": {
            "text/plain": [
              "0.8952500000000001"
            ]
          },
          "metadata": {
            "tags": []
          },
          "execution_count": 95
        }
      ]
    },
    {
      "cell_type": "code",
      "metadata": {
        "id": "uvlD8YL9H8z4",
        "colab_type": "code",
        "colab": {
          "base_uri": "https://localhost:8080/",
          "height": 34
        },
        "outputId": "a98e45b7-ab0f-43ef-e3b1-43484e6a8695"
      },
      "source": [
        "grid_search.best_params_"
      ],
      "execution_count": null,
      "outputs": [
        {
          "output_type": "execute_result",
          "data": {
            "text/plain": [
              "{'C': 10, 'gamma': 0.1, 'kernel': 'rbf'}"
            ]
          },
          "metadata": {
            "tags": []
          },
          "execution_count": 96
        }
      ]
    },
    {
      "cell_type": "code",
      "metadata": {
        "id": "PPxZokSVH8va",
        "colab_type": "code",
        "colab": {}
      },
      "source": [
        ""
      ],
      "execution_count": null,
      "outputs": []
    },
    {
      "cell_type": "markdown",
      "metadata": {
        "id": "ZjbVGx-37Kx5",
        "colab_type": "text"
      },
      "source": [
        "# 3.Random Forest Classifier"
      ]
    },
    {
      "cell_type": "code",
      "metadata": {
        "id": "1yf9heYg7Kx6",
        "colab_type": "code",
        "colab": {
          "base_uri": "https://localhost:8080/",
          "height": 34
        },
        "outputId": "55e1d97b-0973-4e92-9b67-24bb626ed60a"
      },
      "source": [
        "# import Random Forest classifier\n",
        "from sklearn.ensemble import RandomForestClassifier\n",
        "\n",
        "# instantiate the classifier \n",
        "rfc = RandomForestClassifier(random_state=0)\n",
        "\n",
        "# fit the model\n",
        "rfc.fit(X_train, y_train)\n",
        "\n",
        "# Predict the Test set results\n",
        "y_pred = rfc.predict(X_test)\n",
        "\n",
        "print('Model accuracy score with 10 decision-trees : {0:0.4f}'. format(accuracy_score(y_test, y_pred)))"
      ],
      "execution_count": null,
      "outputs": [
        {
          "output_type": "stream",
          "text": [
            "Model accuracy score with 10 decision-trees : 0.9145\n"
          ],
          "name": "stdout"
        }
      ]
    },
    {
      "cell_type": "markdown",
      "metadata": {
        "id": "2INwOIyF7Kx8",
        "colab_type": "text"
      },
      "source": [
        "# **HyperParameter Tuning using RandomizedSearchCV**"
      ]
    },
    {
      "cell_type": "code",
      "metadata": {
        "id": "kF47Y0DtEzVQ",
        "colab_type": "code",
        "colab": {}
      },
      "source": [
        ""
      ],
      "execution_count": null,
      "outputs": []
    },
    {
      "cell_type": "code",
      "metadata": {
        "id": "mnHWkEsI7KyB",
        "colab_type": "code",
        "colab": {}
      },
      "source": [
        "from sklearn.model_selection import RandomizedSearchCV\n",
        "from scipy.stats import randint"
      ],
      "execution_count": null,
      "outputs": []
    },
    {
      "cell_type": "code",
      "metadata": {
        "id": "7lOlJXPS7KyD",
        "colab_type": "code",
        "colab": {}
      },
      "source": [
        "model=RandomForestClassifier(n_jobs=-1)"
      ],
      "execution_count": null,
      "outputs": []
    },
    {
      "cell_type": "code",
      "metadata": {
        "id": "krq9UG2H7KyF",
        "colab_type": "code",
        "colab": {}
      },
      "source": [
        "parameters={'max_depth':[3,5,7,10,None],\n",
        "           'n_estimators':[100,200,300,400,500],\n",
        "           'max_features':randint(1,13),\n",
        "           'criterion':['gini','entropy'],\n",
        "           'bootstrap':[True,False],\n",
        "           'min_samples_leaf':randint(1,5)}"
      ],
      "execution_count": null,
      "outputs": []
    },
    {
      "cell_type": "code",
      "metadata": {
        "id": "kqcy1OX07KyH",
        "colab_type": "code",
        "colab": {}
      },
      "source": [
        "def hyperparameter_tuning(model,parameters,n_of_itern,X_train,y_train):\n",
        "    random_search=RandomizedSearchCV(estimator=model,\n",
        "                                    param_distributions=parameters,\n",
        "                                    n_jobs=-1,\n",
        "                                     n_iter=n_of_itern,\n",
        "                                     cv=9)\n",
        "    random_search.fit(X_train,y_train)\n",
        "    params=random_search.best_params_\n",
        "    score=random_search.best_score_\n",
        "    return params,score"
      ],
      "execution_count": null,
      "outputs": []
    },
    {
      "cell_type": "code",
      "metadata": {
        "id": "G1slK2lN7KyJ",
        "colab_type": "code",
        "colab": {}
      },
      "source": [
        "final_params,final_score=hyperparameter_tuning(model,parameters,40,X_train,y_train)"
      ],
      "execution_count": null,
      "outputs": []
    },
    {
      "cell_type": "markdown",
      "metadata": {
        "id": "Y3uc1qSkHhBq",
        "colab_type": "text"
      },
      "source": [
        "**Tuned parameters are:**"
      ]
    },
    {
      "cell_type": "code",
      "metadata": {
        "id": "UZD0ndjv7KyL",
        "colab_type": "code",
        "colab": {
          "base_uri": "https://localhost:8080/",
          "height": 118
        },
        "outputId": "7472eb6f-b236-41cc-a481-3ee574b11c20"
      },
      "source": [
        "#this is our final best parameters for random forest classifier\n",
        "final_params"
      ],
      "execution_count": null,
      "outputs": [
        {
          "output_type": "execute_result",
          "data": {
            "text/plain": [
              "{'bootstrap': False,\n",
              " 'criterion': 'entropy',\n",
              " 'max_depth': None,\n",
              " 'max_features': 7,\n",
              " 'min_samples_leaf': 2,\n",
              " 'n_estimators': 300}"
            ]
          },
          "metadata": {
            "tags": []
          },
          "execution_count": 80
        }
      ]
    },
    {
      "cell_type": "code",
      "metadata": {
        "id": "v14jK-VJ7KyN",
        "colab_type": "code",
        "colab": {
          "base_uri": "https://localhost:8080/",
          "height": 34
        },
        "outputId": "e840d7ac-0de8-4d19-c6e4-ef375dd10f9e"
      },
      "source": [
        "# final accuracy with tuned parameters\n",
        "final_score"
      ],
      "execution_count": null,
      "outputs": [
        {
          "output_type": "execute_result",
          "data": {
            "text/plain": [
              "0.9505004160515972"
            ]
          },
          "metadata": {
            "tags": []
          },
          "execution_count": 91
        }
      ]
    },
    {
      "cell_type": "markdown",
      "metadata": {
        "id": "GcKWXXTnFcoI",
        "colab_type": "text"
      },
      "source": [
        "# Building the model again"
      ]
    },
    {
      "cell_type": "code",
      "metadata": {
        "id": "wZd5N4br7KyR",
        "colab_type": "code",
        "colab": {
          "base_uri": "https://localhost:8080/",
          "height": 34
        },
        "outputId": "d7225f66-1f15-42e7-d659-a0c1a8125c8d"
      },
      "source": [
        "# import Random Forest classifier\n",
        "from sklearn.ensemble import RandomForestClassifier\n",
        "\n",
        "# instantiate the classifier \n",
        "rfc = RandomForestClassifier(n_estimators=300,\n",
        "                             criterion='entropy',\n",
        "                             max_depth=None,\n",
        "                             max_features=7,\n",
        "                             min_samples_leaf=2,\n",
        "                             bootstrap=False\n",
        "                             )\n",
        "                            \n",
        "\n",
        "# fit the model\n",
        "rfc.fit(X_train, y_train)\n",
        "\n",
        "# Predict the Test set results\n",
        "y_pred = rfc.predict(X_test)\n",
        "\n",
        "print('Model accuracy score with 10 decision-trees : {0:0.4f}'. format(accuracy_score(y_test, y_pred)))"
      ],
      "execution_count": null,
      "outputs": [
        {
          "output_type": "stream",
          "text": [
            "Model accuracy score with 10 decision-trees : 0.9540\n"
          ],
          "name": "stdout"
        }
      ]
    },
    {
      "cell_type": "code",
      "metadata": {
        "id": "XF3GWPVo7KyT",
        "colab_type": "code",
        "colab": {
          "base_uri": "https://localhost:8080/",
          "height": 202
        },
        "outputId": "c3df1403-8516-4c10-d72d-100859607500"
      },
      "source": [
        "print(classification_report(y_pred,y_test))"
      ],
      "execution_count": null,
      "outputs": [
        {
          "output_type": "stream",
          "text": [
            "              precision    recall  f1-score   support\n",
            "\n",
            "           0       0.95      0.96      0.96       615\n",
            "           1       0.95      0.96      0.96       569\n",
            "           2       0.96      0.95      0.95       500\n",
            "           3       0.95      0.94      0.94       316\n",
            "\n",
            "    accuracy                           0.95      2000\n",
            "   macro avg       0.95      0.95      0.95      2000\n",
            "weighted avg       0.95      0.95      0.95      2000\n",
            "\n"
          ],
          "name": "stdout"
        }
      ]
    },
    {
      "cell_type": "code",
      "metadata": {
        "id": "4R6S4WxC7KyV",
        "colab_type": "code",
        "colab": {
          "base_uri": "https://localhost:8080/",
          "height": 84
        },
        "outputId": "399f43cd-c066-4d3f-ec03-84348d366e46"
      },
      "source": [
        "print(confusion_matrix(y_pred,y_test))"
      ],
      "execution_count": null,
      "outputs": [
        {
          "output_type": "stream",
          "text": [
            "[[590   9  11   5]\n",
            " [  9 548   6   6]\n",
            " [  4  17 474   5]\n",
            " [ 17   1   2 296]]\n"
          ],
          "name": "stdout"
        }
      ]
    },
    {
      "cell_type": "markdown",
      "metadata": {
        "id": "aJ1vuGaV7Kyb",
        "colab_type": "text"
      },
      "source": [
        "# 4.Logistic Regresssion"
      ]
    },
    {
      "cell_type": "code",
      "metadata": {
        "id": "Y4bB_lVH7Kyc",
        "colab_type": "code",
        "colab": {}
      },
      "source": [
        "from sklearn.linear_model import LogisticRegression"
      ],
      "execution_count": null,
      "outputs": []
    },
    {
      "cell_type": "code",
      "metadata": {
        "id": "WLBPNXRe7Kyd",
        "colab_type": "code",
        "colab": {}
      },
      "source": [
        "log_reg=LogisticRegression()\n",
        "log_reg.fit(X_train,y_train)\n",
        "log_predict=log_reg.predict(X_test)"
      ],
      "execution_count": null,
      "outputs": []
    },
    {
      "cell_type": "code",
      "metadata": {
        "id": "UD-2ziEj7Kyg",
        "colab_type": "code",
        "colab": {
          "base_uri": "https://localhost:8080/",
          "height": 202
        },
        "outputId": "c918fe52-82ed-413a-d7ed-28c8037fc3f5"
      },
      "source": [
        "print(classification_report(log_predict,y_test))"
      ],
      "execution_count": null,
      "outputs": [
        {
          "output_type": "stream",
          "text": [
            "              precision    recall  f1-score   support\n",
            "\n",
            "           0       0.81      0.73      0.77       695\n",
            "           1       0.66      0.72      0.69       532\n",
            "           2       0.66      0.58      0.62       559\n",
            "           3       0.25      0.36      0.29       214\n",
            "\n",
            "    accuracy                           0.64      2000\n",
            "   macro avg       0.60      0.60      0.59      2000\n",
            "weighted avg       0.67      0.64      0.65      2000\n",
            "\n"
          ],
          "name": "stdout"
        }
      ]
    },
    {
      "cell_type": "code",
      "metadata": {
        "id": "TJSBqPOE7Kyk",
        "colab_type": "code",
        "colab": {
          "base_uri": "https://localhost:8080/",
          "height": 84
        },
        "outputId": "60cf8b40-c1e3-43e0-d332-5ba2aead9dbe"
      },
      "source": [
        "print(confusion_matrix(log_predict,y_test))"
      ],
      "execution_count": null,
      "outputs": [
        {
          "output_type": "stream",
          "text": [
            "[[505  61   1 128]\n",
            " [  6 381 110  35]\n",
            " [ 88  73 326  72]\n",
            " [ 21  60  56  77]]\n"
          ],
          "name": "stdout"
        }
      ]
    },
    {
      "cell_type": "markdown",
      "metadata": {
        "id": "GdYlvEL47Kyn",
        "colab_type": "text"
      },
      "source": [
        "# DataFrame for all the algorithms and their accuracy"
      ]
    },
    {
      "cell_type": "code",
      "metadata": {
        "id": "EbL391PG7Kyn",
        "colab_type": "code",
        "colab": {}
      },
      "source": [
        "data_dict={'Algorithms':['KNN', 'SVM', 'RandomForest', 'logistic regression'],'accuracy':[0.676,0.86,0.91,0.61],'accuracy_after_hyperparameter tuning':['-',0.89,0.95,'-']}\n",
        "accuracy_df=pd.DataFrame(data_dict)"
      ],
      "execution_count": null,
      "outputs": []
    },
    {
      "cell_type": "code",
      "metadata": {
        "id": "4SRfPKeM7Kyq",
        "colab_type": "code",
        "colab": {}
      },
      "source": [
        "accuracy_df.set_index('Algorithms',inplace=True)"
      ],
      "execution_count": null,
      "outputs": []
    },
    {
      "cell_type": "code",
      "metadata": {
        "id": "jW5PPmBx7Kyr",
        "colab_type": "code",
        "colab": {
          "base_uri": "https://localhost:8080/",
          "height": 195
        },
        "outputId": "af8075a2-86aa-4880-ab51-8e6d4aea1644"
      },
      "source": [
        "accuracy_df"
      ],
      "execution_count": null,
      "outputs": [
        {
          "output_type": "execute_result",
          "data": {
            "text/html": [
              "<div>\n",
              "<style scoped>\n",
              "    .dataframe tbody tr th:only-of-type {\n",
              "        vertical-align: middle;\n",
              "    }\n",
              "\n",
              "    .dataframe tbody tr th {\n",
              "        vertical-align: top;\n",
              "    }\n",
              "\n",
              "    .dataframe thead th {\n",
              "        text-align: right;\n",
              "    }\n",
              "</style>\n",
              "<table border=\"1\" class=\"dataframe\">\n",
              "  <thead>\n",
              "    <tr style=\"text-align: right;\">\n",
              "      <th></th>\n",
              "      <th>accuracy</th>\n",
              "      <th>accuracy_after_hyperparameter tuning</th>\n",
              "    </tr>\n",
              "    <tr>\n",
              "      <th>Algorithms</th>\n",
              "      <th></th>\n",
              "      <th></th>\n",
              "    </tr>\n",
              "  </thead>\n",
              "  <tbody>\n",
              "    <tr>\n",
              "      <th>KNN</th>\n",
              "      <td>0.676</td>\n",
              "      <td>-</td>\n",
              "    </tr>\n",
              "    <tr>\n",
              "      <th>SVM</th>\n",
              "      <td>0.860</td>\n",
              "      <td>0.89</td>\n",
              "    </tr>\n",
              "    <tr>\n",
              "      <th>RandomForest</th>\n",
              "      <td>0.910</td>\n",
              "      <td>0.95</td>\n",
              "    </tr>\n",
              "    <tr>\n",
              "      <th>logistic regression</th>\n",
              "      <td>0.610</td>\n",
              "      <td>-</td>\n",
              "    </tr>\n",
              "  </tbody>\n",
              "</table>\n",
              "</div>"
            ],
            "text/plain": [
              "                     accuracy accuracy_after_hyperparameter tuning\n",
              "Algorithms                                                        \n",
              "KNN                     0.676                                    -\n",
              "SVM                     0.860                                 0.89\n",
              "RandomForest            0.910                                 0.95\n",
              "logistic regression     0.610                                    -"
            ]
          },
          "metadata": {
            "tags": []
          },
          "execution_count": 99
        }
      ]
    },
    {
      "cell_type": "markdown",
      "metadata": {
        "id": "5YGW3rBq7Kyw",
        "colab_type": "text"
      },
      "source": [
        "# so we can see that RandomForest Classifier outperforms all other algorithms having accuracy of 95%."
      ]
    },
    {
      "cell_type": "code",
      "metadata": {
        "id": "h3xhiCCd7Kyw",
        "colab_type": "code",
        "colab": {}
      },
      "source": [
        ""
      ],
      "execution_count": null,
      "outputs": []
    }
  ]
}